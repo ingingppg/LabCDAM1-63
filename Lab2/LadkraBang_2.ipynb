{
 "cells": [
  {
   "cell_type": "markdown",
   "metadata": {},
   "source": [
    "# Foundation for Analysis in the Health Data\n",
    "\n",
    "This practice is modified from BerkeleyX Data8x(edX)'s practice labs.\n",
    "\n",
    "## Lab 2: Simulation, Estimation, Sampling & Inference\n"
   ]
  },
  {
   "cell_type": "code",
   "execution_count": 10,
   "metadata": {},
   "outputs": [],
   "source": [
    "import numpy as np\n",
    "from datascience import *\n",
    "\n",
    "import matplotlib\n",
    "%matplotlib inline\n",
    "import matplotlib.pyplot as plots\n",
    "plots.style.use('fivethirtyeight')"
   ]
  },
  {
   "cell_type": "markdown",
   "metadata": {},
   "source": [
    "# Sampling"
   ]
  },
  {
   "cell_type": "code",
   "execution_count": 11,
   "metadata": {},
   "outputs": [
    {
     "data": {
      "text/html": [
       "<table border=\"1\" class=\"dataframe\">\n",
       "    <thead>\n",
       "        <tr>\n",
       "            <th>face</th>\n",
       "        </tr>\n",
       "    </thead>\n",
       "    <tbody>\n",
       "        <tr>\n",
       "            <td>1   </td>\n",
       "        </tr>\n",
       "        <tr>\n",
       "            <td>2   </td>\n",
       "        </tr>\n",
       "        <tr>\n",
       "            <td>3   </td>\n",
       "        </tr>\n",
       "        <tr>\n",
       "            <td>4   </td>\n",
       "        </tr>\n",
       "        <tr>\n",
       "            <td>5   </td>\n",
       "        </tr>\n",
       "        <tr>\n",
       "            <td>6   </td>\n",
       "        </tr>\n",
       "    </tbody>\n",
       "</table>"
      ],
      "text/plain": [
       "face\n",
       "1\n",
       "2\n",
       "3\n",
       "4\n",
       "5\n",
       "6"
      ]
     },
     "execution_count": 11,
     "metadata": {},
     "output_type": "execute_result"
    }
   ],
   "source": [
    "# Playing dice \n",
    "die = Table().with_column('face', np.arange(6)+1)\n",
    "die"
   ]
  },
  {
   "cell_type": "code",
   "execution_count": 12,
   "metadata": {},
   "outputs": [
    {
     "data": {
      "image/png": "[encoded data removed]",
      "text/plain": [
       "<Figure size 432x288 with 1 Axes>"
      ]
     },
     "metadata": {},
     "output_type": "display_data"
    }
   ],
   "source": [
    "def face_hist(t):\n",
    "    t.hist('face', bins=np.arange(0.5, 7, 1), unit='face')\n",
    "    plots.xlabel('Face')\n",
    "\n",
    "face_hist(die)"
   ]
  },
  {
   "cell_type": "code",
   "execution_count": 13,
   "metadata": {},
   "outputs": [
    {
     "data": {
      "image/png": "[encoded data removed]",
      "text/plain": [
       "<Figure size 432x288 with 1 Axes>"
      ]
     },
     "metadata": {},
     "output_type": "display_data"
    }
   ],
   "source": [
    "# Try changing the sample size of 1000 to larger and smaller numbers\n",
    "face_hist(die.sample(1000))"
   ]
  },
  {
   "cell_type": "markdown",
   "metadata": {},
   "source": [
    "\n",
    "# Large Random Samples"
   ]
  },
  {
   "cell_type": "code",
   "execution_count": 14,
   "metadata": {},
   "outputs": [
    {
     "data": {
      "text/html": [
       "<table border=\"1\" class=\"dataframe\">\n",
       "    <thead>\n",
       "        <tr>\n",
       "            <th>Date</th> <th>Flight Number</th> <th>Destination</th> <th>Delay</th>\n",
       "        </tr>\n",
       "    </thead>\n",
       "    <tbody>\n",
       "        <tr>\n",
       "            <td>6/1/15</td> <td>73           </td> <td>HNL        </td> <td>257  </td>\n",
       "        </tr>\n",
       "        <tr>\n",
       "            <td>6/1/15</td> <td>217          </td> <td>EWR        </td> <td>28   </td>\n",
       "        </tr>\n",
       "        <tr>\n",
       "            <td>6/1/15</td> <td>237          </td> <td>STL        </td> <td>-3   </td>\n",
       "        </tr>\n",
       "        <tr>\n",
       "            <td>6/1/15</td> <td>250          </td> <td>SAN        </td> <td>0    </td>\n",
       "        </tr>\n",
       "        <tr>\n",
       "            <td>6/1/15</td> <td>267          </td> <td>PHL        </td> <td>64   </td>\n",
       "        </tr>\n",
       "        <tr>\n",
       "            <td>6/1/15</td> <td>273          </td> <td>SEA        </td> <td>-6   </td>\n",
       "        </tr>\n",
       "        <tr>\n",
       "            <td>6/1/15</td> <td>278          </td> <td>SEA        </td> <td>-8   </td>\n",
       "        </tr>\n",
       "        <tr>\n",
       "            <td>6/1/15</td> <td>292          </td> <td>EWR        </td> <td>12   </td>\n",
       "        </tr>\n",
       "        <tr>\n",
       "            <td>6/1/15</td> <td>300          </td> <td>HNL        </td> <td>20   </td>\n",
       "        </tr>\n",
       "        <tr>\n",
       "            <td>6/1/15</td> <td>317          </td> <td>IND        </td> <td>-10  </td>\n",
       "        </tr>\n",
       "    </tbody>\n",
       "</table>\n",
       "<p>... (13722 rows omitted)</p>"
      ],
      "text/plain": [
       "Date   | Flight Number | Destination | Delay\n",
       "6/1/15 | 73            | HNL         | 257\n",
       "6/1/15 | 217           | EWR         | 28\n",
       "6/1/15 | 237           | STL         | -3\n",
       "6/1/15 | 250           | SAN         | 0\n",
       "6/1/15 | 267           | PHL         | 64\n",
       "6/1/15 | 273           | SEA         | -6\n",
       "6/1/15 | 278           | SEA         | -8\n",
       "6/1/15 | 292           | EWR         | 12\n",
       "6/1/15 | 300           | HNL         | 20\n",
       "6/1/15 | 317           | IND         | -10\n",
       "... (13722 rows omitted)"
      ]
     },
     "execution_count": 14,
     "metadata": {},
     "output_type": "execute_result"
    }
   ],
   "source": [
    "# united.csv is provided, upload it!\n",
    "united = Table.read_table('united.csv')\n",
    "united"
   ]
  },
  {
   "cell_type": "code",
   "execution_count": 15,
   "metadata": {},
   "outputs": [
    {
     "data": {
      "image/png": "[encoded data removed]",
      "text/plain": [
       "<Figure size 432x288 with 1 Axes>"
      ]
     },
     "metadata": {},
     "output_type": "display_data"
    }
   ],
   "source": [
    "def delay_hist(t):\n",
    "    t.hist('Delay', unit='minute', bins=np.arange(-30, 301, 10))\n",
    "    \n",
    "delay_hist(united)"
   ]
  },
  {
   "cell_type": "code",
   "execution_count": 16,
   "metadata": {},
   "outputs": [
    {
     "data": {
      "image/png": "[encoded data removed]",
      "text/plain": [
       "<Figure size 432x288 with 1 Axes>"
      ]
     },
     "metadata": {},
     "output_type": "display_data"
    }
   ],
   "source": [
    "delay_hist(united.sample(1000))"
   ]
  },
  {
   "cell_type": "markdown",
   "metadata": {},
   "source": [
    "# Simulation"
   ]
  },
  {
   "cell_type": "code",
   "execution_count": 17,
   "metadata": {},
   "outputs": [
    {
     "data": {
      "text/plain": [
       "0.5177469135802468"
      ]
     },
     "execution_count": 17,
     "metadata": {},
     "output_type": "execute_result"
    }
   ],
   "source": [
    "k = 4\n",
    "1 - (5/6) ** 4"
   ]
  },
  {
   "cell_type": "code",
   "execution_count": 18,
   "metadata": {},
   "outputs": [
    {
     "data": {
      "text/plain": [
       "array([6, 4, 2, 5])"
      ]
     },
     "execution_count": 18,
     "metadata": {},
     "output_type": "execute_result"
    }
   ],
   "source": [
    "dice = np.arange(6) + 1\n",
    "rolls = np.random.choice(dice, k)\n",
    "rolls"
   ]
  },
  {
   "cell_type": "code",
   "execution_count": 19,
   "metadata": {},
   "outputs": [
    {
     "data": {
      "text/plain": [
       "1"
      ]
     },
     "execution_count": 19,
     "metadata": {},
     "output_type": "execute_result"
    }
   ],
   "source": [
    "sum(rolls == 6)"
   ]
  },
  {
   "cell_type": "code",
   "execution_count": 20,
   "metadata": {},
   "outputs": [
    {
     "data": {
      "text/plain": [
       "0.5153"
      ]
     },
     "execution_count": 20,
     "metadata": {},
     "output_type": "execute_result"
    }
   ],
   "source": [
    "trials = 10000\n",
    "successes = 0\n",
    "\n",
    "for _ in np.arange(trials):\n",
    "    rolls = np.random.choice(dice, k)\n",
    "    if sum(rolls == 6) > 0:\n",
    "        successes = successes + 1\n",
    "        \n",
    "successes / trials"
   ]
  },
  {
   "cell_type": "markdown",
   "metadata": {},
   "source": [
    "# Statistics\n",
    "A parameter is a number associated with the population, whereas a statistic is a number calculated from a sample from that population.Usually, all we have is a sample, and we're trying to guess about what's going on in the population, so the statistic is something that we can compute directly, but it might be different had we had a different sample.\n",
    "\n",
    "The parameter is what we'd like to know, and we're using our sample in order to make an estimate of what that parameter might be. So a statistic can be used as an estimate of a parameter,and by doing so, we're performing **statistical inference**.\n",
    "\n",
    "###### In the above cells, we created an estimate--\n",
    "an estimate of a particular event. What's the chance of getting at least one six? So our population is all the different outcomes that could possibly happen when rolling four dice. Each possible set of four outcomes has some probability, and only some of them contain a six. This number that we computed through the rules of probability is a parameter about the population of all four rolls of dice.\n",
    "\n",
    "This is an estimate that we computed empirically by running a simulation, but that estimate could have come out differently.\n",
    "We call this successes divided by trials--an estimate by simulation--so if we make many such estimates 10,000 times, and draw our histogram of the results. You can see the estimates were clustered around the true parameter and this is called the empirical distribution of a statistic.\n",
    "\n",
    "According to the law of averages, we would expect that as long as we perform this simulation many times, the empirical distribution of a statistic will resemble the probability distribution of that same statistic, and that means we don't really need to compute the probability distribution; we can just perform the simulation like we did and see that most\n",
    "of the values were right around the parameter.\n",
    "\n",
    "Understanding how statistics vary as you draw multiple samples is a core concept in statistics because when you learn about the world through observation, you need to understand how much you might have been deceived by the variability in the sampling procedure itself, and you need to be able to express that variability when you perform statistical inference."
   ]
  },
  {
   "cell_type": "code",
   "execution_count": 21,
   "metadata": {},
   "outputs": [
    {
     "ename": "KeyboardInterrupt",
     "evalue": "",
     "output_type": "error",
     "traceback": [
      "\u001b[1;31m---------------------------------------------------------------------------\u001b[0m",
      "\u001b[1;31mKeyboardInterrupt\u001b[0m                         Traceback (most recent call last)",
      "\u001b[1;32m<ipython-input-21-de4e9037e326>\u001b[0m in \u001b[0;36m<module>\u001b[1;34m\u001b[0m\n\u001b[0;32m     13\u001b[0m \u001b[0mestimates\u001b[0m \u001b[1;33m=\u001b[0m \u001b[1;33m[\u001b[0m\u001b[1;33m]\u001b[0m\u001b[1;33m\u001b[0m\u001b[1;33m\u001b[0m\u001b[0m\n\u001b[0;32m     14\u001b[0m \u001b[1;32mfor\u001b[0m \u001b[0m_\u001b[0m \u001b[1;32min\u001b[0m \u001b[0mnp\u001b[0m\u001b[1;33m.\u001b[0m\u001b[0marange\u001b[0m\u001b[1;33m(\u001b[0m\u001b[1;36m1000\u001b[0m\u001b[1;33m)\u001b[0m\u001b[1;33m:\u001b[0m\u001b[1;33m\u001b[0m\u001b[1;33m\u001b[0m\u001b[0m\n\u001b[1;32m---> 15\u001b[1;33m     \u001b[0mestimates\u001b[0m\u001b[1;33m.\u001b[0m\u001b[0mappend\u001b[0m\u001b[1;33m(\u001b[0m\u001b[0mestimate_by_simulation\u001b[0m\u001b[1;33m(\u001b[0m\u001b[1;36m10000\u001b[0m\u001b[1;33m)\u001b[0m\u001b[1;33m)\u001b[0m\u001b[1;33m\u001b[0m\u001b[1;33m\u001b[0m\u001b[0m\n\u001b[0m",
      "\u001b[1;32m<ipython-input-21-de4e9037e326>\u001b[0m in \u001b[0;36mestimate_by_simulation\u001b[1;34m(trials)\u001b[0m\n\u001b[0;32m      4\u001b[0m     \u001b[0msuccesses\u001b[0m \u001b[1;33m=\u001b[0m \u001b[1;36m0\u001b[0m\u001b[1;33m\u001b[0m\u001b[1;33m\u001b[0m\u001b[0m\n\u001b[0;32m      5\u001b[0m \u001b[1;33m\u001b[0m\u001b[0m\n\u001b[1;32m----> 6\u001b[1;33m     \u001b[1;32mfor\u001b[0m \u001b[0m_\u001b[0m \u001b[1;32min\u001b[0m \u001b[0mnp\u001b[0m\u001b[1;33m.\u001b[0m\u001b[0marange\u001b[0m\u001b[1;33m(\u001b[0m\u001b[0mtrials\u001b[0m\u001b[1;33m)\u001b[0m\u001b[1;33m:\u001b[0m\u001b[1;33m\u001b[0m\u001b[1;33m\u001b[0m\u001b[0m\n\u001b[0m\u001b[0;32m      7\u001b[0m         \u001b[0mrolls\u001b[0m \u001b[1;33m=\u001b[0m \u001b[0mnp\u001b[0m\u001b[1;33m.\u001b[0m\u001b[0mrandom\u001b[0m\u001b[1;33m.\u001b[0m\u001b[0mchoice\u001b[0m\u001b[1;33m(\u001b[0m\u001b[0mdice\u001b[0m\u001b[1;33m,\u001b[0m \u001b[0mk\u001b[0m\u001b[1;33m)\u001b[0m\u001b[1;33m\u001b[0m\u001b[1;33m\u001b[0m\u001b[0m\n\u001b[0;32m      8\u001b[0m         \u001b[1;32mif\u001b[0m \u001b[0msum\u001b[0m\u001b[1;33m(\u001b[0m\u001b[0mrolls\u001b[0m \u001b[1;33m==\u001b[0m \u001b[1;36m6\u001b[0m\u001b[1;33m)\u001b[0m \u001b[1;33m>\u001b[0m \u001b[1;36m0\u001b[0m\u001b[1;33m:\u001b[0m\u001b[1;33m\u001b[0m\u001b[1;33m\u001b[0m\u001b[0m\n",
      "\u001b[1;31mKeyboardInterrupt\u001b[0m: "
     ]
    }
   ],
   "source": [
    "# This cell will take a long time to run\n",
    "\n",
    "def estimate_by_simulation(trials):\n",
    "    successes = 0\n",
    "\n",
    "    for _ in np.arange(trials):\n",
    "        rolls = np.random.choice(dice, k)\n",
    "        if sum(rolls == 6) > 0:\n",
    "            successes = successes + 1\n",
    "\n",
    "    return successes / trials\n",
    "\n",
    "estimates = []\n",
    "for _ in np.arange(1000):\n",
    "    estimates.append(estimate_by_simulation(10000))"
   ]
  },
  {
   "cell_type": "code",
   "execution_count": 22,
   "metadata": {},
   "outputs": [
    {
     "data": {
      "image/png": "[encoded data removed]",
      "text/plain": [
       "<Figure size 432x288 with 1 Axes>"
      ]
     },
     "metadata": {},
     "output_type": "display_data"
    }
   ],
   "source": [
    "Table().with_column('Estimate', estimates).hist(bins=50, normed=False)"
   ]
  },
  {
   "cell_type": "markdown",
   "metadata": {},
   "source": [
    "# Inference (Part 1)\n",
    "### Overview\n",
    "Punishment for crime has many philosophical justifications. An important one is that fear of punishment may deter people from committing crimes.\n",
    "\n",
    "In the United States, some jurisdictions execute some people who are convicted of particularly serious crimes, such as murder. This punishment is called the death penalty or capital punishment. The death penalty is controversial, and deterrence has been one focal point of the debate. There are other reasons to support or oppose the death penalty, but in this project we'll focus on deterrence.\n",
    "\n",
    "The key question about deterrence is: Does instituting a death penalty as a punishment for murder actually reduce the number of murders?\n",
    "\n",
    "You might have a strong intuition in one direction, but the evidence turns out to be surprisingly complex. Different sides have variously argued that the death penalty has no deterrent effect and that each execution prevents 8 murders, all using statistical arguments! We'll try to come to our own conclusion.\n",
    "### Data\n",
    "The main data source for this project comes from a paper by three researchers, Dezhbakhsh, Rubin, and Shepherd. The dataset contains rates of various violent crimes for every year 1960-2003 (44 years) in every US state. The researchers compiled the data from the FBI's Uniform Crime Reports.\n",
    "\n",
    "Since crimes are committed by people, not states, we need to account for the number of people in each state when we're looking at state-level data. Murder rates are calculated as follows:\n",
    "\n",
    "$$\\text{murder rate for state X in year Y} = \\frac{\\text{number of murders in state X in year Y}}{\\text{population in state X in year Y}}*100000$$\n",
    "\n",
    "(Murder is rare, so we multiply by 100,000 just to avoid dealing with tiny numbers.)"
   ]
  },
  {
   "cell_type": "code",
   "execution_count": 4,
   "metadata": {},
   "outputs": [
    {
     "data": {
      "text/html": [
       "<table border=\"1\" class=\"dataframe\">\n",
       "    <thead>\n",
       "        <tr>\n",
       "            <th>State</th> <th>Year</th> <th>Population</th> <th>Murder Rate</th>\n",
       "        </tr>\n",
       "    </thead>\n",
       "    <tbody>\n",
       "        <tr>\n",
       "            <td>Alaska</td> <td>1960</td> <td>226,167   </td> <td>10.2       </td>\n",
       "        </tr>\n",
       "        <tr>\n",
       "            <td>Alaska</td> <td>1961</td> <td>234,000   </td> <td>11.5       </td>\n",
       "        </tr>\n",
       "        <tr>\n",
       "            <td>Alaska</td> <td>1962</td> <td>246,000   </td> <td>4.5        </td>\n",
       "        </tr>\n",
       "        <tr>\n",
       "            <td>Alaska</td> <td>1963</td> <td>248,000   </td> <td>6.5        </td>\n",
       "        </tr>\n",
       "        <tr>\n",
       "            <td>Alaska</td> <td>1964</td> <td>250,000   </td> <td>10.4       </td>\n",
       "        </tr>\n",
       "        <tr>\n",
       "            <td>Alaska</td> <td>1965</td> <td>253,000   </td> <td>6.3        </td>\n",
       "        </tr>\n",
       "        <tr>\n",
       "            <td>Alaska</td> <td>1966</td> <td>272,000   </td> <td>12.9       </td>\n",
       "        </tr>\n",
       "        <tr>\n",
       "            <td>Alaska</td> <td>1967</td> <td>272,000   </td> <td>9.6        </td>\n",
       "        </tr>\n",
       "        <tr>\n",
       "            <td>Alaska</td> <td>1968</td> <td>277,000   </td> <td>10.5       </td>\n",
       "        </tr>\n",
       "        <tr>\n",
       "            <td>Alaska</td> <td>1969</td> <td>282,000   </td> <td>10.6       </td>\n",
       "        </tr>\n",
       "    </tbody>\n",
       "</table>\n",
       "<p>... (2190 rows omitted)</p>"
      ],
      "text/plain": [
       "State  | Year | Population | Murder Rate\n",
       "Alaska | 1960 | 226,167    | 10.2\n",
       "Alaska | 1961 | 234,000    | 11.5\n",
       "Alaska | 1962 | 246,000    | 4.5\n",
       "Alaska | 1963 | 248,000    | 6.5\n",
       "Alaska | 1964 | 250,000    | 10.4\n",
       "Alaska | 1965 | 253,000    | 6.3\n",
       "Alaska | 1966 | 272,000    | 12.9\n",
       "Alaska | 1967 | 272,000    | 9.6\n",
       "Alaska | 1968 | 277,000    | 10.5\n",
       "Alaska | 1969 | 282,000    | 10.6\n",
       "... (2190 rows omitted)"
      ]
     },
     "execution_count": 4,
     "metadata": {},
     "output_type": "execute_result"
    }
   ],
   "source": [
    "# crime_rates.csv is provided, upload it!\n",
    "murder_rates = Table.read_table('crime_rates.csv').select('State', 'Year', 'Population', 'Murder Rate')\n",
    "murder_rates.set_format(\"Population\", NumberFormatter)"
   ]
  },
  {
   "cell_type": "markdown",
   "metadata": {},
   "source": [
    "### 1. Murder rates"
   ]
  },
  {
   "cell_type": "markdown",
   "metadata": {},
   "source": [
    "The murder_rates table isn't enough to demonstrate an association between crimes and punishments. We would like to check for an association between murder rates and the existence of capital punishment, for each pair of a state and a year.\n",
    "\n",
    "**Question 1.1.**\n",
    "What additional information will we need before we can check for that association? Assign extra_info to a Python list (i.e. [#] or [#, #, ...]) containing the number(s) for all of the additional facts below that we require in order to check for association.\n",
    "\n",
    "1) What year(s) the death penalty was introduced in each state (if any).\n",
    "\n",
    "2) Day to day data about when murders occurred.\n",
    "\n",
    "3) What year(s) the death penalty was abolished in each state (if any).\n",
    "\n",
    "4) Rates of other crimes in each state."
   ]
  },
  {
   "cell_type": "code",
   "execution_count": 5,
   "metadata": {},
   "outputs": [
    {
     "data": {
      "text/plain": [
       "[1, 3]"
      ]
     },
     "execution_count": 5,
     "metadata": {},
     "output_type": "execute_result"
    }
   ],
   "source": [
    "extra_info = [1,3]\n",
    "extra_info"
   ]
  },
  {
   "cell_type": "markdown",
   "metadata": {},
   "source": [
    "Murder rates vary over time, and different states exhibit different trends. The rates in some states change dramatically from year to year, while others are quite stable. Let's plot the murder rate trends for a few states, just to see the variety.\n",
    "\n",
    "**Question 1.2.** <br/>Draw a line plot with years on the horizontal axis and murder rates on the \n",
    "vertical axis. Include two lines: one for Alaska murder rates and one for Minnesota murder rates. Create this plot using a single call, `ak_mn.plot('Year')`.\n",
    "\n",
    "*Hint*: To create two lines, you will need create the table `ak_mn` with two columns of murder rates, in addition to a column of years. This table will have the following structure:\n",
    "\n",
    "| Year | Murder rate in Alaska | Murder rate in Minnesota |\n",
    "|------|-----------------------|--------------------------|\n",
    "| 1960 | 10.2                  | 1.2                      |\n",
    "| 1961 | 11.5                  | 1                        |\n",
    "| 1962 | 4.5                   | 0.9                      |\n",
    "\n",
    "<center>... (41 rows omitted)</center>"
   ]
  },
  {
   "cell_type": "code",
   "execution_count": 6,
   "metadata": {},
   "outputs": [
    {
     "data": {
      "text/html": [
       "<table border=\"1\" class=\"dataframe\">\n",
       "    <thead>\n",
       "        <tr>\n",
       "            <th>Year</th> <th>Murder rate in Alaska</th> <th>Murder rate in Minnesota</th>\n",
       "        </tr>\n",
       "    </thead>\n",
       "    <tbody>\n",
       "        <tr>\n",
       "            <td>1960</td> <td>10.2                 </td> <td>1.2                     </td>\n",
       "        </tr>\n",
       "        <tr>\n",
       "            <td>1961</td> <td>11.5                 </td> <td>1                       </td>\n",
       "        </tr>\n",
       "        <tr>\n",
       "            <td>1962</td> <td>4.5                  </td> <td>0.9                     </td>\n",
       "        </tr>\n",
       "        <tr>\n",
       "            <td>1963</td> <td>6.5                  </td> <td>1.2                     </td>\n",
       "        </tr>\n",
       "        <tr>\n",
       "            <td>1964</td> <td>10.4                 </td> <td>1.4                     </td>\n",
       "        </tr>\n",
       "        <tr>\n",
       "            <td>1965</td> <td>6.3                  </td> <td>1.4                     </td>\n",
       "        </tr>\n",
       "        <tr>\n",
       "            <td>1966</td> <td>12.9                 </td> <td>2.2                     </td>\n",
       "        </tr>\n",
       "        <tr>\n",
       "            <td>1967</td> <td>9.6                  </td> <td>1.6                     </td>\n",
       "        </tr>\n",
       "        <tr>\n",
       "            <td>1968</td> <td>10.5                 </td> <td>2.2                     </td>\n",
       "        </tr>\n",
       "        <tr>\n",
       "            <td>1969</td> <td>10.6                 </td> <td>1.9                     </td>\n",
       "        </tr>\n",
       "    </tbody>\n",
       "</table>\n",
       "<p>... (34 rows omitted)</p>"
      ],
      "text/plain": [
       "Year | Murder rate in Alaska | Murder rate in Minnesota\n",
       "1960 | 10.2                  | 1.2\n",
       "1961 | 11.5                  | 1\n",
       "1962 | 4.5                   | 0.9\n",
       "1963 | 6.5                   | 1.2\n",
       "1964 | 10.4                  | 1.4\n",
       "1965 | 6.3                   | 1.4\n",
       "1966 | 12.9                  | 2.2\n",
       "1967 | 9.6                   | 1.6\n",
       "1968 | 10.5                  | 2.2\n",
       "1969 | 10.6                  | 1.9\n",
       "... (34 rows omitted)"
      ]
     },
     "execution_count": 6,
     "metadata": {},
     "output_type": "execute_result"
    }
   ],
   "source": [
    "# The next lines are creating a table\n",
    "# containing only the Alaska information and one containing\n",
    "# only the Minnesota information.\n",
    "ak = murder_rates.where('State', 'Alaska').drop('State', 'Population').relabeled(1, 'Murder rate in Alaska')\n",
    "mn = murder_rates.where('State', 'Minnesota').drop('State', 'Population').relabeled(1, 'Murder rate in Minnesota')\n",
    "\n",
    "ak_mn = ak.join('Year',mn,'Year')\n",
    "ak_mn"
   ]
  },
  {
   "cell_type": "code",
   "execution_count": 7,
   "metadata": {},
   "outputs": [
    {
     "data": {
      "image/png": "[encoded data removed]",
      "text/plain": [
       "<Figure size 432x288 with 1 Axes>"
      ]
     },
     "metadata": {},
     "output_type": "display_data"
    }
   ],
   "source": [
    "# Draw line plot\n",
    "ak_mn.plot('Year')"
   ]
  },
  {
   "cell_type": "markdown",
   "metadata": {},
   "source": [
    "What about the murder rates of other states? Say, for example, California and New York? Fill in the cell below to plot the murder rates of different pairs of states. **Note:** this should use similar code to question 1.2, with only the variable names changed. The cell below creates a cool interactive module!"
   ]
  },
  {
   "cell_type": "code",
   "execution_count": 8,
   "metadata": {},
   "outputs": [
    {
     "data": {
      "application/vnd.jupyter.widget-view+json": {
       "model_id": "c41177130c3b4fcb880d5b79fa6e38aa",
       "version_major": 2,
       "version_minor": 0
      },
      "text/plain": [
       "interactive(children=(Dropdown(description='state1', index=4, options=('Alabama', 'Alaska', 'Arizona', 'Arkans…"
      ]
     },
     "metadata": {},
     "output_type": "display_data"
    }
   ],
   "source": [
    "# Compare the murder rates of any two states \n",
    "\n",
    "from ipywidgets import interact, interactive, fixed, interact_manual\n",
    "import ipywidgets as widgets\n",
    "\n",
    "def state(state1, state2):\n",
    "    state1_table = murder_rates.where('State', state1).drop('State', 'Population').relabeled(1, 'Murder rate in {}'.format(state1))\n",
    "    state2_table = murder_rates.where('State', state2).drop('State', 'Population').relabeled(1, 'Murder rate in {}'.format(state2))\n",
    "    s1_s2 = state1_table.join('Year',state2_table,'Year')\n",
    "    s1_s2.plot('Year')\n",
    "    plots.show()\n",
    "\n",
    "states_array = murder_rates.group('State').column('State')\n",
    "\n",
    "_ = interact(state,\n",
    "             state1=widgets.Dropdown(options=list(states_array),value='California'),\n",
    "             state2=widgets.Dropdown(options=list(states_array),value='New York')\n",
    "            )"
   ]
  },
  {
   "cell_type": "markdown",
   "metadata": {},
   "source": [
    "**Question 1.3.** <br/>Implement the function `most_murderous`, which takes a year (an integer) as its argument. It does two things:\n",
    "1. It draws a horizontal bar chart of the 5 states that had the highest murder rates in that year.\n",
    "2. It returns an array of the names of these states in order of *increasing* murder rate.\n",
    "\n",
    "Assume that the argument is a year in `murder_rates`. "
   ]
  },
  {
   "cell_type": "code",
   "execution_count": 23,
   "metadata": {},
   "outputs": [
    {
     "data": {
      "text/plain": [
       "array(['California', 'Mississippi', 'Texas', 'New York', 'Louisiana'],\n",
       "      dtype='<U14')"
      ]
     },
     "execution_count": 23,
     "metadata": {},
     "output_type": "execute_result"
    },
    {
     "data": {
      "image/png": "[encoded data removed]",
      "text/plain": [
       "<Figure size 432x288 with 1 Axes>"
      ]
     },
     "metadata": {},
     "output_type": "display_data"
    }
   ],
   "source": [
    "def most_murderous(year):\n",
    "    # Assign most to a table of the most murderous states this year in ascending order.\n",
    "    data_for_year = murder_rates.where('Year', year)\n",
    "    sorted_data = data_for_year.sort('Murder Rate', descending = True)\n",
    "    top_5 = sorted_data.take(np.arange(5))\n",
    "    top_5.barh('State', 'Murder Rate')\n",
    "    return top_5.sort('Murder Rate',descending = False).column('State')\n",
    "\n",
    "most_murderous(1990) # California, Mississippi, ..., "
   ]
  },
  {
   "cell_type": "markdown",
   "metadata": {},
   "source": [
    "**Question 1.4.** <br/>How many more people were murdered in California in 1988 than in 1975? Assign `ca_change` to the answer.\n",
    "\n",
    "*Hint*: Recall the formula given at the beginning of the project:\n",
    "\n",
    "$$\\text{murder rate for state X in year Y} = \\frac{\\text{number of murders in state X in year Y}}{\\text{population in state X in year Y}}*100000$$\n"
   ]
  },
  {
   "cell_type": "code",
   "execution_count": 26,
   "metadata": {},
   "outputs": [
    {
     "data": {
      "text/plain": [
       "726.0"
      ]
     },
     "execution_count": 26,
     "metadata": {},
     "output_type": "execute_result"
    }
   ],
   "source": [
    "ca = murder_rates.where('State', are.equal_to('California'))\n",
    "ca = ca.with_column('Number', ca.column('Murder Rate')*ca.column('Population')/100000)\n",
    "\n",
    "ca_change = ca.where('Year',1988).column('Number').item(0)-ca.where('Year',1975).column('Number').item(0)\n",
    "np.round(ca_change)"
   ]
  },
  {
   "cell_type": "markdown",
   "metadata": {},
   "source": [
    "### 2. Changes in Murder Rates\n",
    "\n",
    "In this section, we'll see **how to test this null hypothesis:** \"For a set of U.S. states, the murder rate was equally likely to go up or down each year.\"\n",
    "\n",
    "Murder rates vary widely across states and years, presumably due to the vast array of differences among states and across US history. Rather than attempting to analyze rates themselves, here we will restrict our analysis to whether or not murder rates increased or decreased over certain time spans. **We will not concern ourselves with how much rates increased or decreased; only the direction of the changes** - whether they increased or decreased."
   ]
  },
  {
   "cell_type": "markdown",
   "metadata": {},
   "source": [
    "The `np.diff` function takes an array of values and computes the differences between adjacent items of a list or array as such:\n",
    "\n",
    "    [item 1 - item 0 , item 2 - item 1 , item 3 - item 2, ...]\n",
    "\n",
    "Instead, we may wish to compute the difference between items that are two positions apart. For example, given a 5-element array, we may want:\n",
    "\n",
    "    [item 2 - item 0 , item 3 - item 1 , item 4 - item 2]\n",
    "    \n",
    "The `diff_n` function below computes this result. Don't worry if the implementation uses unfamiliar features of Python, as long as you understand its behavior."
   ]
  },
  {
   "cell_type": "code",
   "execution_count": 28,
   "metadata": {},
   "outputs": [
    {
     "data": {
      "text/plain": [
       "array([  99,  990, 9900], dtype=int64)"
      ]
     },
     "execution_count": 28,
     "metadata": {},
     "output_type": "execute_result"
    }
   ],
   "source": [
    "def diff_n(values, n):\n",
    "    return np.array(values)[n:] - np.array(values)[:-n]\n",
    "\n",
    "diff_n(make_array(1, 10, 100, 1000, 10000), 2)"
   ]
  },
  {
   "cell_type": "markdown",
   "metadata": {},
   "source": [
    "**Question 2.1.** <br/>Implement the function `two_year_changes` that takes an array of murder rates for a state, ordered by increasing year. For all two-year periods (e.g., from 1960 to 1962), it computes and returns **the number of increases minus the number of decreases.**\n",
    "\n",
    "For example, the array `r = make_array(10, 7, 12, 9, 13, 9, 11)` contains 3 increases (10 to 12, 7 to 9, and 12 to 13), 1 decrease (13 to 11), and 1 change that is neither an increase or decrease (9 to 9). Therefore, `two_year_changes(r)` would return 2, the difference between 3 increases and 1 decrease.\n",
    "\n",
    "*Hint*: Consider using the `diff_n` function."
   ]
  },
  {
   "cell_type": "code",
   "execution_count": 29,
   "metadata": {},
   "outputs": [
    {
     "name": "stdout",
     "output_type": "stream",
     "text": [
      "Alaska: -5\n",
      "Minnesota: 6\n"
     ]
    }
   ],
   "source": [
    "def two_year_changes(rates):\n",
    "    \"Return the number of increases minus the number of decreases after two years.\"\n",
    "    rate_diff = diff_n(rates,2)\n",
    "    count_num_increase = np.sum(rate_diff>0)\n",
    "    count_num_decrease = np.sum(rate_diff<0)\n",
    "    return count_num_increase - count_num_decrease\n",
    "\n",
    "print('Alaska:',    two_year_changes(ak.column('Murder rate in Alaska')))\n",
    "print('Minnesota:', two_year_changes(mn.column('Murder rate in Minnesota')))"
   ]
  },
  {
   "cell_type": "markdown",
   "metadata": {},
   "source": [
    "We can use `two_year_changes` to summarize whether rates are mostly increasing or decreasing over time for some state or group of states. Let's see how it varies across the 50 US states.\n",
    "\n",
    "**Question 2.2.** <br/>Assign `changes_by_state` to a table with one row per state that has two columns: the `State` name and the `Murder Rate two_year_changes` statistic computed across all years in our data set for that state.  Its first 2 rows should look like this:\n",
    "\n",
    "|State|Murder Rate two_year_changes|\n",
    "|-|-|\n",
    "|Alabama|-6|\n",
    "|Alaska|-5||\n",
    "\n",
    "<center>... (48 rows omitted)</center>\n"
   ]
  },
  {
   "cell_type": "code",
   "execution_count": 30,
   "metadata": {},
   "outputs": [
    {
     "data": {
      "text/html": [
       "<table border=\"1\" class=\"dataframe\">\n",
       "    <thead>\n",
       "        <tr>\n",
       "            <th>State</th> <th>Murder Rate two_year_changes</th>\n",
       "        </tr>\n",
       "    </thead>\n",
       "    <tbody>\n",
       "        <tr>\n",
       "            <td>Alabama    </td> <td>-6                          </td>\n",
       "        </tr>\n",
       "        <tr>\n",
       "            <td>Alaska     </td> <td>-5                          </td>\n",
       "        </tr>\n",
       "        <tr>\n",
       "            <td>Arizona    </td> <td>1                           </td>\n",
       "        </tr>\n",
       "        <tr>\n",
       "            <td>Arkansas   </td> <td>-1                          </td>\n",
       "        </tr>\n",
       "        <tr>\n",
       "            <td>California </td> <td>17                          </td>\n",
       "        </tr>\n",
       "        <tr>\n",
       "            <td>Colorado   </td> <td>-4                          </td>\n",
       "        </tr>\n",
       "        <tr>\n",
       "            <td>Connecticut</td> <td>4                           </td>\n",
       "        </tr>\n",
       "        <tr>\n",
       "            <td>Delaware   </td> <td>-3                          </td>\n",
       "        </tr>\n",
       "        <tr>\n",
       "            <td>Florida    </td> <td>-6                          </td>\n",
       "        </tr>\n",
       "        <tr>\n",
       "            <td>Georgia    </td> <td>-3                          </td>\n",
       "        </tr>\n",
       "    </tbody>\n",
       "</table>\n",
       "<p>... (40 rows omitted)</p>"
      ],
      "text/plain": [
       "State       | Murder Rate two_year_changes\n",
       "Alabama     | -6\n",
       "Alaska      | -5\n",
       "Arizona     | 1\n",
       "Arkansas    | -1\n",
       "California  | 17\n",
       "Colorado    | -4\n",
       "Connecticut | 4\n",
       "Delaware    | -3\n",
       "Florida     | -6\n",
       "Georgia     | -3\n",
       "... (40 rows omitted)"
      ]
     },
     "execution_count": 30,
     "metadata": {},
     "output_type": "execute_result"
    }
   ],
   "source": [
    "changes_by_state = murder_rates.group('State', two_year_changes ).drop(['Year two_year_changes','Population two_year_changes'])\n",
    "changes_by_state"
   ]
  },
  {
   "cell_type": "code",
   "execution_count": 31,
   "metadata": {},
   "outputs": [
    {
     "data": {
      "image/png": "[encoded data removed]",
      "text/plain": [
       "<Figure size 432x288 with 1 Axes>"
      ]
     },
     "metadata": {},
     "output_type": "display_data"
    }
   ],
   "source": [
    "# Here is a histogram of the two-year changes for the states.\n",
    "# Since there are 50 states, each state contributes 2% to one bar.\n",
    "changes_by_state.hist(\"Murder Rate two_year_changes\", bins=np.arange(-11, 19, 2))"
   ]
  },
  {
   "cell_type": "markdown",
   "metadata": {},
   "source": [
    "Some states have more increases than decreases (a positive change), while some have more decreases than increases (a negative change). \n",
    "\n",
    "**Question 2.3.** <br/>Assign `total_changes` to the total increases minus the total decreases for all two-year periods and all states in our data set. For example, if the murder rate in Ohio went up 23 times and fell 17 times, the total change for Ohio would be 6. We want the total value for all the states together."
   ]
  },
  {
   "cell_type": "code",
   "execution_count": 32,
   "metadata": {},
   "outputs": [
    {
     "name": "stdout",
     "output_type": "stream",
     "text": [
      "Total increases minus total decreases, across all states and years: 45\n"
     ]
    }
   ],
   "source": [
    "total_changes = sum(changes_by_state.column('Murder Rate two_year_changes'))\n",
    "print('Total increases minus total decreases, across all states and years:', total_changes)"
   ]
  },
  {
   "cell_type": "markdown",
   "metadata": {},
   "source": [
    "\"More increases than decreases,\" one person exclaims, \"Murder rates tend to go up across two-year periods. What dire times we live in.\"\n",
    "\n",
    "\"Not so fast,\" another person replies, \"Even if murder rates just moved up and down uniformly at random, there would be some difference between the increases and decreases. There were a lot of states and a lot of years, so there were many chances for changes to happen. If state murder rates increase and decrease at random with equal probability, perhaps this difference was simply due to chance!\"\n",
    "\n",
    "**Question 2.4.** <br/>What is the total number of distinct pairs of a state and a two-year period? Assign `num_changes` to this value.\n",
    "\n",
    "For example, Alaska during 1968 to 1970 would count as one distinct pair. Considering all states and all possible two-year periods, how many such pairs are there in total? "
   ]
  },
  {
   "cell_type": "code",
   "execution_count": 37,
   "metadata": {},
   "outputs": [
    {
     "data": {
      "text/plain": [
       "2100"
      ]
     },
     "execution_count": 37,
     "metadata": {},
     "output_type": "execute_result"
    }
   ],
   "source": [
    "#murder_rates.group('State', two_year_changes )\n",
    "# run this first line and we can see from Year two_year_change = 42\n",
    "# or.....For each state, exclude first two years from counting the 2-year change. \n",
    "num_changes =  murder_rates.group('State').num_rows*42\n",
    "num_changes"
   ]
  },
  {
   "cell_type": "markdown",
   "metadata": {},
   "source": [
    "We now have enough information to perform a hypothesis test.\n",
    "\n",
    "> **Null Hypothesis**: State murder rates increase and decrease over two-year periods as if \n",
    "\"increase\" or \"decrease\" were sampled at random from a uniform distribution, like a fair coin flip.\n",
    "\n",
    "Murder rates can be more likely to go up or more likely to go down. Since we observed 45 more increases than decreases for all two year periods in our dataset, we formulate an alternative hypothesis in accordance with our suspicion:\n",
    "\n",
    "> **Alternative Hypothesis**: State murder rates are more likely to increase over two-year periods.\n",
    "\n",
    "If we had observed more decreases than increases, our alternative hypothesis would have been defined accordingly (that state murder rates are more likely to *decrease*). This is typical in statistical testing - we first observe a trend in the data and then run a hypothesis test to confirm or reject that trend.\n",
    "\n",
    "*Technical note*: These changes in murder rates are not random samples from any population. They describe all murders in all states over all recent years. However, we can imagine that history could have been different, and that the observed changes are the values observed in only one possible world: the one that happened to occur. In this sense, we can evaluate whether the observed \"total increases minus total decreases\" is consistent with a hypothesis that increases and decreases are drawn at random from a uniform distribution.\n",
    "\n",
    "*Important requirements for our test statistic:* We want to choose a test statistic for which large positive values are evidence in favor of the alternative hypothesis, and other values are evidence in favor of the null hypothesis. This is because once we've determined the direction of our alternative hypothesis, we only care about the tail in that direction. If, for example, our p-value cutoff was 5%, we'd check to see if our observed test statistic fell within the largest 5% of values in our null hypothesis distribution. \n",
    "\n",
    "Our test statistic should depend only on whether murder rates increased or decreased, not on the size of any change. Thus we choose:\n",
    "\n",
    "> **Test Statistic**: The number of increases minus the number of decreases"
   ]
  },
  {
   "cell_type": "markdown",
   "metadata": {},
   "source": [
    "Null Hypo : State Murder rates เพิ่มหรือลด ก็ต่อเมื่อโดนสุ่มว่าเพิ่มหรือลดจาก uniform distribution เหมือนโยนเหรียญ\n",
    "\n",
    "Alternative Hypothesis : คาดว่า murder rates น่าจะเพิ่มขึ้น\n",
    "\n",
    "สรุป : ใช้ 1-tails"
   ]
  },
  {
   "cell_type": "markdown",
   "metadata": {},
   "source": [
    "The cell below samples increases and decreases at random from a uniform distribution 100 times. The final column of the resulting table gives the number of increases and decreases that resulted from sampling in this way. **Using `sample_from_distribution` is faster than using `sample` followed by `group` to compute the same result.**"
   ]
  },
  {
   "cell_type": "code",
   "execution_count": 38,
   "metadata": {},
   "outputs": [
    {
     "data": {
      "text/html": [
       "<table border=\"1\" class=\"dataframe\">\n",
       "    <thead>\n",
       "        <tr>\n",
       "            <th>Change</th> <th>Chance</th> <th>Chance sample</th>\n",
       "        </tr>\n",
       "    </thead>\n",
       "    <tbody>\n",
       "        <tr>\n",
       "            <td>Increase</td> <td>0.5   </td> <td>45           </td>\n",
       "        </tr>\n",
       "        <tr>\n",
       "            <td>Decrease</td> <td>0.5   </td> <td>55           </td>\n",
       "        </tr>\n",
       "    </tbody>\n",
       "</table>"
      ],
      "text/plain": [
       "Change   | Chance | Chance sample\n",
       "Increase | 0.5    | 45\n",
       "Decrease | 0.5    | 55"
      ]
     },
     "execution_count": 38,
     "metadata": {},
     "output_type": "execute_result"
    }
   ],
   "source": [
    "uniform = Table().with_columns(\n",
    "    \"Change\", make_array('Increase', 'Decrease'),\n",
    "    \"Chance\", make_array(0.5,        0.5))\n",
    "uniform.sample_from_distribution('Chance', 100)"
   ]
  },
  {
   "cell_type": "markdown",
   "metadata": {},
   "source": [
    "**Question 2.5.** <br/>Complete the simulation below, which samples `num_changes` increases/decreases at random many times and forms an empirical distribution of your test statistic under the null hypothesis.  Your job is to\n",
    "* fill in the function `simulate_under_null`, which simulates a single sample under the null hypothesis, and\n",
    "* fill in its argument when it's called below."
   ]
  },
  {
   "cell_type": "code",
   "execution_count": 39,
   "metadata": {},
   "outputs": [
    {
     "data": {
      "text/html": [
       "<table border=\"1\" class=\"dataframe\">\n",
       "    <thead>\n",
       "        <tr>\n",
       "            <th>Test statistic under null</th>\n",
       "        </tr>\n",
       "    </thead>\n",
       "    <tbody>\n",
       "        <tr>\n",
       "            <td>-30                      </td>\n",
       "        </tr>\n",
       "        <tr>\n",
       "            <td>-78                      </td>\n",
       "        </tr>\n",
       "        <tr>\n",
       "            <td>62                       </td>\n",
       "        </tr>\n",
       "        <tr>\n",
       "            <td>72                       </td>\n",
       "        </tr>\n",
       "        <tr>\n",
       "            <td>18                       </td>\n",
       "        </tr>\n",
       "        <tr>\n",
       "            <td>8                        </td>\n",
       "        </tr>\n",
       "        <tr>\n",
       "            <td>24                       </td>\n",
       "        </tr>\n",
       "        <tr>\n",
       "            <td>-38                      </td>\n",
       "        </tr>\n",
       "        <tr>\n",
       "            <td>34                       </td>\n",
       "        </tr>\n",
       "        <tr>\n",
       "            <td>-48                      </td>\n",
       "        </tr>\n",
       "    </tbody>\n",
       "</table>\n",
       "<p>... (4990 rows omitted)</p>"
      ],
      "text/plain": [
       "Test statistic under null\n",
       "-30\n",
       "-78\n",
       "62\n",
       "72\n",
       "18\n",
       "8\n",
       "24\n",
       "-38\n",
       "34\n",
       "-48\n",
       "... (4990 rows omitted)"
      ]
     },
     "execution_count": 39,
     "metadata": {},
     "output_type": "execute_result"
    }
   ],
   "source": [
    "def simulate_under_null(num_chances_to_change):\n",
    "    \"\"\"Simulates some number changing several times, with an equal\n",
    "    chance to increase or decrease.  Returns the value of our\n",
    "    test statistic for these simulated changes.\n",
    "    \n",
    "    num_chances_to_change is the number of times the number changes.\n",
    "    \"\"\"\n",
    "    sample = uniform.sample_from_distribution('Chance', num_chances_to_change)\n",
    "    return sample.where('Change', 'Increase').column('Chance sample')- sample.where('Change', 'Decrease').column('Chance sample')\n",
    "\n",
    "uniform_samples = make_array()\n",
    "for i in np.arange(5000):\n",
    "    uniform_samples = np.append(uniform_samples, simulate_under_null(2100))\n",
    "\n",
    "simulated_changes = Table().with_column('Test statistic under null', uniform_samples)\n",
    "simulated_changes"
   ]
  },
  {
   "cell_type": "code",
   "execution_count": 40,
   "metadata": {},
   "outputs": [
    {
     "data": {
      "image/png": "[encoded data removed]",
      "text/plain": [
       "<Figure size 432x288 with 1 Axes>"
      ]
     },
     "metadata": {},
     "output_type": "display_data"
    }
   ],
   "source": [
    "# Run this cell to visualize the empirical distribution of \n",
    "# the test statistic under the null hypothesis.\n",
    "simulated_changes.hist(0, bins=np.arange(-100, 400+25, 25))"
   ]
  },
  {
   "cell_type": "markdown",
   "metadata": {},
   "source": [
    "**Question 2.6.** Looking at this histogram, draw a conclusion about whether murder rates basically increase as often as they decrease. (Remember that we're only concerned with the *postive direction* because it supports our alternative hypothesis.) You **do not** need to compute a P-value for this question.\n",
    "\n",
    "First, set `which_side` to `\"Right\"` or `\"Left\"` depending on which side of the histogram you need to look at to make your conclusion. \n",
    "\n",
    "\n",
    "Then, set `reject_null` to `True` if rates increase more than they decrease, and we can reject the null hypothesis. Set `reject_null` to `False` if the observed difference is typical under the null hypothesis."
   ]
  },
  {
   "cell_type": "markdown",
   "metadata": {},
   "source": [
    "### Please conclude here"
   ]
  },
  {
   "cell_type": "markdown",
   "metadata": {},
   "source": [
    "which_side = ...........\n",
    "reject_null = .............."
   ]
  },
  {
   "cell_type": "markdown",
   "metadata": {},
   "source": [
    "# Inference (Part 2)"
   ]
  },
  {
   "cell_type": "markdown",
   "metadata": {},
   "source": [
    "As a reminder of our hypothesis test, here are the null hypothesis, alternative hypothesis, and test statistic from Part 1.\n",
    "\n",
    "> **Null Hypothesis**: State murder rates increase and decrease over two-year periods as if \n",
    "\"increase\" or \"decrease\" were sampled at random from a uniform distribution, like a fair coin flip.\n",
    "\n",
    "> **Alternative Hypothesis**: State murder rates are more likely to increase over two-year periods.\n",
    "\n",
    "> **Test Statistic**: The number of increases minus the number of decreases"
   ]
  },
  {
   "cell_type": "markdown",
   "metadata": {},
   "source": [
    "## 1. The death penalty\n",
    "\n",
    "Some US states have the death penalty, and others don't, and laws have changed over time. In addition to changes in murder rates, we will also consider whether the death penalty was in force in each state and each year.\n",
    "\n",
    "Using this information, we would like to investigate how the presence of the death penalty affects the murder rate of a state."
   ]
  },
  {
   "cell_type": "markdown",
   "metadata": {},
   "source": [
    "**Question 1.1.** <br/>Describe this investigation in terms of an experiment. What population are we studying? What is the control group? What is the treatment group? What outcome are we measuring? Be precise!"
   ]
  },
  {
   "cell_type": "markdown",
   "metadata": {},
   "source": [
    "### Write your answers here.\n",
    "\n",
    "- Population: ...\n",
    "- Control Group: ...\n",
    "- Treatment Group: ...\n",
    "- Outcome: ..."
   ]
  },
  {
   "cell_type": "markdown",
   "metadata": {},
   "source": [
    "### A Natural Experiment\n",
    "We want to know whether the death penalty *causes* a change in the murder rate.  Why is it not sufficient to compare murder rates in places and times when the death penalty was in force with places and times when it wasn't?\n",
    "\n",
    "In order to attempt to **investigate the causal relationship** between the death penalty and murder rates, we're going to take advantage of a *natural experiment*.  A natural experiment happens when something other than experimental design applies a treatment to one group and not to another (control) group, and we have some hope that the treatment and control groups don't have any other systematic differences.\n",
    "\n",
    "Our natural experiment is this: in 1972, a Supreme Court decision called *Furman v. Georgia* banned the death penalty throughout the US.  Suddenly, many states went from having the death penalty to not having the death penalty.\n",
    "\n",
    "As a first step, let's see how murder rates changed before and after the court decision.  We'll define the test as follows:\n",
    "\n",
    "> **Population:** All the states that had the death penalty before the 1972 abolition.  (There is no control group for the states that already lacked the death penalty in 1972, so we must omit them.)  This includes all US states **except** Alaska, Hawaii, Maine, Michigan, Wisconsin, and Minnesota.\n",
    "\n",
    "> **Treatment group:** The states in that population, in the year after 1972.\n",
    "\n",
    "> **Control group:** The states in that population, in the year before 1972.\n",
    "\n",
    "> **Null hypothesis:** Each state's murder rate was equally likely to be higher or lower in the treatment period than in the control period.  (Whether the murder rate increased or decreased in each state was like the flip of a fair coin.)\n",
    "\n",
    "> **Alternative hypothesis:** The murder rate was more likely to increase.\n",
    "\n",
    "Our alternative hypothesis is in keeping with our suspicion that murder rates increase when the death penalty is eliminated.  \n",
    "\n",
    "*Technical Note:* It's not clear that the murder rates were a \"sample\" from any larger population.  Again, it's useful to imagine that our data could have come out differently and to test the null hypothesis that the murder rates were equally likely to move up or down.\n",
    "\n",
    "The `death_penalty` table below describes whether each state allowed the death penalty in 1971."
   ]
  },
  {
   "cell_type": "code",
   "execution_count": 41,
   "metadata": {},
   "outputs": [
    {
     "data": {
      "text/html": [
       "<table border=\"1\" class=\"dataframe\">\n",
       "    <thead>\n",
       "        <tr>\n",
       "            <th>State</th> <th>Death Penalty</th>\n",
       "        </tr>\n",
       "    </thead>\n",
       "    <tbody>\n",
       "        <tr>\n",
       "            <td>Alabama    </td> <td>True         </td>\n",
       "        </tr>\n",
       "        <tr>\n",
       "            <td>Alaska     </td> <td>False        </td>\n",
       "        </tr>\n",
       "        <tr>\n",
       "            <td>Arizona    </td> <td>True         </td>\n",
       "        </tr>\n",
       "        <tr>\n",
       "            <td>Arkansas   </td> <td>True         </td>\n",
       "        </tr>\n",
       "        <tr>\n",
       "            <td>California </td> <td>True         </td>\n",
       "        </tr>\n",
       "        <tr>\n",
       "            <td>Colorado   </td> <td>True         </td>\n",
       "        </tr>\n",
       "        <tr>\n",
       "            <td>Connecticut</td> <td>True         </td>\n",
       "        </tr>\n",
       "        <tr>\n",
       "            <td>Delaware   </td> <td>True         </td>\n",
       "        </tr>\n",
       "        <tr>\n",
       "            <td>Florida    </td> <td>True         </td>\n",
       "        </tr>\n",
       "        <tr>\n",
       "            <td>Georgia    </td> <td>True         </td>\n",
       "        </tr>\n",
       "    </tbody>\n",
       "</table>\n",
       "<p>... (40 rows omitted)</p>"
      ],
      "text/plain": [
       "State       | Death Penalty\n",
       "Alabama     | True\n",
       "Alaska      | False\n",
       "Arizona     | True\n",
       "Arkansas    | True\n",
       "California  | True\n",
       "Colorado    | True\n",
       "Connecticut | True\n",
       "Delaware    | True\n",
       "Florida     | True\n",
       "Georgia     | True\n",
       "... (40 rows omitted)"
      ]
     },
     "execution_count": 41,
     "metadata": {},
     "output_type": "execute_result"
    }
   ],
   "source": [
    "non_death_penalty_states = make_array('Alaska', 'Hawaii', 'Maine', 'Michigan', 'Wisconsin', 'Minnesota')\n",
    "def had_death_penalty_in_1971(state):\n",
    "    \"\"\"Returns True if the argument is the name of a state that had the death penalty in 1971.\"\"\"\n",
    "    # The implementation of this function uses a bit of syntax\n",
    "    # we haven't seen before.  Just trust that it behaves as its\n",
    "    # documentation claims.\n",
    "    return state not in non_death_penalty_states\n",
    "\n",
    "states = murder_rates.group('State').select('State')\n",
    "death_penalty = states.with_column('Death Penalty', states.apply(had_death_penalty_in_1971, 0))\n",
    "death_penalty"
   ]
  },
  {
   "cell_type": "code",
   "execution_count": 42,
   "metadata": {},
   "outputs": [
    {
     "data": {
      "text/plain": [
       "44"
      ]
     },
     "execution_count": 42,
     "metadata": {},
     "output_type": "execute_result"
    }
   ],
   "source": [
    "num_death_penalty_states = death_penalty.where(\"Death Penalty\", are.equal_to(True)).num_rows\n",
    "num_death_penalty_states"
   ]
  },
  {
   "cell_type": "markdown",
   "metadata": {},
   "source": [
    "**Question 1.2.** <br/>Assign `death_penalty_murder_rates` to a table with the same columns and data as `murder_rates`, but that has only the rows for states that had the death penalty in 1971.\n",
    "\n",
    "The first 2 rows of your table should look like this:\n",
    "\n",
    "|State|Year|Population|Murder Rate|\n",
    "|-----|----|----------|-----------|\n",
    "|Alabama|1960|3,266,740|12.4|\n",
    "|Alabama|1961|3,302,000|12.9|"
   ]
  },
  {
   "cell_type": "code",
   "execution_count": 43,
   "metadata": {},
   "outputs": [
    {
     "data": {
      "text/html": [
       "<table border=\"1\" class=\"dataframe\">\n",
       "    <thead>\n",
       "        <tr>\n",
       "            <th>State</th> <th>Year</th> <th>Population</th> <th>Murder Rate</th>\n",
       "        </tr>\n",
       "    </thead>\n",
       "    <tbody>\n",
       "        <tr>\n",
       "            <td>Alabama</td> <td>1960</td> <td>3,266,740 </td> <td>12.4       </td>\n",
       "        </tr>\n",
       "        <tr>\n",
       "            <td>Alabama</td> <td>1961</td> <td>3,302,000 </td> <td>12.9       </td>\n",
       "        </tr>\n",
       "        <tr>\n",
       "            <td>Alabama</td> <td>1962</td> <td>3,358,000 </td> <td>9.4        </td>\n",
       "        </tr>\n",
       "        <tr>\n",
       "            <td>Alabama</td> <td>1963</td> <td>3,347,000 </td> <td>10.2       </td>\n",
       "        </tr>\n",
       "        <tr>\n",
       "            <td>Alabama</td> <td>1964</td> <td>3,407,000 </td> <td>9.3        </td>\n",
       "        </tr>\n",
       "        <tr>\n",
       "            <td>Alabama</td> <td>1965</td> <td>3,462,000 </td> <td>11.4       </td>\n",
       "        </tr>\n",
       "        <tr>\n",
       "            <td>Alabama</td> <td>1966</td> <td>3,517,000 </td> <td>10.9       </td>\n",
       "        </tr>\n",
       "        <tr>\n",
       "            <td>Alabama</td> <td>1967</td> <td>3,540,000 </td> <td>11.7       </td>\n",
       "        </tr>\n",
       "        <tr>\n",
       "            <td>Alabama</td> <td>1968</td> <td>3,566,000 </td> <td>11.8       </td>\n",
       "        </tr>\n",
       "        <tr>\n",
       "            <td>Alabama</td> <td>1969</td> <td>3,531,000 </td> <td>13.7       </td>\n",
       "        </tr>\n",
       "    </tbody>\n",
       "</table>\n",
       "<p>... (1926 rows omitted)</p>"
      ],
      "text/plain": [
       "State   | Year | Population | Murder Rate\n",
       "Alabama | 1960 | 3,266,740  | 12.4\n",
       "Alabama | 1961 | 3,302,000  | 12.9\n",
       "Alabama | 1962 | 3,358,000  | 9.4\n",
       "Alabama | 1963 | 3,347,000  | 10.2\n",
       "Alabama | 1964 | 3,407,000  | 9.3\n",
       "Alabama | 1965 | 3,462,000  | 11.4\n",
       "Alabama | 1966 | 3,517,000  | 10.9\n",
       "Alabama | 1967 | 3,540,000  | 11.7\n",
       "Alabama | 1968 | 3,566,000  | 11.8\n",
       "Alabama | 1969 | 3,531,000  | 13.7\n",
       "... (1926 rows omitted)"
      ]
     },
     "execution_count": 43,
     "metadata": {},
     "output_type": "execute_result"
    }
   ],
   "source": [
    "death_penalty_murder_rates =  murder_rates.with_column('Death Penalty', murder_rates.apply(had_death_penalty_in_1971, 0)).where('Death Penalty', are.equal_to (True)).drop('Death Penalty')\n",
    "death_penalty_murder_rates"
   ]
  },
  {
   "cell_type": "markdown",
   "metadata": {},
   "source": [
    "The null hypothesis doesn't specify *how* the murder rate changes; it only talks about increasing or decreasing.  So, we will use the same test statistic we defined before."
   ]
  },
  {
   "cell_type": "markdown",
   "metadata": {},
   "source": [
    "**Question 1.3.** <br/>Assign `test_stat_72` to the value of the test statistic for the years 1971 to 1973 using the states in `death_penalty_murder_rates`. As before, the test statistic is, \"the number of increases minus the number of decreases.\"\n",
    "\n",
    "*Hint:* It may be helpful to use multiple lines to work through each part of your solution. One way to proceed is to `group` using your `two_year_changes` function on a table that contains only the range of years you care about."
   ]
  },
  {
   "cell_type": "code",
   "execution_count": 44,
   "metadata": {},
   "outputs": [
    {
     "name": "stdout",
     "output_type": "stream",
     "text": [
      "Test statistic from 1971 to 1973: 22\n"
     ]
    }
   ],
   "source": [
    "test_stat_72 = death_penalty_murder_rates.where('Year', are.between(1971,1974)).group('State', two_year_changes)\n",
    "test_stat_72 = np.sum(test_stat_72.column('Murder Rate two_year_changes'))\n",
    "print('Test statistic from 1971 to 1973:', test_stat_72)"
   ]
  },
  {
   "cell_type": "markdown",
   "metadata": {},
   "source": [
    "**Question 1.4.** <br/>Draw an empirical histogram of the statistic under the null hypothesis by simulating the test statistic 10,000 times.\n",
    "\n",
    "You may find the `simulate_under_null` function from part 1 useful, but this is a rewrite compacted version. \n",
    "**Please recomply!!!**"
   ]
  },
  {
   "cell_type": "code",
   "execution_count": 46,
   "metadata": {},
   "outputs": [],
   "source": [
    "def simulate_under_null(num_chances_to_change):\n",
    "    \"\"\"Simulates some number changing several times, with an equal\n",
    "    chance to increase or decrease.  Returns the value of your\n",
    "    test statistic for these simulated changes.\n",
    "    \n",
    "    num_chances_to_change is the number of times the number changes.\n",
    "    \"\"\"\n",
    "    uniform = Table().with_columns(\n",
    "        \"Change\", make_array('Increase', 'Decrease'),\n",
    "        \"Chance\", make_array(0.5,        0.5))\n",
    "    sample = uniform.sample_from_distribution('Chance', num_chances_to_change)\n",
    "    return sample.column(2).item(0) - sample.column(2).item(1)"
   ]
  },
  {
   "cell_type": "code",
   "execution_count": 47,
   "metadata": {},
   "outputs": [
    {
     "data": {
      "text/plain": [
       "array([-14.,  -2.,  -8., ...,  -2.,  -4.,  -4.])"
      ]
     },
     "execution_count": 47,
     "metadata": {},
     "output_type": "execute_result"
    }
   ],
   "source": [
    "samples = make_array()\n",
    "for i in np.arange(10000):\n",
    "    pre_samples = simulate_under_null(44) # num_chances_to_change is the number of times the number changes.= no. of states?\n",
    "    samples = np.append(samples, pre_samples) # out of the loop append  does not work\n",
    "samples"
   ]
  },
  {
   "cell_type": "code",
   "execution_count": 48,
   "metadata": {},
   "outputs": [
    {
     "data": {
      "image/png": "[encoded data removed]",
      "text/plain": [
       "<Figure size 432x288 with 1 Axes>"
      ]
     },
     "metadata": {},
     "output_type": "display_data"
    }
   ],
   "source": [
    "# Run this cell to draw an empirical histogram of the \n",
    "# statistic under the null hypothesis.\n",
    "Table().with_column('Test statistic under null', samples).hist(bins=np.arange(-4, 28+2, 2))"
   ]
  },
  {
   "cell_type": "markdown",
   "metadata": {},
   "source": [
    "**Question 1.5.** <br/>Complete the analysis as follows:\n",
    "1. Compute a P-value.\n",
    "2. Using a 5% P-value cutoff, draw a conclusion about the null and alternative hypotheses.\n",
    "3. Describe your findings using simple, non-technical language. What does your analysis tell you about murder rates after the death penalty was suspended? What can you claim about causation from your statistical analysis?"
   ]
  },
  {
   "cell_type": "markdown",
   "metadata": {},
   "source": [
    "### Write your answers here.\n",
    "**P-value:** ...\n",
    "\n",
    "**Conclusion about the hypotheses:** ...\n",
    "\n",
    "**Findings:** ..."
   ]
  },
  {
   "cell_type": "code",
   "execution_count": 49,
   "metadata": {},
   "outputs": [
    {
     "data": {
      "text/plain": [
       "0.0009"
      ]
     },
     "execution_count": 49,
     "metadata": {},
     "output_type": "execute_result"
    }
   ],
   "source": [
    "# Use this cell to compute the P-value \n",
    "#use 22 from Test statistic from 1971 to 1973\n",
    "np.count_nonzero(samples >= 22)/10000\n",
    "\n",
    "#P-value: 0.06\n",
    "#Conclusion about the hypotheses: toward alternaltive\n",
    "#Findings: The murder rate was more likely to increase."
   ]
  },
  {
   "cell_type": "markdown",
   "metadata": {},
   "source": [
    "## 2. Further evidence\n",
    "\n",
    "So far, we have discovered evidence that when executions were outlawed, the murder rate increased in many more states than we would expect from random chance. We have also seen that across all states and all recent years, the murder rate goes up about as much as it goes down over two-year periods. \n",
    "\n",
    "These discoveries seem to support the claim that eliminating the death penalty increases the murder rate. Should we be convinced? Let's conduct some more tests to strengthen our claim.\n",
    "\n",
    "Conducting a test for this data set requires the following steps:\n",
    "\n",
    "1. Select a table containing murder rates for certain states and all years,\n",
    "2. Choose two years and compute the observed value of the test statistic,\n",
    "3. Simulate the test statistic under the null hypothesis that increases and decreases are drawn uniformly at random, then\n",
    "4. Compare the observed difference to the empirical distribution to compute a P-value."
   ]
  },
  {
   "cell_type": "markdown",
   "metadata": {},
   "source": [
    "This entire process can be expressed in a single function, called `run_test`. It takes the following arguments:\n",
    "\n",
    "- a table of murder `rates` for certain states, sorted by state and year like `murder_rates`\n",
    "- the year when the analysis starts (the comparison group is two years later)\n",
    "\n",
    "It prints out the observed test statistic and returns the P-value for this statistic under the null hypothesis.\n",
    "\n",
    "`run_test` works regardless of the direction of association in your alternative hypothesis by accounting for whether `observed_test_statistic` is negative or positive.\n",
    "\n",
    "Run the cell below to define `run_test`. Make sure you understand what it's doing and why."
   ]
  },
  {
   "cell_type": "code",
   "execution_count": 50,
   "metadata": {},
   "outputs": [
    {
     "name": "stdout",
     "output_type": "stream",
     "text": [
      "Test statistic 1971 to 1973 : 22\n"
     ]
    },
    {
     "data": {
      "text/plain": [
       "0.0004"
      ]
     },
     "execution_count": 50,
     "metadata": {},
     "output_type": "execute_result"
    }
   ],
   "source": [
    "def run_test(rates, start_year):\n",
    "    \"\"\"Prints out the observed test statistic and returns a P-value for this statistic under the null hypothesis\n",
    "    Parameters\n",
    "    ----------\n",
    "    rates : Table\n",
    "       A table of murder rates for certain states, sorted by state and year like murder_rates\n",
    "    start_year : int\n",
    "       The year when the analysis starts\n",
    "    \"\"\"\n",
    "    end_year = start_year + 2\n",
    "    observed_test_statistic = sum(rates.where('Year', are.between_or_equal_to(start_year, end_year)).select('State', 'Murder Rate').group('State', two_year_changes).column(1))\n",
    "    print('Test statistic', start_year, 'to', end_year, ':', observed_test_statistic)\n",
    "    num_states = rates.group('State').num_rows\n",
    "    \n",
    "    samples = []\n",
    "    for i in np.arange(5000):\n",
    "        samples.append(simulate_under_null(num_states))\n",
    "    samples = np.array(samples) # Convert from a list to an array\n",
    "    \n",
    "    if observed_test_statistic > 0:\n",
    "        return sum(samples >= observed_test_statistic) / len(samples)\n",
    "    elif observed_test_statistic < 0:\n",
    "        return sum(samples <= observed_test_statistic) / len(samples)\n",
    "    \n",
    "run_test(death_penalty_murder_rates, 1971)"
   ]
  },
  {
   "cell_type": "markdown",
   "metadata": {},
   "source": [
    "### The rest of the states\n",
    "\n",
    "We found a dramatic increase in murder rates for those states affected by the 1972 Supreme Court ruling, but what about the rest of the states? There were six states that had already outlawed execution at the time of the ruling.\n",
    "\n",
    "**Question 2.1.** Create a table called `non_death_penalty_murder_rates` with the same columns as `murder_rates` but only containing rows for the six states without the death penalty in 1971. Perform the same test on this table. **Then**, set `reject_null_2` to whether their murder rates were also more likely to increase from 1971 to 1973."
   ]
  },
  {
   "cell_type": "code",
   "execution_count": 51,
   "metadata": {},
   "outputs": [
    {
     "data": {
      "text/html": [
       "<table border=\"1\" class=\"dataframe\">\n",
       "    <thead>\n",
       "        <tr>\n",
       "            <th>State</th> <th>Year</th> <th>Population</th> <th>Murder Rate</th>\n",
       "        </tr>\n",
       "    </thead>\n",
       "    <tbody>\n",
       "        <tr>\n",
       "            <td>Alaska</td> <td>1960</td> <td>226,167   </td> <td>10.2       </td>\n",
       "        </tr>\n",
       "        <tr>\n",
       "            <td>Alaska</td> <td>1961</td> <td>234,000   </td> <td>11.5       </td>\n",
       "        </tr>\n",
       "        <tr>\n",
       "            <td>Alaska</td> <td>1962</td> <td>246,000   </td> <td>4.5        </td>\n",
       "        </tr>\n",
       "        <tr>\n",
       "            <td>Alaska</td> <td>1963</td> <td>248,000   </td> <td>6.5        </td>\n",
       "        </tr>\n",
       "        <tr>\n",
       "            <td>Alaska</td> <td>1964</td> <td>250,000   </td> <td>10.4       </td>\n",
       "        </tr>\n",
       "        <tr>\n",
       "            <td>Alaska</td> <td>1965</td> <td>253,000   </td> <td>6.3        </td>\n",
       "        </tr>\n",
       "        <tr>\n",
       "            <td>Alaska</td> <td>1966</td> <td>272,000   </td> <td>12.9       </td>\n",
       "        </tr>\n",
       "        <tr>\n",
       "            <td>Alaska</td> <td>1967</td> <td>272,000   </td> <td>9.6        </td>\n",
       "        </tr>\n",
       "        <tr>\n",
       "            <td>Alaska</td> <td>1968</td> <td>277,000   </td> <td>10.5       </td>\n",
       "        </tr>\n",
       "        <tr>\n",
       "            <td>Alaska</td> <td>1969</td> <td>282,000   </td> <td>10.6       </td>\n",
       "        </tr>\n",
       "    </tbody>\n",
       "</table>\n",
       "<p>... (254 rows omitted)</p>"
      ],
      "text/plain": [
       "<IPython.core.display.HTML object>"
      ]
     },
     "metadata": {},
     "output_type": "display_data"
    },
    {
     "name": "stdout",
     "output_type": "stream",
     "text": [
      "Test statistic 1971 to 1973 : 1\n"
     ]
    },
    {
     "data": {
      "text/plain": [
       "0.3432"
      ]
     },
     "execution_count": 51,
     "metadata": {},
     "output_type": "execute_result"
    }
   ],
   "source": [
    "non_death_penalty_murder_rates = murder_rates.with_column('Death Penalty', murder_rates.apply(had_death_penalty_in_1971, 0)).where('Death Penalty', are.equal_to (False)).drop('Death Penalty')\n",
    "non_death_penalty_murder_rates.show(10)\n",
    "run_test(non_death_penalty_murder_rates, 1971)"
   ]
  },
  {
   "cell_type": "markdown",
   "metadata": {},
   "source": [
    "### Please conclude here\n",
    "reject_null = .........."
   ]
  },
  {
   "cell_type": "markdown",
   "metadata": {},
   "source": [
    "### The death penalty reinstated\n",
    "\n",
    "In 1976, the Supreme Court repealed its ban on the death penalty in its rulings on [a series of cases including Gregg v. Georgia](https://en.wikipedia.org/wiki/Gregg_v._Georgia), so the death penalty was reinstated where it was previously banned.  This generated a second natural experiment.  To the extent that the death penalty deters murder, reinstating it should decrease murder rates, just as banning it should increase them. Let's see what happened."
   ]
  },
  {
   "cell_type": "code",
   "execution_count": 52,
   "metadata": {},
   "outputs": [
    {
     "name": "stdout",
     "output_type": "stream",
     "text": [
      "Increases minus decreases from 1975 to 1977 (when the death penalty was reinstated) among death penalty states: -18\n",
      "Test statistic 1975 to 1977 : -18\n"
     ]
    },
    {
     "data": {
      "text/plain": [
       "0.0058"
      ]
     },
     "execution_count": 52,
     "metadata": {},
     "output_type": "execute_result"
    }
   ],
   "source": [
    "print(\"Increases minus decreases from 1975 to 1977 (when the death penalty was reinstated) among death penalty states:\",\n",
    "      sum(death_penalty_murder_rates.where('Year', are.between_or_equal_to(1975, 1977))\n",
    "                                    .group('State', two_year_changes)\n",
    "                                    .column(\"Murder Rate two_year_changes\")))\n",
    "run_test(death_penalty_murder_rates, 1975)"
   ]
  },
  {
   "cell_type": "markdown",
   "metadata": {},
   "source": [
    "**Question 2.2.** Now we've analyzed states where the death penalty went away and came back, as well as states where the death penalty was outlawed all along.  What do you conclude from  the results of the tests we have conducted so far? Does all the evidence consistently point toward one conclusion, or is there a contradiction?\n",
    "\n",
    "1) Our results point toward the conclusion that the death penalty moratorium increased murder rates.\n",
    "\n",
    "2) Our results point toward the conclusion that the death penalty moratorium increased murder rates, but we have not accounted for differences over time as a confounding factor.\n",
    "\n",
    "3) Our results don't allow us to make any conclusion about murder rates and death penalties.\n",
    "\n",
    "4) Our results point toward the conclusion that the death penalty moratorium didn't influence murder rates.\n",
    "\n",
    "5) None of these conclusions are valid, or multiple of these conclusions are valid"
   ]
  },
  {
   "cell_type": "markdown",
   "metadata": {},
   "source": [
    "### Please conclude here\n",
    "From above, we conclude to number................."
   ]
  },
  {
   "cell_type": "markdown",
   "metadata": {},
   "source": [
    "## 3. Visualization\n",
    "\n",
    "While our analysis appears to support the conclusion that the death penalty deters murder, [a 2006 Stanford Law Review paper](http://users.nber.org/~jwolfers/papers/DeathPenalty%28SLR%29.pdf) argues the opposite: that historical murder rates do **not** provide evidence that the death penalty deters murderers.\n",
    "\n",
    "To understand their argument, we will draw a picture.  In fact, we've gone at this whole analysis rather backward; typically we should draw a picture first and ask precise statistical questions later!\n",
    "\n",
    "What plot should we draw?\n",
    "\n",
    "We know that we want to compare murder rates of states with and without the death penalty.  We know we should focus on the period around the two natural experiments of 1972 and 1976, and we want to understand the evolution of murder rates over time for those groups of states.  It might be useful to look at other time periods, so let's plot them all for good measure."
   ]
  },
  {
   "cell_type": "markdown",
   "metadata": {},
   "source": [
    "**Question 3.1.** <br/>Create a table called `average_murder_rates` with 1 row for each year in `murder_rates`.  It should have 3 columns:\n",
    "* `Year`, the year,\n",
    "* `Death penalty states`, the average murder rate of the states that had the death penalty in 1971, and\n",
    "* `No death penalty states`, the average murder rate of the other states.\n",
    "\n",
    "`average_murder_rates` should be sorted in increasing order by year.  Its first three rows should look like:\n",
    "\n",
    "|Year|Death penalty states|No death penalty states|\n",
    "|-|-|-|\n",
    "|1960| | |\n",
    "|1961| | |\n",
    "|1962| | ||\n",
    "\n",
    "*Hint 1:*  It's easiest to use `pivot`. We don't expect you to account for differences in population.\n",
    "\n",
    "*Hint 2:* You can reorder columns in a table using `.select`."
   ]
  },
  {
   "cell_type": "code",
   "execution_count": 53,
   "metadata": {},
   "outputs": [
    {
     "data": {
      "text/html": [
       "<table border=\"1\" class=\"dataframe\">\n",
       "    <thead>\n",
       "        <tr>\n",
       "            <th>Year</th> <th>Death penalty states</th> <th>No death penalty states</th>\n",
       "        </tr>\n",
       "    </thead>\n",
       "    <tbody>\n",
       "        <tr>\n",
       "            <td>1960</td> <td>5.27955             </td> <td>3.55                   </td>\n",
       "        </tr>\n",
       "        <tr>\n",
       "            <td>1961</td> <td>4.77727             </td> <td>3.68333                </td>\n",
       "        </tr>\n",
       "        <tr>\n",
       "            <td>1962</td> <td>4.61591             </td> <td>2.33333                </td>\n",
       "        </tr>\n",
       "        <tr>\n",
       "            <td>1963</td> <td>4.61364             </td> <td>2.75                   </td>\n",
       "        </tr>\n",
       "        <tr>\n",
       "            <td>1964</td> <td>4.71136             </td> <td>3.4                    </td>\n",
       "        </tr>\n",
       "        <tr>\n",
       "            <td>1965</td> <td>4.82727             </td> <td>3.18333                </td>\n",
       "        </tr>\n",
       "        <tr>\n",
       "            <td>1966</td> <td>5.43182             </td> <td>4.51667                </td>\n",
       "        </tr>\n",
       "        <tr>\n",
       "            <td>1967</td> <td>5.875               </td> <td>3.73333                </td>\n",
       "        </tr>\n",
       "        <tr>\n",
       "            <td>1968</td> <td>6.27045             </td> <td>4.73333                </td>\n",
       "        </tr>\n",
       "        <tr>\n",
       "            <td>1969</td> <td>6.50227             </td> <td>4.73333                </td>\n",
       "        </tr>\n",
       "    </tbody>\n",
       "</table>\n",
       "<p>... (34 rows omitted)</p>"
      ],
      "text/plain": [
       "Year | Death penalty states | No death penalty states\n",
       "1960 | 5.27955              | 3.55\n",
       "1961 | 4.77727              | 3.68333\n",
       "1962 | 4.61591              | 2.33333\n",
       "1963 | 4.61364              | 2.75\n",
       "1964 | 4.71136              | 3.4\n",
       "1965 | 4.82727              | 3.18333\n",
       "1966 | 5.43182              | 4.51667\n",
       "1967 | 5.875                | 3.73333\n",
       "1968 | 6.27045              | 4.73333\n",
       "1969 | 6.50227              | 4.73333\n",
       "... (34 rows omitted)"
      ]
     },
     "execution_count": 53,
     "metadata": {},
     "output_type": "execute_result"
    }
   ],
   "source": [
    "# For reference, our solution used 5 method calls\n",
    "''' see .pivot in datascience ....\n",
    "Table.pivot(columns, rows, values=None, collect=None, zero=None)[source]\n",
    "Generate a table with a column for each unique value in columns, with rows for each unique value in rows. \n",
    "Each row counts/aggregates the values that match both row and column based on collect.'''\n",
    "\n",
    "death_tbl = death_penalty_murder_rates.with_column('StateType', 'Death penalty states').pivot('StateType','Year',values = 'Murder Rate', collect = np.average ) \n",
    "non_death_tbl = non_death_penalty_murder_rates.with_column('StateType', ' No death penalty states').pivot('StateType','Year',values = 'Murder Rate', collect = np.average )\n",
    "average_murder_rates = death_tbl.with_column('No death penalty states',non_death_tbl.column(1) )\n",
    "average_murder_rates"
   ]
  },
  {
   "cell_type": "markdown",
   "metadata": {},
   "source": [
    "**Let's take a look at the line plot below. Are the murder rates in these two groups of states related?**"
   ]
  },
  {
   "cell_type": "code",
   "execution_count": 54,
   "metadata": {},
   "outputs": [
    {
     "data": {
      "image/png": "[encoded data removed]",
      "text/plain": [
       "<Figure size 432x288 with 1 Axes>"
      ]
     },
     "metadata": {},
     "output_type": "display_data"
    }
   ],
   "source": [
    "average_murder_rates.plot('Year')"
   ]
  },
  {
   "cell_type": "markdown",
   "metadata": {},
   "source": [
    "Yes, murder rates in the two groups of states are related as we can see that they share a similar trend in the plot above.\n",
    "\n",
    "Let's bring in another source of information: Canada."
   ]
  },
  {
   "cell_type": "code",
   "execution_count": 55,
   "metadata": {},
   "outputs": [
    {
     "ename": "FileNotFoundError",
     "evalue": "[Errno 2] File canada.csv does not exist: 'canada.csv'",
     "output_type": "error",
     "traceback": [
      "\u001b[1;31m---------------------------------------------------------------------------\u001b[0m",
      "\u001b[1;31mFileNotFoundError\u001b[0m                         Traceback (most recent call last)",
      "\u001b[1;32m<ipython-input-55-f99dba04729e>\u001b[0m in \u001b[0;36m<module>\u001b[1;34m\u001b[0m\n\u001b[1;32m----> 1\u001b[1;33m \u001b[0mcanada\u001b[0m \u001b[1;33m=\u001b[0m \u001b[0mTable\u001b[0m\u001b[1;33m.\u001b[0m\u001b[0mread_table\u001b[0m\u001b[1;33m(\u001b[0m\u001b[1;34m'canada.csv'\u001b[0m\u001b[1;33m)\u001b[0m\u001b[1;33m\u001b[0m\u001b[1;33m\u001b[0m\u001b[0m\n\u001b[0m\u001b[0;32m      2\u001b[0m \u001b[0mmurder_rates_with_canada\u001b[0m \u001b[1;33m=\u001b[0m \u001b[0maverage_murder_rates\u001b[0m\u001b[1;33m.\u001b[0m\u001b[0mjoin\u001b[0m\u001b[1;33m(\u001b[0m\u001b[1;34m\"Year\"\u001b[0m\u001b[1;33m,\u001b[0m \u001b[0mcanada\u001b[0m\u001b[1;33m.\u001b[0m\u001b[0mselect\u001b[0m\u001b[1;33m(\u001b[0m\u001b[1;34m\"Year\"\u001b[0m\u001b[1;33m,\u001b[0m \u001b[1;34m\"Homicide\"\u001b[0m\u001b[1;33m)\u001b[0m\u001b[1;33m.\u001b[0m\u001b[0mrelabeled\u001b[0m\u001b[1;33m(\u001b[0m\u001b[1;34m\"Homicide\"\u001b[0m\u001b[1;33m,\u001b[0m \u001b[1;34m\"Canada\"\u001b[0m\u001b[1;33m)\u001b[0m\u001b[1;33m)\u001b[0m\u001b[1;33m\u001b[0m\u001b[1;33m\u001b[0m\u001b[0m\n\u001b[0;32m      3\u001b[0m \u001b[0mmurder_rates_with_canada\u001b[0m\u001b[1;33m.\u001b[0m\u001b[0mplot\u001b[0m\u001b[1;33m(\u001b[0m\u001b[1;34m'Year'\u001b[0m\u001b[1;33m)\u001b[0m\u001b[1;33m\u001b[0m\u001b[1;33m\u001b[0m\u001b[0m\n",
      "\u001b[1;32m~\\anaconda3\\lib\\site-packages\\datascience\\tables.py\u001b[0m in \u001b[0;36mread_table\u001b[1;34m(cls, filepath_or_buffer, *args, **vargs)\u001b[0m\n\u001b[0;32m    123\u001b[0m         \u001b[1;32mexcept\u001b[0m \u001b[0mAttributeError\u001b[0m\u001b[1;33m:\u001b[0m\u001b[1;33m\u001b[0m\u001b[1;33m\u001b[0m\u001b[0m\n\u001b[0;32m    124\u001b[0m             \u001b[1;32mpass\u001b[0m\u001b[1;33m\u001b[0m\u001b[1;33m\u001b[0m\u001b[0m\n\u001b[1;32m--> 125\u001b[1;33m         \u001b[0mdf\u001b[0m \u001b[1;33m=\u001b[0m \u001b[0mpandas\u001b[0m\u001b[1;33m.\u001b[0m\u001b[0mread_csv\u001b[0m\u001b[1;33m(\u001b[0m\u001b[0mfilepath_or_buffer\u001b[0m\u001b[1;33m,\u001b[0m \u001b[1;33m*\u001b[0m\u001b[0margs\u001b[0m\u001b[1;33m,\u001b[0m \u001b[1;33m**\u001b[0m\u001b[0mvargs\u001b[0m\u001b[1;33m)\u001b[0m\u001b[1;33m\u001b[0m\u001b[1;33m\u001b[0m\u001b[0m\n\u001b[0m\u001b[0;32m    126\u001b[0m         \u001b[1;32mreturn\u001b[0m \u001b[0mcls\u001b[0m\u001b[1;33m.\u001b[0m\u001b[0mfrom_df\u001b[0m\u001b[1;33m(\u001b[0m\u001b[0mdf\u001b[0m\u001b[1;33m)\u001b[0m\u001b[1;33m\u001b[0m\u001b[1;33m\u001b[0m\u001b[0m\n\u001b[0;32m    127\u001b[0m \u001b[1;33m\u001b[0m\u001b[0m\n",
      "\u001b[1;32m~\\anaconda3\\lib\\site-packages\\pandas\\io\\parsers.py\u001b[0m in \u001b[0;36mparser_f\u001b[1;34m(filepath_or_buffer, sep, delimiter, header, names, index_col, usecols, squeeze, prefix, mangle_dupe_cols, dtype, engine, converters, true_values, false_values, skipinitialspace, skiprows, skipfooter, nrows, na_values, keep_default_na, na_filter, verbose, skip_blank_lines, parse_dates, infer_datetime_format, keep_date_col, date_parser, dayfirst, cache_dates, iterator, chunksize, compression, thousands, decimal, lineterminator, quotechar, quoting, doublequote, escapechar, comment, encoding, dialect, error_bad_lines, warn_bad_lines, delim_whitespace, low_memory, memory_map, float_precision)\u001b[0m\n\u001b[0;32m    674\u001b[0m         )\n\u001b[0;32m    675\u001b[0m \u001b[1;33m\u001b[0m\u001b[0m\n\u001b[1;32m--> 676\u001b[1;33m         \u001b[1;32mreturn\u001b[0m \u001b[0m_read\u001b[0m\u001b[1;33m(\u001b[0m\u001b[0mfilepath_or_buffer\u001b[0m\u001b[1;33m,\u001b[0m \u001b[0mkwds\u001b[0m\u001b[1;33m)\u001b[0m\u001b[1;33m\u001b[0m\u001b[1;33m\u001b[0m\u001b[0m\n\u001b[0m\u001b[0;32m    677\u001b[0m \u001b[1;33m\u001b[0m\u001b[0m\n\u001b[0;32m    678\u001b[0m     \u001b[0mparser_f\u001b[0m\u001b[1;33m.\u001b[0m\u001b[0m__name__\u001b[0m \u001b[1;33m=\u001b[0m \u001b[0mname\u001b[0m\u001b[1;33m\u001b[0m\u001b[1;33m\u001b[0m\u001b[0m\n",
      "\u001b[1;32m~\\anaconda3\\lib\\site-packages\\pandas\\io\\parsers.py\u001b[0m in \u001b[0;36m_read\u001b[1;34m(filepath_or_buffer, kwds)\u001b[0m\n\u001b[0;32m    446\u001b[0m \u001b[1;33m\u001b[0m\u001b[0m\n\u001b[0;32m    447\u001b[0m     \u001b[1;31m# Create the parser.\u001b[0m\u001b[1;33m\u001b[0m\u001b[1;33m\u001b[0m\u001b[1;33m\u001b[0m\u001b[0m\n\u001b[1;32m--> 448\u001b[1;33m     \u001b[0mparser\u001b[0m \u001b[1;33m=\u001b[0m \u001b[0mTextFileReader\u001b[0m\u001b[1;33m(\u001b[0m\u001b[0mfp_or_buf\u001b[0m\u001b[1;33m,\u001b[0m \u001b[1;33m**\u001b[0m\u001b[0mkwds\u001b[0m\u001b[1;33m)\u001b[0m\u001b[1;33m\u001b[0m\u001b[1;33m\u001b[0m\u001b[0m\n\u001b[0m\u001b[0;32m    449\u001b[0m \u001b[1;33m\u001b[0m\u001b[0m\n\u001b[0;32m    450\u001b[0m     \u001b[1;32mif\u001b[0m \u001b[0mchunksize\u001b[0m \u001b[1;32mor\u001b[0m \u001b[0miterator\u001b[0m\u001b[1;33m:\u001b[0m\u001b[1;33m\u001b[0m\u001b[1;33m\u001b[0m\u001b[0m\n",
      "\u001b[1;32m~\\anaconda3\\lib\\site-packages\\pandas\\io\\parsers.py\u001b[0m in \u001b[0;36m__init__\u001b[1;34m(self, f, engine, **kwds)\u001b[0m\n\u001b[0;32m    878\u001b[0m             \u001b[0mself\u001b[0m\u001b[1;33m.\u001b[0m\u001b[0moptions\u001b[0m\u001b[1;33m[\u001b[0m\u001b[1;34m\"has_index_names\"\u001b[0m\u001b[1;33m]\u001b[0m \u001b[1;33m=\u001b[0m \u001b[0mkwds\u001b[0m\u001b[1;33m[\u001b[0m\u001b[1;34m\"has_index_names\"\u001b[0m\u001b[1;33m]\u001b[0m\u001b[1;33m\u001b[0m\u001b[1;33m\u001b[0m\u001b[0m\n\u001b[0;32m    879\u001b[0m \u001b[1;33m\u001b[0m\u001b[0m\n\u001b[1;32m--> 880\u001b[1;33m         \u001b[0mself\u001b[0m\u001b[1;33m.\u001b[0m\u001b[0m_make_engine\u001b[0m\u001b[1;33m(\u001b[0m\u001b[0mself\u001b[0m\u001b[1;33m.\u001b[0m\u001b[0mengine\u001b[0m\u001b[1;33m)\u001b[0m\u001b[1;33m\u001b[0m\u001b[1;33m\u001b[0m\u001b[0m\n\u001b[0m\u001b[0;32m    881\u001b[0m \u001b[1;33m\u001b[0m\u001b[0m\n\u001b[0;32m    882\u001b[0m     \u001b[1;32mdef\u001b[0m \u001b[0mclose\u001b[0m\u001b[1;33m(\u001b[0m\u001b[0mself\u001b[0m\u001b[1;33m)\u001b[0m\u001b[1;33m:\u001b[0m\u001b[1;33m\u001b[0m\u001b[1;33m\u001b[0m\u001b[0m\n",
      "\u001b[1;32m~\\anaconda3\\lib\\site-packages\\pandas\\io\\parsers.py\u001b[0m in \u001b[0;36m_make_engine\u001b[1;34m(self, engine)\u001b[0m\n\u001b[0;32m   1112\u001b[0m     \u001b[1;32mdef\u001b[0m \u001b[0m_make_engine\u001b[0m\u001b[1;33m(\u001b[0m\u001b[0mself\u001b[0m\u001b[1;33m,\u001b[0m \u001b[0mengine\u001b[0m\u001b[1;33m=\u001b[0m\u001b[1;34m\"c\"\u001b[0m\u001b[1;33m)\u001b[0m\u001b[1;33m:\u001b[0m\u001b[1;33m\u001b[0m\u001b[1;33m\u001b[0m\u001b[0m\n\u001b[0;32m   1113\u001b[0m         \u001b[1;32mif\u001b[0m \u001b[0mengine\u001b[0m \u001b[1;33m==\u001b[0m \u001b[1;34m\"c\"\u001b[0m\u001b[1;33m:\u001b[0m\u001b[1;33m\u001b[0m\u001b[1;33m\u001b[0m\u001b[0m\n\u001b[1;32m-> 1114\u001b[1;33m             \u001b[0mself\u001b[0m\u001b[1;33m.\u001b[0m\u001b[0m_engine\u001b[0m \u001b[1;33m=\u001b[0m \u001b[0mCParserWrapper\u001b[0m\u001b[1;33m(\u001b[0m\u001b[0mself\u001b[0m\u001b[1;33m.\u001b[0m\u001b[0mf\u001b[0m\u001b[1;33m,\u001b[0m \u001b[1;33m**\u001b[0m\u001b[0mself\u001b[0m\u001b[1;33m.\u001b[0m\u001b[0moptions\u001b[0m\u001b[1;33m)\u001b[0m\u001b[1;33m\u001b[0m\u001b[1;33m\u001b[0m\u001b[0m\n\u001b[0m\u001b[0;32m   1115\u001b[0m         \u001b[1;32melse\u001b[0m\u001b[1;33m:\u001b[0m\u001b[1;33m\u001b[0m\u001b[1;33m\u001b[0m\u001b[0m\n\u001b[0;32m   1116\u001b[0m             \u001b[1;32mif\u001b[0m \u001b[0mengine\u001b[0m \u001b[1;33m==\u001b[0m \u001b[1;34m\"python\"\u001b[0m\u001b[1;33m:\u001b[0m\u001b[1;33m\u001b[0m\u001b[1;33m\u001b[0m\u001b[0m\n",
      "\u001b[1;32m~\\anaconda3\\lib\\site-packages\\pandas\\io\\parsers.py\u001b[0m in \u001b[0;36m__init__\u001b[1;34m(self, src, **kwds)\u001b[0m\n\u001b[0;32m   1889\u001b[0m         \u001b[0mkwds\u001b[0m\u001b[1;33m[\u001b[0m\u001b[1;34m\"usecols\"\u001b[0m\u001b[1;33m]\u001b[0m \u001b[1;33m=\u001b[0m \u001b[0mself\u001b[0m\u001b[1;33m.\u001b[0m\u001b[0musecols\u001b[0m\u001b[1;33m\u001b[0m\u001b[1;33m\u001b[0m\u001b[0m\n\u001b[0;32m   1890\u001b[0m \u001b[1;33m\u001b[0m\u001b[0m\n\u001b[1;32m-> 1891\u001b[1;33m         \u001b[0mself\u001b[0m\u001b[1;33m.\u001b[0m\u001b[0m_reader\u001b[0m \u001b[1;33m=\u001b[0m \u001b[0mparsers\u001b[0m\u001b[1;33m.\u001b[0m\u001b[0mTextReader\u001b[0m\u001b[1;33m(\u001b[0m\u001b[0msrc\u001b[0m\u001b[1;33m,\u001b[0m \u001b[1;33m**\u001b[0m\u001b[0mkwds\u001b[0m\u001b[1;33m)\u001b[0m\u001b[1;33m\u001b[0m\u001b[1;33m\u001b[0m\u001b[0m\n\u001b[0m\u001b[0;32m   1892\u001b[0m         \u001b[0mself\u001b[0m\u001b[1;33m.\u001b[0m\u001b[0munnamed_cols\u001b[0m \u001b[1;33m=\u001b[0m \u001b[0mself\u001b[0m\u001b[1;33m.\u001b[0m\u001b[0m_reader\u001b[0m\u001b[1;33m.\u001b[0m\u001b[0munnamed_cols\u001b[0m\u001b[1;33m\u001b[0m\u001b[1;33m\u001b[0m\u001b[0m\n\u001b[0;32m   1893\u001b[0m \u001b[1;33m\u001b[0m\u001b[0m\n",
      "\u001b[1;32mpandas\\_libs\\parsers.pyx\u001b[0m in \u001b[0;36mpandas._libs.parsers.TextReader.__cinit__\u001b[1;34m()\u001b[0m\n",
      "\u001b[1;32mpandas\\_libs\\parsers.pyx\u001b[0m in \u001b[0;36mpandas._libs.parsers.TextReader._setup_parser_source\u001b[1;34m()\u001b[0m\n",
      "\u001b[1;31mFileNotFoundError\u001b[0m: [Errno 2] File canada.csv does not exist: 'canada.csv'"
     ]
    }
   ],
   "source": [
    "canada = Table.read_table('canada.csv')\n",
    "murder_rates_with_canada = average_murder_rates.join(\"Year\", canada.select(\"Year\", \"Homicide\").relabeled(\"Homicide\", \"Canada\"))\n",
    "murder_rates_with_canada.plot('Year')"
   ]
  },
  {
   "cell_type": "markdown",
   "metadata": {},
   "source": [
    "The line plot we generated above is similar to a figure from the [paper](http://users.nber.org/~jwolfers/papers/DeathPenalty%28SLR%29.pdf).\n",
    "\n",
    "<img src=\"paper_plot.png\" alt=\"Homicide Rates in the United States vs Canada.\"/>\n",
    "\n",
    "Canada has not executed a criminal since 1962. Since 1967, the only crime that can be punished by execution in Canada is the murder of on-duty law enforcement personnel. The paper states, \"The most striking finding is that the homicide rate in Canada has moved in\n",
    "virtual lockstep with the rate in the United States.\""
   ]
  },
  {
   "cell_type": "markdown",
   "metadata": {},
   "source": [
    "From the plots, we can conclude that murder rates in the two countries moved together even around points where death penalty legislation was passed. This seems to suggest that other changes over time determined murder rates in both countries, rather than one or the other's legislation. This and the plots indicate that the death penalty is not an important factor in determining the murder rateFor more information, read the [paper](http://users.nber.org/~jwolfers/papers/DeathPenalty%28SLR%29.pdf)."
   ]
  },
  {
   "cell_type": "markdown",
   "metadata": {},
   "source": [
    "**Conclusion**. The authors that created this visualization argue that even though murder rates increased when the death penalty was taken away, and decreased when it was reintroduced, these changes were probably not caused by the death penalty itself."
   ]
  }
 ],
 "metadata": {
  "kernelspec": {
   "display_name": "Python 3",
   "language": "python",
   "name": "python3"
  },
  "language_info": {
   "codemirror_mode": {
    "name": "ipython",
    "version": 3
   },
   "file_extension": ".py",
   "mimetype": "text/x-python",
   "name": "python",
   "nbconvert_exporter": "python",
   "pygments_lexer": "ipython3",
   "version": "3.7.6"
  }
 },
 "nbformat": 4,
 "nbformat_minor": 2
}
