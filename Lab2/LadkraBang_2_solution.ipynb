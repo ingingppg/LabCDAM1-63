
<!-- saved from url=(0014)about:internet -->
<html><head><meta http-equiv="Content-Type" content="text/html; charset=UTF-8"></head><body>{
 "cells": [
  {
   "cell_type": "markdown",
   "metadata": {},
   "source": [
    "# Foundation for Analysis in the Health Data\n",
    "\n",
    "This practice is modified from BerkeleyX Data8x(edX)'s practice labs.\n",
    "\n",
    "## Lab 2: Simulation, Estimation, Sampling &amp; Inference\n"
   ]
  },
  {
   "cell_type": "code",
   "execution_count": 1,
   "metadata": {},
   "outputs": [],
   "source": [
    "import numpy as np\n",
    "from datascience import *\n",
    "\n",
    "import matplotlib\n",
    "%matplotlib inline\n",
    "import matplotlib.pyplot as plots\n",
    "plots.style.use('fivethirtyeight')"
   ]
  },
  {
   "cell_type": "markdown",
   "metadata": {},
   "source": [
    "# Sampling"
   ]
  },
  {
   "cell_type": "code",
   "execution_count": 2,
   "metadata": {},
   "outputs": [
    {
     "data": {
      "text/html": [
       "\n",
       "    \n",
       "        \n",
       "            \n",
       "        \n",
       "    \n",
       "    \n",
       "        \n",
       "            \n",
       "        \n",
       "        \n",
       "            \n",
       "        \n",
       "        \n",
       "            \n",
       "        \n",
       "        \n",
       "            \n",
       "        \n",
       "        \n",
       "            \n",
       "        \n",
       "        \n",
       "            \n",
       "        \n",
       "    \n",
       "<table border="\&quot;1\&quot;" class="\&quot;dataframe\&quot;"><thead><tr><th>face</th></tr></thead><tbody><tr><td>1   </td></tr><tr><td>2   </td></tr><tr><td>3   </td></tr><tr><td>4   </td></tr><tr><td>5   </td></tr><tr><td>6   </td></tr></tbody></table>"
      ],
      "text/plain": [
       "face\n",
       "1\n",
       "2\n",
       "3\n",
       "4\n",
       "5\n",
       "6"
      ]
     },
     "execution_count": 2,
     "metadata": {},
     "output_type": "execute_result"
    }
   ],
   "source": [
    "# Playing dice \n",
    "die = Table().with_column('face', np.arange(6)+1)\n",
    "die"
   ]
  },
  {
   "cell_type": "code",
   "execution_count": 3,
   "metadata": {},
   "outputs": [
    {
     "data": {
      "image/png": "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\n",
      "text/plain": [
       "<figure size="" 432x288="" with="" 1="" axes="">"
      ]
     },
     "metadata": {},
     "output_type": "display_data"
    }
   ],
   "source": [
    "def face_hist(t):\n",
    "    t.hist('face', bins=np.arange(0.5, 7, 1), unit='face')\n",
    "    plots.xlabel('Face')\n",
    "\n",
    "face_hist(die)"
   ]
  },
  {
   "cell_type": "code",
   "execution_count": 4,
   "metadata": {},
   "outputs": [
    {
     "data": {
      "image/png": "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\n",
      "text/plain": [
       "<figure size="" 432x288="" with="" 1="" axes="">"
      ]
     },
     "metadata": {},
     "output_type": "display_data"
    }
   ],
   "source": [
    "# Try changing the sample size of 1000 to larger and smaller numbers\n",
    "face_hist(die.sample(1000))"
   ]
  },
  {
   "cell_type": "markdown",
   "metadata": {},
   "source": [
    "\n",
    "# Large Random Samples"
   ]
  },
  {
   "cell_type": "code",
   "execution_count": 6,
   "metadata": {},
   "outputs": [
    {
     "data": {
      "text/html": [
       "\n",
       "    \n",
       "        \n",
       "            \n",
       "        \n",
       "    \n",
       "    \n",
       "        \n",
       "            \n",
       "        \n",
       "        \n",
       "            \n",
       "        \n",
       "        \n",
       "            \n",
       "        \n",
       "        \n",
       "            \n",
       "        \n",
       "        \n",
       "            \n",
       "        \n",
       "        \n",
       "            \n",
       "        \n",
       "        \n",
       "            \n",
       "        \n",
       "        \n",
       "            \n",
       "        \n",
       "        \n",
       "            \n",
       "        \n",
       "        \n",
       "            \n",
       "        \n",
       "    \n",
       "<table border="\&quot;1\&quot;" class="\&quot;dataframe\&quot;"><thead><tr><th>Date</th> <th>Flight Number</th> <th>Destination</th> <th>Delay</th></tr></thead><tbody><tr><td>6/1/15</td> <td>73           </td> <td>HNL        </td> <td>257  </td></tr><tr><td>6/1/15</td> <td>217          </td> <td>EWR        </td> <td>28   </td></tr><tr><td>6/1/15</td> <td>237          </td> <td>STL        </td> <td>-3   </td></tr><tr><td>6/1/15</td> <td>250          </td> <td>SAN        </td> <td>0    </td></tr><tr><td>6/1/15</td> <td>267          </td> <td>PHL        </td> <td>64   </td></tr><tr><td>6/1/15</td> <td>273          </td> <td>SEA        </td> <td>-6   </td></tr><tr><td>6/1/15</td> <td>278          </td> <td>SEA        </td> <td>-8   </td></tr><tr><td>6/1/15</td> <td>292          </td> <td>EWR        </td> <td>12   </td></tr><tr><td>6/1/15</td> <td>300          </td> <td>HNL        </td> <td>20   </td></tr><tr><td>6/1/15</td> <td>317          </td> <td>IND        </td> <td>-10  </td></tr></tbody></table>\n",
       "<p>... (13722 rows omitted)</p>"
      ],
      "text/plain": [
       "Date   | Flight Number | Destination | Delay\n",
       "6/1/15 | 73            | HNL         | 257\n",
       "6/1/15 | 217           | EWR         | 28\n",
       "6/1/15 | 237           | STL         | -3\n",
       "6/1/15 | 250           | SAN         | 0\n",
       "6/1/15 | 267           | PHL         | 64\n",
       "6/1/15 | 273           | SEA         | -6\n",
       "6/1/15 | 278           | SEA         | -8\n",
       "6/1/15 | 292           | EWR         | 12\n",
       "6/1/15 | 300           | HNL         | 20\n",
       "6/1/15 | 317           | IND         | -10\n",
       "... (13722 rows omitted)"
      ]
     },
     "execution_count": 6,
     "metadata": {},
     "output_type": "execute_result"
    }
   ],
   "source": [
    "# united.csv is provided, upload it!\n",
    "united = Table.read_table('united.csv')\n",
    "united"
   ]
  },
  {
   "cell_type": "code",
   "execution_count": 7,
   "metadata": {},
   "outputs": [
    {
     "data": {
      "image/png": "iVBORw0KGgoAAAANSUhEUgAAAbUAAAEcCAYAAABAuSr7AAAABHNCSVQICAgIfAhkiAAAAAlwSFlzAAALEgAACxIB0t1+/AAAADl0RVh0U29mdHdhcmUAbWF0cGxvdGxpYiB2ZXJzaW9uIDMuMC4yLCBodHRwOi8vbWF0cGxvdGxpYi5vcmcvOIA7rQAAIABJREFUeJzt3XlcVHW/B/DPAAIKKgiEIuAC4wKCC4qmT5obPupVzA2Fx5s7mqmZG+pNMPVB1DRXrom7WCKQAW6PluWKW5mkWZiAYrHIlozCKMz9wxdzI5jhDMzO5/168Xo55/zOnO93jvLxnDmLqLCwUAYiIiIjYKLrAoiIiNSFoUZEREaDoUZEREaDoUZEREaDoUZEREaDoUZEREaDoUZEREaDoUZEREaDoabHUlNTdV2CWrEf/WVMvQDsR99psh+GGhERGQ2GGhERGQ2GGhERGQ2GGhERGQ2GGhERGQ2GGhERGQ2GGhERGQ2GGhERGQ0zXRdQH2XnFuBpwZ81jjMTcfMQEamCvzV14GnBn/h4a3SN4z6c5q+FaoiIjAcPPxIRkdFgqBERkdHQWajt3r0bvXv3houLC1xcXDB48GCcOXNG4fiMjAzY2NhU+Tl37pwWqyYiIn2ms+/UnJycsGrVKri5uaG8vByff/45goKC8O2336JTp04Kl4uLi6s039bWVhvlEhGRAdBZqA0fPrzS648++gh79uzBjRs3lIZas2bN4OjoqOnyiIjIAOnFd2plZWWIi4uDRCKBr6+v0rGTJk2Cu7s7hgwZgq+++kpLFRIRkSHQ6Sn9d+/ehZ+fH0pKSmBlZYXDhw/D09Oz2rHW1tZYvXo1evXqBTMzM5w8eRJTpkxBZGQkAgIClK5H3x6wVyyRQiKRCBqrb7XXFfvRX8bUC8B+9F1d+hGLxQrniQoLC2W1fuc6kkqlyMzMRFFRERISEnDgwAEkJSXBw8ND0PILFy7E1atXceXKFQ1Xql53f80QfJ1az67Vh7whSk1NVfqX0dAYUz/G1AvAfvSdJvvR6eFHc3NztG3bFl27dkVoaCi8vLywc+dOwcv7+Pjg4cOHGqyQiIgMiV58p1ahvLwcUqlU8PiUlBSeNEJERHI6+04tLCwMfn5+aNmyJYqLixEbG4tLly4hJiYGALBq1SrcunULCQkJAIAjR46gQYMG8Pb2homJCU6fPo2oqCiEhYXpqgUiItIzOgu17OxszJw5Ezk5OWjSpAk8PT0RGxuLgQMHAgCysrKQlpZWaZmNGzfi8ePHMDU1hZubG7Zv317jSSJERFR/6CzUIiMjVZofGBiIwMBATZZEREQGTq++UyMiIqoLhhoRERkNhhoRERkNhhoRERkNhhoRERkNhhoRERkNhhoRERkNhhoRERkNhhoRERkNhhoRERkNhhoRERkNle/9+PjxY1y+fBm5ubl455134OzsjFevXqGgoAC2trYwM9Ppw7SJiKgeUymBli9fjs8++wxlZWUQiUTw9vaGs7Mznj9/jm7duiEkJARz5szRVK1ERERKCT78uHXrVkRGRmLOnDk4fvw4ZDKZfF6TJk0wfPhwJCUlaaRIIiIiIQSH2oEDBzB+/HisWrUKXl5eVeZ7enrit99+U2txREREqhAcapmZmejdu7fC+Y0bN0ZRUZFaiiIiIqoNwaHWrFkzZGVlKZx/9+5dtGjRQi1FERER1YbgUPPz88OBAweQl5dXZd6PP/6Iw4cPY/jw4WotjoiISBWCQ2358uUwMTFB7969ERYWBpFIhOjoaEydOhWDBw+Gk5MTFi9erMlaiYiIlBIcao6Ojvj222/xz3/+E4mJiZDJZDh27BjOnTuHgIAA/Oc//4GNjY0mayUiIlJKpevU7O3tsWXLFmzZsgVPnz5FeXk57O3tYWKivRuT7N69G/v27cPjx48BAB06dMCiRYswZMgQrdVARET6SXAazZkzBzdv3pS/tre3xxtvvCEPtFu3bmnlwmsnJyesWrUK3333Hc6fP4++ffsiKCgIP/30k8bXTURE+k1wqB05cgRpaWkK52dkZODzzz9XS1HKDB8+HIMHD0bbtm3h7u6Ojz76CNbW1rhx44bG101ERPpNbTdqzM/Ph4WFhbreTpCysjIcP34cEokEvr6+Wl03ERHpH6WhdvnyZVy6dEn+OjExEQ8fPqwyrrCwEPHx8ejUqZP6K6zG3bt34efnh5KSElhZWeHw4cPw9PRUOD41NVUrdQlVLJFCIpEIGqtvtdcV+9FfxtQLwH70XV36EYvFCucpDbWLFy8iIiICACASiZCYmIjExESFKwkPD691kaoQi8W4ePEiioqKkJCQgNmzZyMpKQkeHh4Kx+uTu79mwMrKStBYfau9LlJTU9mPnjKmXgD2o+802Y/SUJs7dy6mTp0KmUyGDh06YOPGjRgxYkSlMSKRCI0aNRL8S1odzM3N0bZtWwBA165d8f3332Pnzp3Yvn271mogIiL9ozTUrKys5GH1448/wt7eHo0aNdJKYaooLy+HVCrVdRlqZ2lhgbu/ZtQ4zt62CRwdbLVQERGRfhN8ooirq6sm6xAsLCwMfn5+aNmyJYqLixEbG4tLly4hJiZG16Wp3Z+SF9h+oOa+Vs4LYqgREUGFUPP29oZIJFI6RiQS4fbt23UuSpns7GzMnDkTOTk5aNKkCTw9PREbG4uBAwdqdL1ERKT/BIdanz59qoRaWVkZHj16hOvXr6Njx47w9vZWe4F/FxkZqfF1EBGRYRIcasrC5Pbt2xg7dizWrl2rlqKIiIhqQy03bezSpQsmT56MsLAwdbwdERFRrajtTsROTk64f/++ut6OiIhIZWoJtZcvXyIuLg4ODg7qeDsiIqJaEfydmqI78BcVFeHGjRvIycnB+vXr1VYYERGRqgSH2oULF6qc/SgSiWBjY4PevXtj8uTJ6Nevn9oLJCIiEkpwqKWkpGiyDiIiojrT3iOriYiINEzl56n98ssvSE9PR0FBAWQyWZX5EydOVEthREREqhIcahkZGQgODsb169erDTPg9XdsDDUiItIVwaG2YMEC3LlzB2vXrkWfPn1gY2OjybqIiIhUJjjUrl69innz5mH27NmarIeIiKjWBJ8o0rRpU9jZ2WmyFiIiojoRHGqBgYE4fvy4JmshIiKqE8GHHwcPHozz589jxIgRmDJlCpydnWFqalplnI+Pj1oLJCIiEkpwqA0bNkz+58uXL1eZL5PJIBKJkJ+fr57KiIiIVCQ41Hbs2KHJOoiIiOpMcKgFBgZqsg4iIqI6422yiIjIaCjcU4uIiIBIJMKiRYtgYmKCiIiIGt9MJBJhyZIlgla8adMmJCYm4sGDBzA3N0f37t0RGhoKDw8PhctkZGSgc+fOVabHxsZi0KBBgtZLRETGS2GorVu3DiKRCB988AHMzc2xbt26Gt9MlVC7dOkSpk2bhm7dukEmk+Hf//43Ro0ahWvXrsHW1lbpsnFxcejUqZP8dU3jiYioflAYagUFBUpf11V8fHyl17t27YKrqyuSk5MxdOhQpcs2a9YMjo6Oaq2HiIgMn958p1ZcXIzy8nJB95ScNGkS3N3dMWTIEHz11VdaqI6IiAyByo+e0ZSQkBB4eXnB19dX4Rhra2usXr0avXr1gpmZGU6ePIkpU6YgMjISAQEBWqyWiIj0kUqhdvLkSRw6dAjp6ekoLCys8ggakUiEn3/+WeUili9fjuTkZJw+fbrau5RUsLOzw9y5c+Wvu3btivz8fGzZskVpqKWmpqpckyYVS6SQSCSCxgoZVywp1rseFTGUOoUypn6MqReA/ei7uvQjFosVzhMcahEREYiIiEDTpk3RqVMntG3bttYF/dWyZcsQHx+PxMREtG7dWuXlfXx8EB0drXSMsg9AF+7+mgErKytBY4WMs7ayhljcqq5laVxqaqrebYu6MKZ+jKkXgP3oO032IzjUdu/ejX79+uGLL76AhYWFWla+dOlSxMfHIykpCe3atavVe6SkpPCkESIiAqBCqL18+RIjR45UW6AtWrQIR48exeHDh2FjY4Ps7GwAr/dMrK2tAQCrVq3CrVu3kJCQAAA4cuQIGjRoAG9vb5iYmOD06dOIiopCWFiYWmoiIiLDJjjUBgwYgB9++AFTpkxRy4qjoqIAAP7+/pWmL126FMuWLQMAZGVlIS0trdL8jRs34vHjxzA1NYWbmxu2b9/Ok0SIiAiACqG2YcMGvPPOO1i3bh2CgoLg7OwMkUhU6xUXFhbWOCYyMrLS68DAQN6DkoiIFBIcavb29hgzZgw+/vhjrF+/vtoxIpEIeXl5aiuOiIhIFYJDLSwsDFu3bkWrVq3g4+ODJk2aaLIuIiIilQkOtYMHD2LYsGE4fPiwJushIiKqNcG3ySovL8fAgQM1WQsREVGdCA61oUOH4tKlS5qshYiIqE4Eh9rChQuRmpqK+fPn4+bNm8jKykJubm6VHyIiIl0R/J1ajx49ALy+g8ehQ4cUjsvPz697VURERLUgONSWLFlSp+vSiIiINE1wqFXc5YOIiEhf6c1DQomIiOqKoUZEREaDoUZEREaDoUZEREaDoUZEREZDUKiVlJQgIiIC33zzjabrISIiqjVBoWZpaYnNmzcjMzNT0/UQERHVmuDDj15eXnj48KEmayEiIqoTwaG2cuVKHDx4EGfOnNFkPURERLUm+I4iW7duhY2NDSZOnAgnJye0bt0aDRs2rDRGJBIhJiZG7UUSEREJITjU7t+/D5FIBGdnZwDAo0ePqozhvSGJiEiXBIdaSkqKJusQbNOmTUhMTMSDBw9gbm6O7t27IzQ0FB4eHroujYiIdMzgrlO7dOkSpk2bhjNnziAhIQFmZmYYNWoUCgoKdF0aERHpmOA9NQAoKytDXFwcLly4gNzcXHz00Ufo1KkTCgsLcf78ebz55pto3ry5pmoFAMTHx1d6vWvXLri6uiI5ORlDhw7V6LqJiEi/Cd5TKyoqgp+fH4KDg/HVV1/h7NmzyMvLAwA0btwYK1aswGeffaaxQhUpLi5GeXk5bGxstL5uIiLSL4L31FatWoX79+/j2LFj6Nq1K9zd3eXzTE1NMWLECJw9exYrV67USKGKhISEwMvLC76+vgrHpKamarGimhVLpJBIJILGChlXLCnWux4VMZQ6hTKmfoypF4D96Lu69CMWixXOExxqJ06cwMyZMzFo0CDk5+dXme/m5oajR4/WrsJaWr58OZKTk3H69GmYmpoqHKfsA9CFu79mwMrKStBYIeOsrawhFreqa1kal5qaqnfboi6MqR9j6gVgP/pOk/0IDrXCwkK0adNG4XyZTAapVKqWooRYtmwZ4uPjkZiYiNatW2ttvUREpL8Eh5qrqyvu3buncP7ly5crHZLUpKVLlyI+Ph5JSUlo166dVtZJRET6T/CJIuPGjcPBgwdx+fJl+bSKi6137dqFpKQkBAYGqr/Cv1m0aBGOHDmCqKgo2NjYIDs7G9nZ2SguLtb4uomISL8J3lNbsGABbt68iZEjR8Ld3R0ikQghISHIz89HdnY2hg8fjuDgYE3WCgCIiooCAPj7+1eavnTpUixbtkzj6yciIv0lONQaNGiAmJgYHDt2DMePH4dIJMKrV6/QuXNnjB49GuPHj9fKbbIKCws1vg4iIjJMKl18Dbw+DDlu3DhN1EJERFQnKocaAPz00094/PgxAMDFxQWenp68mTEREemcSqEWFxeH0NBQ/P7775DJZABenyzi5OSE0NBQ7sEREZFOCQ616OhovP/++xCLxVi1ahXc3d0hk8nw22+/4eDBgwgODoZUKkVQUJAm6yUiIlJIcKht2rQJPj4+SEpKgqWlZaV5M2bMwLBhw7Bp0yaGGhER6Yzg69SePHmCcePGVQk0ALC0tERAQAB+//13tRZHRESkCsGh1qFDB/zxxx8K5//+++9o3769WooiIiKqDcGh9vHHH+PAgQP48ssvq8yLi4vDwYMHsXr1arUWR0REpArB36lt27YNdnZ2mDZtGkJCQtCmTRuIRCI8fPgQubm5cHNzw9atW7F161b5MiKRCDExMRopnIiI6O8Eh9r9+/chEong7OwMAPLvzywsLODs7IzS0lL88ssvlZbhtWtERKRNgkMtJSVFk3UQERHVmeDv1IiIiPQdQ42IiIwGQ42IiIwGQ42IiIwGQ42IiIwGQ42IiIyG4FDr3LkzTp48qXD+6dOn0blzZ7UURUREVBuCQ+3Ro0eQSCQK50skEvmDQ4mIiHRBpcOPyu4Q8uDBAzRu3FillV++fBkTJkxAx44dYWNjg+joaKXjMzIyYGNjU+Xn3LlzKq2XiIiMk9I7ihw5cgSff/65/PXGjRtx4MCBKuMKCwtx7949DBkyRKWVSyQSeHh4YOLEiZg1a5bg5eLi4tCpUyf5a1tbW5XWS0RExklpqEkkEmRnZ8tfFxUVoby8vNIYkUiERo0a4d1330VISIhKK/fz84Ofnx8A4L333hO8XLNmzeDo6KjSuoiIyPgpDbUZM2ZgxowZAABvb2+sW7cOw4YN00phykyaNAklJSVwc3PDe++9B39/f12XREREekDwDY3v3LmjyToEsba2xurVq9GrVy+YmZnh5MmTmDJlCiIjIxEQEKDr8oiISMcEh1qFZ8+eITMzEwUFBZDJZFXm9+nTRy2FVcfOzg5z586Vv+7atSvy8/OxZcsWpaGWmpqqsZpqo1giVXom6V8JGVcsKda7HhUxlDqFMqZ+jKkXgP3ou7r0IxaLFc4THGoFBQVYunQpvvzyS5SVlVWZL5PJIBKJkJ+fX7sqa8nHx6fGsyaVfQC6cPfXDFhZWQkaK2SctZU1xOJWdS1L41JTU/VuW9SFMfVjTL0A7EffabIfwaG2YMECJCUlYcaMGejTpw9sbGw0UpCqUlJSeNIIEREBUCHUzp07h+DgYKxdu1ZtKy8uLsbDhw8BAOXl5cjMzMSdO3dga2sLFxcXrFq1Crdu3UJCQgKA15cYNGjQAN7e3jAxMcHp06cRFRWFsLAwtdVERESGS3ComZubw83NTa0r/+GHHzBixAj56/DwcISHh2PixImIjIxEVlYW0tLSKi2zceNGPH78GKampnBzc8P27dt5kggREQFQIdT8/f1x9uxZTJ06VW0rf+utt1BYWKhwfmRkZKXXgYGBCAwMVNv6iYjIuAi+TdbcuXORlZWFWbNm4caNG8jKykJubm6VHyIiIl0RvKfm4+MDkUiE27dvIyYmRuE4bZ/9SEREVEFwqC1ZskTpDY2JiIh0TXCoLVu2TJN1EBER1VmtnnxdVlaG/Px8vHr1St31EBER1ZpKofb9999j1KhRcHJygru7Oy5fvgwAyMvLw/jx4/Hdd99ppEgiIiIhBIfa9evXMWzYMKSlpWHChAmV7vtoZ2eH4uJiHDp0SCNFEhERCSE41FavXg03Nzdcu3YNK1eurDL/rbfews2bN9VaHBERkSoEh9r333+Pf/3rX7C0tKz2LMiWLVtWeqAoERGRtgkONRMTE5iYKB6enZ2Nhg0bqqUoIiKi2hAcal26dMHp06ernSeVSnHs2DH4+vqqrTAiIiJVCQ61Dz/8EBcuXMD777+PlJQUAEBWVhbOnTuHkSNHIi0tDQsXLtRYoURERDURfPF1//79sWvXLixevBhHjhwBAMyePRsymQxNmzZFVFQUevToobFCiYiIaiI41ABg7NixGDZsGM6fP4/ffvsN5eXlaNOmDQYOHAhra2tN1UhERCSISqEGAI0aNcLw4cM1UQsREVGdCP5O7eTJk1i8eLHC+YsXL1Z4IgkREZE2CA61bdu24fnz5wrnl5SUYMuWLWopioiIqDYEh9q9e/fQpUsXhfM7d+6M+/fvq6UoIiKi2hAcaq9evcKLFy8Uzn/x4gVKS0vVUhQREVFtCA41Dw8PJCQkoLy8vMq88vJyJCQkoEOHDmotjoiISBWCQ23WrFm4desWJk6ciNu3b6O0tBSlpaW4ffs2AgMDcevWLQQHB2uyVgDA5cuXMWHCBHTs2BE2NjaIjo7W+DqJiMgwCD6lf8yYMUhLS0N4eDjOnj0LABCJRJDJZBCJRFi6dCkCAgI0VmgFiUQCDw8PTJw4EbNmzdL4+gyBSATc/TVD0Fh72yZwdLDVcEVERLqh0nVqixYtwtixY5GYmIj09HTIZDK0adMGI0aMQOvWrTVUYmV+fn7w8/MDALz33ntaWae+K3r2HJ/u/VLQ2JXzghhqRGS0BIVaaWkp4uPj0a5dO/j4+GDu3LmarouIiEhlgkLNwsIC8+fPx/r16+Hj46PpmtQuNTVV1yVUUiyRQiKRCBorZNyrsleC369YUqzTz0PftkVdGVM/xtQLwH70XV36EYvFCucJPvwoFosN9iGgyj4AXbj7awasrKwEjRUyzszUTPD7WVtZQyxuJWisuqWmpurdtqgLY+rHmHoB2I++02Q/gs9+XLJkCXbv3o27d+9qpBAiIqK6ErynduHCBTg4OKBv377w9fVFmzZtqjzpWiQSYePGjWovkoiISAjBobZ37175n5OTk5GcnFxljDZCrbi4GA8fPgTw+qLvzMxM3LlzB7a2tnBxcdHouomISL8JDrWCggJN1iHYDz/8gBEjRshfh4eHIzw8HBMnTkRkZKQOKyMiIl1T+XlquvbWW2+hsLBQ12UQEZEeUjnUkpOTceHCBeTm5iI4OBju7u6QSCS4f/8+xGIxmjRpook6iYiIaiQ41KRSKaZOnYqTJ0/Kb431X//1X3B3d4epqSnGjh2LOXPmYNGiRZqsl4iISCHBp/SHh4fjzJkz2LBhA27cuAGZTCafZ2lpiVGjRuHUqVMaKZKIiEgIwaF27NgxTJ48GdOmTUOzZs2qzBeLxUhPT1dnbURERCoRHGq5ubnw8vJSON/CwkLwrZqIiIg0QXCoOTo6Kt0Tu3XrFlq10s3tl4iIiAAVQm3kyJHYt28fHjx4IJ8mEokAAKdOncKxY8cwevRo9VdIREQkkOBQW7p0KVxcXNCvXz9Mnz4dIpEImzZtwqBBgxAUFIQuXbpg/vz5mqyViIhIKcGh1rhxY/znP//Bhx9+iNzcXFhaWiI5ORkSiQTLli1DYmIiLC0tNVkrERGRUipdfG1paYmFCxdi4cKFmqqHiIio1moMtdLSUpw8eRLp6elo1qwZhgwZgubNm2ujNiIiIpUoDbXs7GwMGzYMaWlp8outGzVqhJiYGPTp00crBRIREQml9Du1NWvWID09He+99x6OHj2K8PBwWFpaYsmSJdqqj4iISDCle2rffPMNJk6ciDVr1sinvfHGG5g+fTqePHmCli1barxAIiIioZTuqWVnZ6Nnz56VpvXq1QsymQyZmZkaLYyIiEhVSkOtrKysymn6Fa9LSko0VxUREVEt1Hj2Y3p6Om7duiV//eeffwIAUlNTYW1tXWW8j4+PGssjIiISrsZQCw8PR3h4eJXpfz9ZpOIZa/n5+eqrjoiISAVKQ23Hjh3aqoOIiKjOlIZaYGCgxguIiorC1q1bkZ2djQ4dOiA8PBy9e/euduzFixcxYsSIKtOvX7+Odu3aabpUIiLScyrdJkvd4uPjERISgk8++QS9evVCVFQUxo0bh+TkZLi4uChcLjk5Gba2tvLX9vb22ijXKIhEwN1fM2ocZ2/bBI4OtjWOIyLSJzoNtR07diAwMBDvvvsuAGDDhg34+uuvsXfvXoSGhipczsHBAXZ2dtoq06gUPXuOT/d+WeO4lfOCGGpEZHAE36Vf3aRSKW7fvo0BAwZUmj5gwABcu3ZN6bJvv/022rdvj5EjR+LChQuaLJOIiAyIzvbU8vLyUFZWBgcHh0rTHRwckJOTU+0yzZs3x6ZNm9CtWzdIpVIcPXoU/v7+SEpK4r0oiYhIt4cfgf9/enaFiksDqiMWiyEWi+WvfX198ejRI2zbtk1pqKWmpqqnWDUplkghkUgEjRUy7lXZK8HvJ3RssaRYI5+bvm2LujKmfoypF4D96Lu69PPXHPg7nYWanZ0dTE1Nq+yVPX36tMremzI+Pj6Ij49XOkbZB6ALd3/NgJWVlaCxQsaZmZoJfj+hY62trCEWtxL0nkKlpqbq3baoC2Pqx5h6AdiPvtNkPzr7Ts3c3BxdunTB+fPnK00/f/58lftNKpOSkgJHR0d1l0dERAZIp4cf58yZg+DgYPj4+KBnz57Yu3cvsrKyMGXKFABAcHAwAGDXrl0AgJ07d8LV1RUdO3aEVCpFTEwMTpw4gYMHD+qsByIi0h86DbXRo0cjPz8fGzZsQHZ2Njp27IiYmBi4uroCQJUnAbx8+RIfffQR/vjjD1haWsrH+/n56aJ8oyb0ejaA17QRkf7Q+Yki06dPx/Tp06udd+LEiUqv58+fj/nz52ujrHpP6PVsAK9pIyL9obPv1IiIiNSNoUZEREaDoUZEREaDoUZEREaDoUZEREaDoUZEREaDoUZEREaDoUZEREZD5xdfk+ETevcRMxH/uhGRZvG3DNWZ0LuPfDjNXwvVEFF9xsOPRERkNLinRlpjaWEh6DAlb5BMRLXFUCOt+VPyAtsPxNQ4jjdIJqLa4uFHIiIyGgw1IiIyGjz8SHqHDyglotpiqJHeUeUBpaHzg/C04M8axzH8iOoHhhoZNKEByJNPiOoHhhrVC0IPaTaytMDzklJB78k7pBDpH/6rpHpB6B7dB1PfEXzok3dIIdI/BhtqUVFR2Lp1K7Kzs9GhQweEh4ejd+/eui6L6hFeTE6kfwwy1OLj4xESEoJPPvkEvXr1QlRUFMaNG4fk5GS4uLjoujyqJ4ReTC70ZBZVDn0yKImqZ5ChtmPHDgQGBuLdd98FAGzYsAFff/019u7di9DQUB1XR1SZJg598qxPouqJCgsLZbouQhVSqRQtWrTAnj17MGrUKPn0RYsW4d69ezh58qQOqyMiIl0yuDuK5OXloaysDA4ODpWmOzg4ICcnR0dVERGRPjC4UKsgEokqvZbJZFWmERFR/WJwoWZnZwdTU9Mqe2VPnz6tsvdGRET1i8GFmrm5Obp06YLz589Xmn7+/Hn07NlTR1UREZE+MMizH+fMmYPg4GD4+PigZ8+e2Lt3L7KysjBlyhRdl0ZERDpkcHtqADB69GiEh4djw4aZ4loDAAAPrklEQVQNeOutt5CcnIyYmBi4urrqujS1iYqKgre3NxwdHdGvXz9cuXJF1yXVKDw8HDY2NpV+2rVrJ58vk8kQHh6ODh06oHnz5hg+fDh+/vlnHVZc2eXLlzFhwgR07NgRNjY2iI6OrjRfSP2FhYWYOXMmXF1d4erqipkzZ6KwsFCbbcjV1M/s2bOrbK9BgwZVGlNaWorFixejbdu2cHJywoQJE/DkyRNttgEA2LRpE/r37w8XFxe4ubkhICAA9+7dqzTGkLaPkH4Mafvs3r0bvXv3houLC1xcXDB48GCcOXNGPl+b28YgQw0Apk+fjpSUFOTk5OC7775Dnz59dF2S2lRcXL5w4UJcuHABvr6+GDduHB4/fqzr0mokFovxyy+/yH/+GsZbtmzBjh07EBERgW+++QYODg5455138OzZMx1W/P8kEgk8PDywbt06NGzYsMp8IfVPnz4dd+7cwbFjxxAbG4s7d+4gODhYm23I1dQPALz99tuVttexY8cqzV+2bBkSExOxZ88enDx5Es+ePUNAQADKysq00YLcpUuXMG3aNJw5cwYJCQkwMzPDqFGjUFBQIB9jSNtHSD+A4WwfJycnrFq1Ct999x3Onz+Pvn37IigoCD/99BMA7W4bg7tOrT4YOHAgPD09sXXrVvm0bt26wd/fX68vLg8PD0dCQgKuXr1aZZ5MJkOHDh0wY8YMLFq0CADw4sULiMVirF69Wu8OHbds2RLr169HUFAQAGH1//LLL+jZsydOnz6NXr16AQCuXr2KoUOH4saNGxCLxXrTD/B6TyA/Px9Hjx6tdpmioiK4u7tjx44dGD9+PAAgMzMTXl5eiI2NxcCBA7VSe3WKi4vh6uqK6OhoDB061OC3z9/7AQx7+wBA69atERoaismTJ2t12xjsnpqxkkqluH37NgYMGFBp+oABA3Dt2jUdVSVceno6OnbsCG9vb0ydOhXp6ekAgIyMDGRnZ1fqq2HDhujdu7dB9CWk/uvXr8Pa2rrSCUu9evWClZWV3vZ49epVuLu7w8fHB/PmzUNubq583u3bt/Hy5ctKPTs7O6N9+/Y676e4uBjl5eWwsbEBYPjb5+/9VDDE7VNWVoa4uDhIJBL4+vpqfdsY5IkixsyQLy7v3r07du7cCbFYjKdPn2LDhg3w8/NDcnIysrOzAaDavv744w9dlKsSIfXn5OTAzs6u0vWSIpEI9vb2erntBg0ahBEjRqBVq1Z49OgR1qxZg5EjR+Lbb7+FhYUFcnJyYGpqCjs7u0rL6cPfxZCQEHh5ecHX1xeA4W+fv/cDGN72uXv3Lvz8/FBSUgIrKyscPnwYnp6e8lDS1rZhqOkpQ7y4fPDgwZVed+/eHV26dMGRI0fQo0cPAIbZ11/VVH91vehrj2PGjJH/2dPTE126dIGXlxfOnDmDkSNHKlxO1/0sX74cycnJOH36NExNTSvNM8Tto6gfQ9s+YrEYFy9eRFFRERISEjB79mwkJSXJ52tr2/Dwo54xpovLra2t0aFDBzx8+BCOjo4AYLB9Can/jTfewNOnTyGT/f/X1DKZDHl5eQbRY4sWLeDk5ISHDx8CeN1PWVkZ8vLyKo3T5TZbtmwZ4uLikJCQgNatW8unG+r2UdRPdfR9+5ibm6Nt27bo2rUrQkND4eXlhZ07d2p92zDU9IwxXVxeUlKC1NRUODo6olWrVnB0dKzUV0lJCa5evWoQfQmp39fXF8XFxbh+/bp8zPXr1yGRSAyix7y8PPzxxx/yX0JdunRBgwYNKvX85MkT+Zf62rZ06VLExsYiISGh0qUigGFuH2X9VEfft8/flZeXQyqVan3bmIaEhISppQNSm8aNGyM8PBzNmzeHpaUlNmzYgCtXrmD79u1o2rSprstT6H/+539gbm6O8vJyPHjwAIsXL8bDhw+xefNm2NjYoKysDJs3b4a7uzvKysqwYsUKZGdn49NPP4WFhYWuy0dxcTHu37+P7OxsHDp0CB4eHmjSpAmkUimaNm1aY/329va4efMmYmNj4e3tjSdPnmDBggXo1q2bTk4bV9aPqakpPv74Y1hbW+PVq1dISUnB3LlzUVZWhg0bNsDCwgKWlpbIysrC7t270alTJxQVFWHBggVo0qQJVq1aBRMT7f2feNGiRfjiiy+wf/9+ODs7QyKRQCKRAHj9H0GRSGRQ26emfoqLiw1q+4SFhcn/7T958gSRkZGIiYlBWFgY3NzctLpteEq/noqKisKWLVuQnZ2Njh074t///rfeX4s3depUXLlyBXl5ebC3t0f37t2xYsUKdOjQAcDrwwnr1q3D/v37UVhYCB8fH2zcuBEeHh46rvy1ixcvYsSIEVWmT5w4EZGRkYLqLygowNKlS3Hq1CkAwNChQ7F+/foqZ7Vpg7J+Nm3ahKCgINy5cwdFRUVwdHTEW2+9hRUrVsDZ2Vk+tqSkBB999BFiY2NRUlKCvn374pNPPqk0RhsUfX5Lly7FsmXLAAj7+6Uv26emfl68eGFQ22f27Nm4ePEicnJy0KRJE3h6emLevHnyywq0uW0YakREZDT4nRoRERkNhhoRERkNhhoRERkNhhoRERkNhhoRERkNhhoRERkNhhoZtejo6EoPWXRycoKXlxeCgoLw5Zdfory8vFbve/HiRdjY2ODixYtqrrhmX331FcRiMZ4/f66W96v4jDIyMtTyftW5ePEiwsPDa/15//jjj2jRooVBPFOQdIuhRvXCgQMHcPbsWcTExGDFihWwsLDAtGnT8M477+DFixe6Lk+wV69eYfXq1Zg3bx4aNWqklvccMmQIzp49i+bNm6vl/apz6dIlRERE1DrUOnfujLfffhtr165Vc2VkbBhqVC94eXmhR48e+Mc//oEJEyZg79692LdvHy5cuICVK1fqujzBTpw4gUePHuFf//qX2t7T3t4ePXr00ItblSkzZcoUxMbGGsSjikh3GGpUb/n7+2PYsGE4ePBgpUN5z58/R2hoKLy9veHg4ABvb29s3Lixxr2Mb775BuPGjUP79u3RokULvPnmm9i2bRvKysrkYwICAtC3b98qy6anp8PW1hb79u1Tuo5Dhw5h4MCBsLW1rTTdxsYGa9aswbZt29CpUyc4OTlh/PjxyM3NRW5uLiZPngxXV1d4enri008/rbRsdYcfvby8MHPmTMTFxcHX1xdOTk54++23qzzVfPjw4Rg+fHiVOr28vDB79mwAr5+IHhERAeB1gFYcCq4g9PMeMGAAGjdujCNHjij9jKh+4/PUqF7z8/PDiRMn8MMPP6BPnz549eoVxowZg/v372Px4sXw9PTEjRs3sGHDBhQUFCg9/JWeno6+ffti5syZsLCwwO3btxEREYG8vDyEhYUBAKZNm4bx48fj1q1b8PHxkS974MABWFlZYezYsQrfv7S0FJcuXcKKFSuqnf/FF1/Aw8MDn3zyCXJycrB8+XLMmjULxcXFGDRoECZPnozjx48jLCwMHh4e8PPzU/rZXLlyBampqfLDtWvXrkVAQADu3Lmj0v34/vu//xu///47Dh06VOWZYap83mZmZvD19cW5c+ewcOFCweun+oWhRvVaxY1fK56cHBsbi6tXr+LEiRPyG0j369cPABAREYEPPvhA4fOdpk6dKv+zTCZD7969IZVKsW3bNqxcuRImJiYYNGgQWrdujX379slD7eXLl4iOjsa4cePQuHFjhbWmpKSgpKQEnTp1qna+hYUFjhw5AjOz1/+sf/75Z+zcuRMrVqzA4sWLAQD/+Mc/kJSUhOPHj9cYas+ePcOlS5fkAebo6Ij+/fvj7NmzGDdunNJl/6ply5ZwcnIC8PrBsRX1Aap/3l5eXti2bRvKy8u1ehd6Mhz8W0H1WsVDCSuervv111/DxcUFPXv2xKtXr+Q/AwYMwMuXL3Hjxg2F75WVlYUPPvgAnTp1goODA+zt7bFmzRoUFRUhNzcXAGBiYoIpU6YgPj4eRUVFAF5/T5aTk4PJkycrrbXiuyQ7O7tq5/fv379SYFQ8o6viTunA672dtm3b4smTJ0rXBbx+xtVf98gq7qiemZlZ47JCqfp529vbo7S0FAUFBWqrgYwL99SoXqv45V7x4MXc3Fw8fvwY9vb21Y7Pz8+vdnp5eTkmTpyIrKwshISEQCwWo2HDhjhx4gQ2btyIkpIS+dhJkyYhPDwcR48excyZM7F37174+Pigc+fOSmstLS0FAIUndPz9kGCDBg0UTq94L2X+/r1dxXr/2ktdqfp5N2zYEAAM6oxV0i6GGtVrZ86cgaWlJbp06QIAaNasGVq1aoX9+/dXO97V1bXa6Wlpafjhhx+wa9cuBAQEyKdXPBvqr5o1awZ/f3/s378fAwcOxMWLF7F169Yaa23WrBkAoLCwsMax2mJpaYlnz55VmS60RlU/74o9NEV7q0QMNaq3EhIScOrUKcyaNUt+zdfAgQORkJAAKysr+eE7ISrOnqzYOwJef1d27NixasdPnz4dgwcPxty5c9G4cWOMGTOmxnWIxWIAr09IUfUR95ri4uKChIQESKVSmJubAwAuX75cJegq9vJevHhR6XtDVT/vjIwMODs7y/fYiP6OoUb1QkpKCvLy8iCVSpGZmYkzZ87g+PHj6N+/P0JDQ+Xjxo8fj+joaPj7+2POnDnw8vKCVCpFWloaTp06hejo6Govem7fvj1cXFywevVqmJqawszMDDt37lRYT48ePdC5c2dcuXIFM2fOFHQhtYuLC1xcXHDr1q1Ke4O6NHr0aOzfvx/vv/8+AgMDkZGRgR07dqBJkyaVxrVv3x4AsH37dgwePBimpqbo2rWryp/3zZs30bt3b632SIaFoUb1wrvvvgvg9eEye3t7dO7cGXv37oW/v7/8JBHg9Z5WfHw8Nm/ejAMHDiAjIwONGjVCmzZt4OfnJ98b+Ttzc3NER0djyZIlmDVrFmxtbREUFAQXFxfMmzev2mX8/f3x448/YsqUKYL7GD16NI4fP47169er0L3m9O3bF5s3b8a2bduQkJAAb29vfPbZZ5g0aVKlcf/85z8xffp07NmzB+vXr4dMJkNhYaFKn3dmZiZ++uknhZc0EAGAqLCwUKbrIojqoyFDhsDExKTa790USUtLQ/fu3ZGUlIQ333xTg9Xpn08//RR79uzB7du3K13rRvRX3FMj0qLS0lL8+OOP+Pbbb3Ht2jWV747Rpk0bBAUF4dNPP61XoVZSUoL//d//RWhoKAONlGKoEWlRVlYW/Pz80LRpUyxcuBDDhg1T+T1WrFiBffv24fnz52q7qbG+e/ToEWbNmoUJEybouhTSczz8SERERoN3FCEiIqPBUCMiIqPBUCMiIqPBUCMiIqPBUCMiIqPBUCMiIqPxf4MzrbXoutF2AAAAAElFTkSuQmCC\n",
      "text/plain": [
       "<figure size="" 432x288="" with="" 1="" axes="">"
      ]
     },
     "metadata": {},
     "output_type": "display_data"
    }
   ],
   "source": [
    "def delay_hist(t):\n",
    "    t.hist('Delay', unit='minute', bins=np.arange(-30, 301, 10))\n",
    "    \n",
    "delay_hist(united)"
   ]
  },
  {
   "cell_type": "code",
   "execution_count": 8,
   "metadata": {},
   "outputs": [
    {
     "data": {
      "image/png": "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\n",
      "text/plain": [
       "<figure size="" 432x288="" with="" 1="" axes="">"
      ]
     },
     "metadata": {},
     "output_type": "display_data"
    }
   ],
   "source": [
    "delay_hist(united.sample(1000))"
   ]
  },
  {
   "cell_type": "markdown",
   "metadata": {},
   "source": [
    "# Simulation"
   ]
  },
  {
   "cell_type": "code",
   "execution_count": 9,
   "metadata": {},
   "outputs": [
    {
     "data": {
      "text/plain": [
       "0.5177469135802468"
      ]
     },
     "execution_count": 9,
     "metadata": {},
     "output_type": "execute_result"
    }
   ],
   "source": [
    "k = 4\n",
    "1 - (5/6) ** 4"
   ]
  },
  {
   "cell_type": "code",
   "execution_count": 10,
   "metadata": {},
   "outputs": [
    {
     "data": {
      "text/plain": [
       "array([1, 4, 3, 3])"
      ]
     },
     "execution_count": 10,
     "metadata": {},
     "output_type": "execute_result"
    }
   ],
   "source": [
    "dice = np.arange(6) + 1\n",
    "rolls = np.random.choice(dice, k)\n",
    "rolls"
   ]
  },
  {
   "cell_type": "code",
   "execution_count": 11,
   "metadata": {},
   "outputs": [
    {
     "data": {
      "text/plain": [
       "0"
      ]
     },
     "execution_count": 11,
     "metadata": {},
     "output_type": "execute_result"
    }
   ],
   "source": [
    "sum(rolls == 6)"
   ]
  },
  {
   "cell_type": "code",
   "execution_count": 12,
   "metadata": {},
   "outputs": [
    {
     "data": {
      "text/plain": [
       "0.5173"
      ]
     },
     "execution_count": 12,
     "metadata": {},
     "output_type": "execute_result"
    }
   ],
   "source": [
    "trials = 10000\n",
    "successes = 0\n",
    "\n",
    "for _ in np.arange(trials):\n",
    "    rolls = np.random.choice(dice, k)\n",
    "    if sum(rolls == 6) &gt; 0:\n",
    "        successes = successes + 1\n",
    "        \n",
    "successes / trials"
   ]
  },
  {
   "cell_type": "markdown",
   "metadata": {},
   "source": [
    "# Statistics\n",
    "A parameter is a number associated with the population, whereas a statistic is a number calculated from a sample from that population.Usually, all we have is a sample, and we're trying to guess about what's going on in the population, so the statistic is something that we can compute directly, but it might be different had we had a different sample.\n",
    "\n",
    "The parameter is what we'd like to know, and we're using our sample in order to make an estimate of what that parameter might be. So a statistic can be used as an estimate of a parameter,and by doing so, we're performing **statistical inference**.\n",
    "\n",
    "###### In the above cells, we created an estimate--\n",
    "an estimate of a particular event. What's the chance of getting at least one six? So our population is all the different outcomes that could possibly happen when rolling four dice. Each possible set of four outcomes has some probability, and only some of them contain a six. This number that we computed through the rules of probability is a parameter about the population of all four rolls of dice.\n",
    "\n",
    "This is an estimate that we computed empirically by running a simulation, but that estimate could have come out differently.\n",
    "We call this successes divided by trials--an estimate by simulation--so if we make many such estimates 10,000 times, and draw our histogram of the results. You can see the estimates were clustered around the true parameter and this is called the empirical distribution of a statistic.\n",
    "\n",
    "According to the law of averages, we would expect that as long as we perform this simulation many times, the empirical distribution of a statistic will resemble the probability distribution of that same statistic, and that means we don't really need to compute the probability distribution; we can just perform the simulation like we did and see that most\n",
    "of the values were right around the parameter.\n",
    "\n",
    "Understanding how statistics vary as you draw multiple samples is a core concept in statistics because when you learn about the world through observation, you need to understand how much you might have been deceived by the variability in the sampling procedure itself, and you need to be able to express that variability when you perform statistical inference."
   ]
  },
  {
   "cell_type": "code",
   "execution_count": 13,
   "metadata": {},
   "outputs": [],
   "source": [
    "# This cell will take a long time to run\n",
    "\n",
    "def estimate_by_simulation(trials):\n",
    "    successes = 0\n",
    "\n",
    "    for _ in np.arange(trials):\n",
    "        rolls = np.random.choice(dice, k)\n",
    "        if sum(rolls == 6) &gt; 0:\n",
    "            successes = successes + 1\n",
    "\n",
    "    return successes / trials\n",
    "\n",
    "estimates = []\n",
    "for _ in np.arange(1000):\n",
    "    estimates.append(estimate_by_simulation(10000))"
   ]
  },
  {
   "cell_type": "code",
   "execution_count": 14,
   "metadata": {},
   "outputs": [
    {
     "data": {
      "image/png": "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\n",
      "text/plain": [
       "<figure size="" 432x288="" with="" 1="" axes="">"
      ]
     },
     "metadata": {},
     "output_type": "display_data"
    }
   ],
   "source": [
    "Table().with_column('Estimate', estimates).hist(bins=50, normed=False)"
   ]
  },
  {
   "cell_type": "markdown",
   "metadata": {},
   "source": [
    "# Inference (Part 1)\n",
    "### Overview\n",
    "Punishment for crime has many philosophical justifications. An important one is that fear of punishment may deter people from committing crimes.\n",
    "\n",
    "In the United States, some jurisdictions execute some people who are convicted of particularly serious crimes, such as murder. This punishment is called the death penalty or capital punishment. The death penalty is controversial, and deterrence has been one focal point of the debate. There are other reasons to support or oppose the death penalty, but in this project we'll focus on deterrence.\n",
    "\n",
    "The key question about deterrence is: Does instituting a death penalty as a punishment for murder actually reduce the number of murders?\n",
    "\n",
    "You might have a strong intuition in one direction, but the evidence turns out to be surprisingly complex. Different sides have variously argued that the death penalty has no deterrent effect and that each execution prevents 8 murders, all using statistical arguments! We'll try to come to our own conclusion.\n",
    "### Data\n",
    "The main data source for this project comes from a paper by three researchers, Dezhbakhsh, Rubin, and Shepherd. The dataset contains rates of various violent crimes for every year 1960-2003 (44 years) in every US state. The researchers compiled the data from the FBI's Uniform Crime Reports.\n",
    "\n",
    "Since crimes are committed by people, not states, we need to account for the number of people in each state when we're looking at state-level data. Murder rates are calculated as follows:\n",
    "\n",
    "$$\\text{murder rate for state X in year Y} = \\frac{\\text{number of murders in state X in year Y}}{\\text{population in state X in year Y}}*100000$$\n",
    "\n",
    "(Murder is rare, so we multiply by 100,000 just to avoid dealing with tiny numbers.)"
   ]
  },
  {
   "cell_type": "code",
   "execution_count": 16,
   "metadata": {},
   "outputs": [
    {
     "data": {
      "text/html": [
       "\n",
       "    \n",
       "        \n",
       "            \n",
       "        \n",
       "    \n",
       "    \n",
       "        \n",
       "            \n",
       "        \n",
       "        \n",
       "            \n",
       "        \n",
       "        \n",
       "            \n",
       "        \n",
       "        \n",
       "            \n",
       "        \n",
       "        \n",
       "            \n",
       "        \n",
       "        \n",
       "            \n",
       "        \n",
       "        \n",
       "            \n",
       "        \n",
       "        \n",
       "            \n",
       "        \n",
       "        \n",
       "            \n",
       "        \n",
       "        \n",
       "            \n",
       "        \n",
       "    \n",
       "<table border="\&quot;1\&quot;" class="\&quot;dataframe\&quot;"><thead><tr><th>State</th> <th>Year</th> <th>Population</th> <th>Murder Rate</th></tr></thead><tbody><tr><td>Alaska</td> <td>1960</td> <td>226,167   </td> <td>10.2       </td></tr><tr><td>Alaska</td> <td>1961</td> <td>234,000   </td> <td>11.5       </td></tr><tr><td>Alaska</td> <td>1962</td> <td>246,000   </td> <td>4.5        </td></tr><tr><td>Alaska</td> <td>1963</td> <td>248,000   </td> <td>6.5        </td></tr><tr><td>Alaska</td> <td>1964</td> <td>250,000   </td> <td>10.4       </td></tr><tr><td>Alaska</td> <td>1965</td> <td>253,000   </td> <td>6.3        </td></tr><tr><td>Alaska</td> <td>1966</td> <td>272,000   </td> <td>12.9       </td></tr><tr><td>Alaska</td> <td>1967</td> <td>272,000   </td> <td>9.6        </td></tr><tr><td>Alaska</td> <td>1968</td> <td>277,000   </td> <td>10.5       </td></tr><tr><td>Alaska</td> <td>1969</td> <td>282,000   </td> <td>10.6       </td></tr></tbody></table>\n",
       "<p>... (2190 rows omitted)</p>"
      ],
      "text/plain": [
       "State  | Year | Population | Murder Rate\n",
       "Alaska | 1960 | 226,167    | 10.2\n",
       "Alaska | 1961 | 234,000    | 11.5\n",
       "Alaska | 1962 | 246,000    | 4.5\n",
       "Alaska | 1963 | 248,000    | 6.5\n",
       "Alaska | 1964 | 250,000    | 10.4\n",
       "Alaska | 1965 | 253,000    | 6.3\n",
       "Alaska | 1966 | 272,000    | 12.9\n",
       "Alaska | 1967 | 272,000    | 9.6\n",
       "Alaska | 1968 | 277,000    | 10.5\n",
       "Alaska | 1969 | 282,000    | 10.6\n",
       "... (2190 rows omitted)"
      ]
     },
     "execution_count": 16,
     "metadata": {},
     "output_type": "execute_result"
    }
   ],
   "source": [
    "# crime_rates.csv is provided, upload it!\n",
    "murder_rates = Table.read_table('crime_rates.csv').select('State', 'Year', 'Population', 'Murder Rate')\n",
    "murder_rates.set_format(\"Population\", NumberFormatter)"
   ]
  },
  {
   "cell_type": "markdown",
   "metadata": {},
   "source": [
    "### 1. Murder rates"
   ]
  },
  {
   "cell_type": "markdown",
   "metadata": {},
   "source": [
    "The murder_rates table isn't enough to demonstrate an association between crimes and punishments. We would like to check for an association between murder rates and the existence of capital punishment, for each pair of a state and a year.\n",
    "\n",
    "**Question 1.1.**\n",
    "What additional information will we need before we can check for that association? Assign extra_info to a Python list (i.e. [#] or [#, #, ...]) containing the number(s) for all of the additional facts below that we require in order to check for association.\n",
    "\n",
    "1) What year(s) the death penalty was introduced in each state (if any).\n",
    "\n",
    "2) Day to day data about when murders occurred.\n",
    "\n",
    "3) What year(s) the death penalty was abolished in each state (if any).\n",
    "\n",
    "4) Rates of other crimes in each state."
   ]
  },
  {
   "cell_type": "code",
   "execution_count": 17,
   "metadata": {},
   "outputs": [
    {
     "data": {
      "text/plain": [
       "[1, 3]"
      ]
     },
     "execution_count": 17,
     "metadata": {},
     "output_type": "execute_result"
    }
   ],
   "source": [
    "extra_info = [1,3]\n",
    "extra_info"
   ]
  },
  {
   "cell_type": "markdown",
   "metadata": {},
   "source": [
    "Murder rates vary over time, and different states exhibit different trends. The rates in some states change dramatically from year to year, while others are quite stable. Let's plot the murder rate trends for a few states, just to see the variety.\n",
    "\n",
    "**Question 1.2.** <br>Draw a line plot with years on the horizontal axis and murder rates on the \n",
    "vertical axis. Include two lines: one for Alaska murder rates and one for Minnesota murder rates. Create this plot using a single call, `ak_mn.plot('Year')`.\n",
    "\n",
    "*Hint*: To create two lines, you will need create the table `ak_mn` with two columns of murder rates, in addition to a column of years. This table will have the following structure:\n",
    "\n",
    "| Year | Murder rate in Alaska | Murder rate in Minnesota |\n",
    "|------|-----------------------|--------------------------|\n",
    "| 1960 | 10.2                  | 1.2                      |\n",
    "| 1961 | 11.5                  | 1                        |\n",
    "| 1962 | 4.5                   | 0.9                      |\n",
    "\n",
    "<center>... (41 rows omitted)</center>"
   ]
  },
  {
   "cell_type": "code",
   "execution_count": 18,
   "metadata": {},
   "outputs": [
    {
     "data": {
      "text/html": [
       "\n",
       "    \n",
       "        \n",
       "            \n",
       "        \n",
       "    \n",
       "    \n",
       "        \n",
       "            \n",
       "        \n",
       "        \n",
       "            \n",
       "        \n",
       "        \n",
       "            \n",
       "        \n",
       "        \n",
       "            \n",
       "        \n",
       "        \n",
       "            \n",
       "        \n",
       "        \n",
       "            \n",
       "        \n",
       "        \n",
       "            \n",
       "        \n",
       "        \n",
       "            \n",
       "        \n",
       "        \n",
       "            \n",
       "        \n",
       "        \n",
       "            \n",
       "        \n",
       "    \n",
       "<table border="\&quot;1\&quot;" class="\&quot;dataframe\&quot;"><thead><tr><th>Year</th> <th>Murder rate in Alaska</th> <th>Murder rate in Minnesota</th></tr></thead><tbody><tr><td>1960</td> <td>10.2                 </td> <td>1.2                     </td></tr><tr><td>1961</td> <td>11.5                 </td> <td>1                       </td></tr><tr><td>1962</td> <td>4.5                  </td> <td>0.9                     </td></tr><tr><td>1963</td> <td>6.5                  </td> <td>1.2                     </td></tr><tr><td>1964</td> <td>10.4                 </td> <td>1.4                     </td></tr><tr><td>1965</td> <td>6.3                  </td> <td>1.4                     </td></tr><tr><td>1966</td> <td>12.9                 </td> <td>2.2                     </td></tr><tr><td>1967</td> <td>9.6                  </td> <td>1.6                     </td></tr><tr><td>1968</td> <td>10.5                 </td> <td>2.2                     </td></tr><tr><td>1969</td> <td>10.6                 </td> <td>1.9                     </td></tr></tbody></table>\n",
       "<p>... (34 rows omitted)</p>"
      ],
      "text/plain": [
       "Year | Murder rate in Alaska | Murder rate in Minnesota\n",
       "1960 | 10.2                  | 1.2\n",
       "1961 | 11.5                  | 1\n",
       "1962 | 4.5                   | 0.9\n",
       "1963 | 6.5                   | 1.2\n",
       "1964 | 10.4                  | 1.4\n",
       "1965 | 6.3                   | 1.4\n",
       "1966 | 12.9                  | 2.2\n",
       "1967 | 9.6                   | 1.6\n",
       "1968 | 10.5                  | 2.2\n",
       "1969 | 10.6                  | 1.9\n",
       "... (34 rows omitted)"
      ]
     },
     "execution_count": 18,
     "metadata": {},
     "output_type": "execute_result"
    }
   ],
   "source": [
    "# The next lines are creating a table\n",
    "# containing only the Alaska information and one containing\n",
    "# only the Minnesota information.\n",
    "ak = murder_rates.where('State', 'Alaska').drop('State', 'Population').relabeled(1, 'Murder rate in Alaska')\n",
    "mn = murder_rates.where('State', 'Minnesota').drop('State', 'Population').relabeled(1, 'Murder rate in Minnesota')\n",
    "\n",
    "ak_mn = ak.join('Year',mn,'Year')\n",
    "ak_mn"
   ]
  },
  {
   "cell_type": "code",
   "execution_count": null,
   "metadata": {},
   "outputs": [],
   "source": [
    "# Draw line plot\n",
    "ak_mn.plot('Year')"
   ]
  },
  {
   "cell_type": "markdown",
   "metadata": {},
   "source": [
    "What about the murder rates of other states? Say, for example, California and New York? Fill in the cell below to plot the murder rates of different pairs of states. **Note:** this should use similar code to question 1.2, with only the variable names changed. The cell below creates a cool interactive module!"
   ]
  },
  {
   "cell_type": "code",
   "execution_count": 19,
   "metadata": {},
   "outputs": [
    {
     "data": {
      "application/vnd.jupyter.widget-view+json": {
       "model_id": "031803ad5e1e4698907363be52cff13f",
       "version_major": 2,
       "version_minor": 0
      },
      "text/plain": [
       "interactive(children=(Dropdown(description='state1', index=4, options=('Alabama', 'Alaska', 'Arizona', 'Arkans…"
      ]
     },
     "metadata": {},
     "output_type": "display_data"
    }
   ],
   "source": [
    "# Compare the murder rates of any two states \n",
    "\n",
    "from ipywidgets import interact, interactive, fixed, interact_manual\n",
    "import ipywidgets as widgets\n",
    "\n",
    "def state(state1, state2):\n",
    "    state1_table = murder_rates.where('State', state1).drop('State', 'Population').relabeled(1, 'Murder rate in {}'.format(state1))\n",
    "    state2_table = murder_rates.where('State', state2).drop('State', 'Population').relabeled(1, 'Murder rate in {}'.format(state2))\n",
    "    s1_s2 = state1_table.join('Year',state2_table,'Year')\n",
    "    s1_s2.plot('Year')\n",
    "    plots.show()\n",
    "\n",
    "states_array = murder_rates.group('State').column('State')\n",
    "\n",
    "_ = interact(state,\n",
    "             state1=widgets.Dropdown(options=list(states_array),value='California'),\n",
    "             state2=widgets.Dropdown(options=list(states_array),value='New York')\n",
    "            )"
   ]
  },
  {
   "cell_type": "markdown",
   "metadata": {},
   "source": [
    "**Question 1.3.** <br>Implement the function `most_murderous`, which takes a year (an integer) as its argument. It does two things:\n",
    "1. It draws a horizontal bar chart of the 5 states that had the highest murder rates in that year.\n",
    "2. It returns an array of the names of these states in order of *increasing* murder rate.\n",
    "\n",
    "Assume that the argument is a year in `murder_rates`. "
   ]
  },
  {
   "cell_type": "code",
   "execution_count": 20,
   "metadata": {},
   "outputs": [
    {
     "data": {
      "text/plain": [
       "array(['California', 'Mississippi', 'Texas', 'New York', 'Louisiana'],\n",
       "      dtype='<u14')" ]="" },="" "execution_count":="" 20,="" "metadata":="" {},="" "output_type":="" "execute_result"="" {="" "data":="" "image="" png":="" "ivborw0kggoaaaansuheugaaaewaaaeccayaaaafuid5aaaabhncsvqicagifahkiaaaaalwsflzaaalegaacxib0t1+="" aaaadl0rvh0u29mdhdhcmuabwf0cgxvdgxpyib2zxjzaw9uidmumc4ylcbodhrwoi8vbwf0cgxvdgxpyi5vcmcvoia7rqaaiabjrefuejzt3xtctpn="" b="" dxlhkpnhsz0kuojlkvuvmxyd1yl81d5h7nzw0svm6xlty1blmirgkxl20o5llu7czsuv+yzyvnnb8="" pmzpqkbjts2cvj6ph8ejoedzpvn+t2zentnn5ogymjkkiciiio2mpe4ciiiiqggmbciiigfgybmreqkaa5uiiegagnhereqcwmamiiisaay2ergradcwiyiibicbtauukslj3swofpvrboxhs7ef5tgwiyiibicbturejaambciiigfgybmreqkaa5uiiegagnhereqcwmamiiisaay2ergrajrtdwgkvirlf6q7bjxizmxe+qscdzehmuxhs7efzsbufiwkxrcqzlkq98nafpcvw="" aruwsvymrkgp6enrrlubn2o9nyj2ytaj+th3uxemdzkdgrezeamlcjiigegifnreqkaaxsiiiiawbgexercqadm4iisaay2ereralawcyiihiabjyrezeamlcjiige4isl7lcwmfhywcg9xiww48cbayvyererude07rve="" f398elfc+zzs6de5u="" zsyc8pt2vhp+ymaixwfwitraresll4wk7pfwswbevk1zuerxeiinbaoiiijqjqepi9+7dw8cba2fpaqlls0t8="" fxxepdggwx9ufaqwrroibfnp4fap719="" 59dbgwady2nja3n0ftpk0rerehw="" piff58+bb2dkzzmzmchr0rgbgin6+fzuvhoiicdrq1aiwlpbw8ffbenq6bmzfixfh7e2nmjvrwsrkch07dss5c+du8yarevgzjjjalkqlgdhwij49e4aoqcher0fj8ephgdhwikrs6wfpo3xqvlx58wbr0de4c+ymgokcyghowoj4spuqyc2anth79iycg4mrgrmj5cuxy41js0tdzgqkdu7cicjisfy9ehulfiyqrf="" nn3="" qr18="" pbbb4ijiygjoyp69okjf+pereqfe8wh8ephj+p69eu4doksqlevdgdyvhkzgjdujbmntqb169afne+9e="" fg5eufr0dhaicnjy3c8qebabkfq1evjiltpmd16twym2eobhlotg7wrl0rc="" 4hq4yglcxmtr5vq1zycy5duhrruve4duwy+vxrv+h9z2vlkd2xpitlvqdsr9oxh80mxh4ymzorljru4lrcln="" kzs6uwpcpmmboteyeubm5lkwbya5j="" xxx58d2knhj8aukvmqexodvq1aowvxrmjuqfgh4w8coib169yhotkzwvlzym3nrw5urtwykysrub10mzmzph="" +xhb72bnn+p777xexf4dnz54hnzcxb968wf379xxwksslvbdeqbeslwz70wzsr7mjtr9dq8mcazcpkanyqawsqr0sf4leba77sfxlsyvf4fgcnbyf8w4anahxrlzbwiedcfv2bxh6eiiokkjasefpn8ewycpqtm1b7n69gydpnsq333ydd+="" eyy3t0dhjv19exp7str+="" py5evihfixbhyjejiiulq7vq1zcdna2wviii+nijjrdr1q2lhw8fiju1vbysjsufjx49qt26dqeaxsbgepr0qvxox7t2rci5lswsmgtiegzduhwzz8="" gtm3bchyxkjaac3nzbaqeoemtjqhvqxbu3btx7f4sehlg5+ehdh06wn7ehvr6+njy5emx5yeioi+hrh4sf="" nyja5evsq3reangqhfvz78="" pywzmksskvsbaqeoghdhvjqq68aao7u7vj7778rhbymxr16is4ursgvpzkxywbat28pw1tbvhz5eseohuodonukhgtra4thjx4hpdwczzo1q0xmjnwz5cqqvaswwspd4ezsjnevxymwmbc6urrfnoeiil4cgrmhfebmgxz11vdy="" widaxewfgyjiyn07dov3bp1g6mpkclcwmshxovuqymvk1zg69atchnzw="" hjxzflyhsf95wxl4eagac4ulja29sbpqamwlduxyfjo3xqhaktjmdwrflwc3ndbgwszs+exez+1qxzg6ysllru3rrdhg3d119="" dwtr62lpq0rexw5rrkbg538mikpvv3gl1f2csgj1jjpcsb="" nxn40m1d7mtzcg80b2+dbzppoiiiivnambciiigfgybmreqkaa5uiiegagnhereqcwmamiiisaay2ergradcwiyiibicbturejaambciiigfgybmreqmarl6tiwo2ebi3uktqiczmtbgagqq7djvhp5qn="" wg2ofzjiteu9ftkyatiqv80l0ql+ex46sb+nbv70wxlrz+sxepirereasdajiiiegagnherkqawsimiiasagu1ercqadgwiiiibygaterejad+hlsajl="" 5udwkqkzmzifrxoeouq2xyj2zjp+phitggvtutdzdrpjcwbwtllv3qlkelsrkyokenp+4yvib9adb2ox6th3szsfwmh8sjiigegifnreqkaaxsiiiiawbgexercqadm4iisaay2ereralawcyiihiabjyrezeamlcjiigegifnreqkaaxsnapxrx7wrl2r7jkiiegandkw="" f39iralswzzmrnlcxfxeivfse9pl5u6fi5ccht7e2rkzmgt="" +uvvycrsbazgvkqdrarewlkyanahqov8oopp+l58+dqq2hgjbkwmthb9ontzctycnlg7++pbt26owfpnp81b3z2tqpkjckil4tgbnblli1hzwwfpuuxkhz3119="" ow="" fvrc0tistrs2gdx+oj0+eaaasexmhfotlt1+="" fg0texp07t1btv22bdvqpemtaufw0dhbhg0beb0djqmhdgaavqxygceph2p58uwycdeuxuo3bt1gzmaggjvqyozysxj58qvsvz+fh3x8fbachax7e3s4ojoweh+7du2clzuv="" ve="" ynxcber0zdeywnbs0sl8+bnw08="" ys7d+8woobx48fo3lkz7o3termtg19++qwvxr3cgaedkjexhzp16sdu1btx8feaglnnz6jy5cpisehats7768ngx8fd3d290drs7e0xz84ctj06fb="" juwl1+okjaqimviamcrv6="" qq1cvimvixmteypv27th9+jqmtpwon8="" jkydx69ytrezgyv="" +="" jfjxlnmdwbpno3w8hb4enp+1mngrerll0zfd9vt0xmuli5ysgabqknd863fsmul6tevj++++062bmogdbcxscgls5fg5oqenzc3xmxfovevxoipj0f37t1x9ohrxlx4ec2ancopu6cwb948hxwmhtswv="" 32g3r37o1hw4ahbdu2snv79uxbdny21q9fl7tg7cqvk9gjrw="" mntsxnjy2aibklsph9erv0nxvztf="" pnzerywhomhd6j+="" fqf1pgvlawwtieps70a7eftsz="" sl5mziaskjkxgkjtokjttx87orljzanrga+="" drf27dhg="" fny+dveuxmhp06dhywgrb93du3fh5oqed3d3rfu3dsd7venro0fj9evxii+ph5grer4+fkhwdxsarcirpk+fjh49esi9nw28p+xev359uqvku7i4aabu3bolc+x69eovgnyhishiyspcbgwsatsoobaoivy0xhlzwvllphea="" wg69qmehoagsgvsuljssynlk5vkpxp7spydjk2awmvlc3pnzs23li8vd56enoili5p7d="" hirxto0aea4o7ujtu3b+pontu4doks3n3d4e7ujri4omthx6nmzzqovq1akxvoa2sdamqvk="" 8bryqvqiqsys37cpvj5zuqvspw3hytwiavl49nnbmrkuiav4cnaigbgxbxcufmtizc8oyng2l="" v2wsrkcjo5ogdt+eb97+fllqfmzjkxmtncyzusebata0ncwyl3rotstwxd79+6v+6s3isebafc7du0it2="" spalgjrqfxr16qsqsycqukf+phiiikps0fg8bagrwrikhq4zg="" fr1csthjbibly9fyujqobhw4qjsuljw="" phxtjw4ef="" 8849snjubg8ldw9gyzusaqpxq1wfkzito6oj="" hnj9+vwdrq4u="" p39cfpmtctfxwhklcnw9vzg9ervlzqjadomiiiiwa8="" icvk1f+p3qiikhsekrga0baqec+w9hm5uy4cuqitls00ktxlzrv3hztpk2drq4uypcvlxvxsmvl5obmyowzu7t7vmwfq19fhxerefj777="" rtm1b+pr6okwlfli1alwx5mnatcn27duhfstwmlsjicgfuuzghltdrzby+o1bpo4sveioj80oi="" 1onvajhpohe6n5y="" six="" gkm+ujzg+biijos8bajiiiegagnherkqawsimiiasagu1ercqadgwiiiibygaterejaaobiihiabjyrereasdajiiiegagnherkqai4vka9n7k4d7qlkelmjmzywhoqo4yvib9adb2ox4wemn1l1dmmlafrjkv0hccftm="" zmm="" mq2s9upk4yfxiiiiawbgexercqadm4iisaay2ereralawcyiihiabjyrezeafptjxdevx8fp06fx4suldb06fbkjbmnjytaxmygbgufj1eherptfuzqw="" 33x="" j5+se6ohpsqrqikqgdo3aercjbygagbg1tmw="" evbislriu="" anuelqimzmt6a9y1f2gyrafzcz+soafxbhw1uzuxcyxrenaxrbgay4fp44ngzagtzs2ch="" cb9++ptzv3szalmert+xxdwkqkzwvbt09pxwxotlsr7oxn5ixebg3a7uukr3yerermdnndvr06ypc3fy5ddwrv0dawprkiymiiql3ld7p7mwlf6hdu3ab6="" ly8pcdna2yooiiieie0ofdvxp1nd9="" vsb1f="" zxb2xtbvvwfberecltord79++ph374aehh4bk9azfihjmnt2lt2rx4+uuvs6xiiikil53s72fpndgr169fx6hrozbhwgqaqkdonfd27vv06tulo0ankreiiyiivnrkb7a2tjzcq0mxysqi="" p7773j27bmqvq0kdw8pulu7l2snrerexzyla="" vevxswmzodq6srxf1d5dbl5otg0anhslkyunmbrereviz3sbs2biirv68wuo769eto2lchyooiiiiieuohtlqqlxtdu3fvokxfryuniiiqkqopiwdkzcaji0n2++hdhzaympib8+bng="" z888+qscqluyererepduz169djyzileileeilegdx4cihjpfipzs2avsifeherurgb3avlf1hbw0mqlwlcuhgynm0aatsoitemfpnyqfondurxr1+ihaqkwcxwuh7agafyt25dkvvdreskhiwb7ejocedhrwcqxz2ratwqpvjysulmtjt9fotieuyymefuwyukfdrrfherkujknynm4+mj+lagaileivtnaghy6lk0tdqmhjwy1tbwqfgjbvr374+ulbqa7787vvontujbt69s3szmtdg6omlondka3l+odmyymxb0diszmrmcnjwqehiid="" lelstx0kvlf1hawsls0hitw7bemtnnsumriciiivh6c9gacppmtezysqo3b9="" g27dv5dajrcjeruwptdh1+eeff9c1a1e0admgv="" 32g8qvk4cvk1ba29sbcqkjkf++pdzu3ah3d3ds2labo0anwtspu2foaijaweaa7z+bbm1tje3bt6nklsq4coecjk2abbmte1nqdx06fm2bn8cpp="" wabw1txlt2dexll1dn60repkguduwlfy7i3to+c+cohbwckjgrgfv378pcwilfe9tctmfphujp6whvqlwyzwvwregngjuqexodzp07w8rkcitxrssymwpw9olthdp0clgxsddv1qua6onpyebmmbltbwxscohcburerkbv376qsqv48oab2rvrj7u2em2anuu3usiiegyla3v+="" pno1q0bnmzyagnjy6xevrqngjxcirmnmhr0aeybnq0k6yxvly9fxq1bt2bhysg3="" pxr17h7967sds+epxho0ceebwdjyzilqfu3rtz4drs2yneuxbh="" z7evn2ld+="" eya5qjhkjmgbmgpj5+wh79u346quv0l17d9sqvavqurkysltypxqvpv4a9qpp2i="" qzwzmiikpssvzqwoetafspx921psldgdfuhed48ang0gkavd+fvwaanwqfaznm4b58+cjjiamwheuqfly8uds7fzg2eifv4+flzwfk1euqftbg8njyxljdu3ahxnz5uh777+hk5mtdawmshbtwpw4cui2zu7cufdx8ch="" vc="" xmbgiigoccehixlvjx9mt09prr2qv1zwvpnpbwa="" mo79laxdq8nib05bkpksvdkppijjfpqo7hfv3qfspurq0tjclspv8pjxy9k6w1tb="" pnnnyvsodo0bngqr44cgymjcqwmdaodn2vwlghraymiigk9e="" egp6cnpdw8aaajcqlo0aifhg0bjht="" 586dfhpy2dnbzs4oy8eoxzgxy7bjx45ca5uiil5csp8lxqngdtx69aga4odggj07dyivlw95exkicwudqalpirvz2gymgab9fx0mhdgqp0+frkpkculj4zfjxgykpaubaa4epijdu3dj48anan26nszpnowxy8ygpt0dwps="" yi5cuidy2fjcvn0bcxcuxb9="" cg7j8zmtaqebca+ph5pawk4e="" yszp8="" n++woherevcmwo7ysspi4+mbafontswxy8dgzwufgxsb7nu3d2phji2xiktb5cqvcfjwyzizmchx1xculi4yo3ys3rx5g8qvk+px48eyoheivvnmg9lft2bmmafra2umhz8eaodn54fonttj8odb8pdwwppnz+hn5ye7dx0dhtx="" hyjr4+gs7mzhgwzgpytw2levhnqajmiidsckcmjo="" creihw5covredh4="" xr12jxrh3atm2r6troe="" 3glvj3csqhke="" bqqr70wzsp2rmhu6n5o3t="" m8fa9becx6hpbhgjzsyetqeherlrkld4lxrvpv7j3yj12+fllmfasaergrpllj9bbzc3nlh="" ciiiii1svykhhexp4srd+cff6xn2="" e4ojro="" muk01eresqozcwfy9ejkvllwj4="" 81chtp0khts8ohdvvszererysgmbhd3dwdvd4cvxbouvr6+qfatmtyyd9fd7tixy8lvsure9iurmra="" hlzijmlgwynhbm5ekourerhr="" 1p6y10fx3kkep9nxcnjyta1nc13kqwiiijslyvnicfexbt4zvvlly+hnz0dpdw84ojoibejrianj6ekaiqiivrikdzddg0nzfdxrdjywhz="" feov68ebg0ahfu3bugnn35cw4ynzv="" lsurerkqlmlcvxr2k6donyy0lcwtdhqovebkzcyleilu+b98+bjyrevejurjyz58="" r40aneswxcbgonnz5njh7enpit179prmhsqzebi3uktqiczmtbgagqq7djvhp5qn="" zqmc4mxukv44igmbh19fbx+="" vp2+86do3jx4gwcnz3lxhkygca3n7dkkiqzvxzrvibgl="" 1rnvaj2cpap6q8hsed2dnz4ddff5xd="" vxxxyesifjdmss1nrumjiyluyererep3smem2ymfh198ffff8pu1bs7du1cvxr10lx5c7lxbw8erp369uu0uciioi+zwj3srl27iigocbcvxstu3bvh7oymbdu2yz05="" udba8tfxcht07peiyuiivpsffnfkanhj8bo0amlxw9hyyg0tdsvfkveretyll68jhereakpa5uiiegagnhereqcoptfp0j9ei79qe4svcizmxppr8rod8+zh80m1h4sjmawqsapy9l="" y2alymot+9vdgkpkzwvbt09p3wwodpvrbeltz="" jwbwy2yeehcsiiigfgybmreqkaa5uiiegagnhereqcwmamiiisaay2ergradcwiyiibicbturejaambciiigfgybmreqkaa5uiiegandqwg4kc0kjfc5xm1avlf0yfpl0lc4nfyhw4cealc30qfxchsvim9pr0lc5lrerlq6khtr+="" p8rimcaph59vxwbgimrimfr16wcagd9+pa4doqss+925cyccawnvmldiyii6duyokrk+chfxqwjiiqpwrarseymiqgxqyx62paul9u="" fj6yslnmynjwc7nmzb5awlrjl+vr6kguwklwqwmdaqcvzssqslc9fxivzfacrqwujrakrsktseymiqgxqs2a7odigzs2a2l="" y8xeetiezqvxx7u7u6yzz8eer9x4wa8vlxgzwufs0tlulm54etjkwcad+="" eisagahxr1owpqskchbwwb9482bafhhkpioqcq6srzmzmygnjg86do+pp06cagpv372pagagwsbgbubk5mjztioiicnm2hx8st01nhvgsxt69e9gxy0dijbi0bdouv="" +u2z8h8pdhw8fhru7oyqscvq1aoxlly="" ng8nd4krevbc1xq="" b19cxywfh+prrrwg8p2q9cobapkskflrnyjejub9+fctexkbcuxk4cemgklsoaabyv349dh06hc1btsda2hophz5euljsgfm8efiew4cpr2bgily8vjcvlyulfy7i1k+dohx="" vsvoqojywbggnu3bxfzz9y5c="" h999="" dwcebmzztgo+pdy5evihq1arjxnz77bdyvhgxzm3nswtjevtt2xexl19gpuqvlhniiijoc6a2wo7tpw++="" fzb3llzb="" r6+oijichspuuxangiqre5d+8exo0bh9q1awmaataskbeuvq1achv1hugkgpwvfvxcxaqc59gjr3j37h26d+8oa2traec9evxk5vly8okjoymawmbgpsh+hg0bbm9vbwdakivl8pvvvym0nbrz5syrjzk+fto8pdwaacehiahxrx727duhqymgftk="" alm3eisulpucsb9nj8r+mjmzc93pkgy5uh2p="" djz2rvrxruftlgsrteuxbfz504yghrc3d0dvlzwcrczm2ymjkyygj9="" hmtwrwcl5exllx9fhzg7e0njycntg3bfu3bt0f79u2hpzx="" ql+joynat24nv1dxtgntbq1bt0b37t1hbgwmabg9ejsmtjmcmjgytgrvcl27dkwjro0u1ta0avpzz1pawnbycsjff="" 0ln6zzs2ayn="" x19ehg4jbvjcj6enpkj9vkwvlzzayxgp1ooqh2y2howoaleljsurff6duz+1gewj="" w9fxxx2p37t3yuxon7nc4irnmzclzs2frpusxndt3dm5ubtixywcaofgjrrh69socaworl5chf39="" 9ojra3l5efnm0dbwxv79+xezgqkhbwfs2ledtzo0wbvr1waagwynwpurvzbw4edcvn0bnp6ecaokum3zrerexadwwg7vqhv0dhsqnp6oll26klvnrvq1mhr0aishh8px11cw2abgygcahj16ymwkfqgpd8fjkyernjxc4dwikqjnmjxdzjkzersbc3nzc7mt4cwsldbkybbs3bovs2fpxrzt2xtw9ff74fkpfbcvxksdonxkxpw="" f172c1zwfm7evjlvdberuuhudkgceb+ap06dglqqlfjjum="" evmg3334re9="" 52bnnsehigjotewbgzzo1mdmzg6oji3r0dlb3715urlxz7qsvd86fp4="" jx4="" dw8mdjiymuhr1kh48ecalzxkzzqb9+="" awtbxfy5cvcezysskdntq0fla2tqhxrx42b96me="" fuydiwyxjjli9fdmnjy5izmwhp0qxq1dvf7969i="" oqerhrf0qtgq1a6c9ga2triymja="" 7+="" nj69cmqvq2kdh06ymgcbbj5fvzxryqnj0mkeshr0rf79+4t8azsypur4+zzs9i4csmymznhywgb6dony76wjs8vdwebaxjw4ah09fxrqlurlfy4ugf9c+foruhick5cuqirkyvs3lktfhyw+cz88803uh37nurwrys9e="" yi8r01iiiqfakmjaypuosqsttuvdrs2bcxsbfo3lhxgwpi4ulqrvs33llzb0zgrp99x="" 3gfx4gvzai9ssgwrafzsbufiyp90bzxvb5lvmklc1wzk86iyiiiuuwsimiiara7e9hc1316twrkzghcezlli2lhenerkqi97cjiigegifnreqkaaxsiiiiawbgexercqadm4iisaay2ereralawcyiihiabjyrezea8ittbgtycg91l6asmzmzmdq0vhczksn+njtq+7gqgku7bniwdgwbkehcaelel="" vxboyhsdpxkdgrezeamlcjiigegifnreqkaaxsiiiiawbgexercqadm4iisad4ss4bsbj0p7pluinmzeykv8prdxkqw340m6b3yyexhlu1e3wxqqlawbaqlvv2q7selcjkyokenp66y1az9qpznl2fyco9gdikfb4sjyiiegagnherkqawsimiiasagu1ercqadgwiiiibygaterejaaobiihiabjyrereasdajiiiegagnherkqawsimiiasgtaz2xfwcxgix0tptc7wnaicohuktjk1gzgqef3="" eq0nntuvyreyly5dkth7iskisksjl="" 7x9oltbach48iri3j48cgmjizg4oaapz8="" ehp6fns+fxcxjcymomrvqrjleyzmgk+vl="" z8="" er8wgcwlpziteyekzfrid4pergvxrox2kmpqejyssp09fuxd+5c1k9fh3l5ethx4gsmtjmc69evf3toxv1dscqs2e2mjaykp6ejbdu2qfat2mfxmp2ddv1d3slhawtry90="" erfrcwnciffp06zbkpuinjyw3t7eslozq506dedn54f4+hgawjo1a+dq6opq1arb3t4e48epr0zgrqfzfnxipc4udjy2ngaaly8vimvixmwmyz="" saaawy0leqvtfaqcioqlg6uoku1ntodg4ypny5zbkpbj5hb0derquhlfjx8la2hojr46uhe4+coaaevtoaxnzc7i4uca2nla23aehxhnzczfu3dg0anaazmzmankkcvatwow8vdxvp5xerfrgafrg="" 333zh27bhgjhwjfx39fovfyjeaqetlc0fbqthz5gw2bdqep="" 74awebaurdh4ulcxisegaa27dvr2jiilxcxhd58mumgtiexbt2xentpzf37lysxlksgzdulnt+7dq1qf27no4fp47awedz8oulf2luqfgij49h48anmwzymlx69aragvly8mbubo6tw7fi7nmz+pbbbxechiydo3cq1qmrex15noqqehjymqrskwrxrq1w3jgxy2q="" v69ehfpnz4epjw="" wr18pls3ff4po6urcxot9xekrvkkio1qdehicnzc3zj49gwbga2ulo3fuynwqvrg1aprse1dxv0ycoff2ozu1vvztp06daacbgyhyvxs3rl27hhytwusrqudhb998841cd1euxeferaqgdrpuao1zwvkkexosstqlwh40nsb3k5mziaskpgjtu9zxmu5l7cfozq5y82puyh98+fmreydoyoxklbh16xzevnyj3nxczgdn48mtjza3n="" +s+05mtmx3qlulfi2wzmksvhz5epurvwyang7cumdthrwczd9="" qohzs2ef3l9oaci2b9+oe="" fu4e3bt3j37h2srkwu1ljsj8evlqysrdltc8b+nj2m92noafisf+6kpkriv9brmvajpi06jf6rvi2irclcunwr0dfpawno168fateuja1bt+l48enys2yngpcngx0uqvqkkuhu4lqplxf2xnfr0ck3vra="" qcijizfr1iz4+pggiiiccxfxgd58+h+qn4iiyjan2souuqukpdw8sgntjowansrf+9gzgrm4dokssrozerqubg1tbqda4coh="" n9161bv="" be9gdnzpybhyufdawm="" vp8n87r5oqepz8="" 2bk7d++q9d6iikhs0ag9bacym7pbtgmdx375buljsbh16xa2bnkcd3d31kpvc3l5evi7di1sulkwb98+rf+="" j="" f79ixy3hq1ckebqxh9u3bca8pr0hicczmmkccrutz2tri6twrohr0ko7cuyols5fi9ontkr8fiiiqozqusg1sbhdixam0bt0ac+fohzubg7y8vpdbb79h5cqvqf+="" phyvxoy1a9eiefpm2l59oxyswpcf77dro0byunuroqoj0ajfc3z33xeyngms3f6wqgwdohq9evtaibej0kzng6slpwhs2leqvx8iiio7rbkzgcqd6uvq12="" cinwxobkafhjqcbefzabp="" uwe7o3mje2vhs+ttdtbf3psgrererwmgu1ercqadgwiiiibygaterejaaobiihiabjyrereasdajiiiegagnherkqawsimiiasagu1ercqadgwiiiib0kjla5jik4d7q7selcjmzishoag6y1az9qpznl0fc4mxuksggwbgc0hxlhcgyfhl="" 5qn="" rbpjh4sjyiiegagnherkqawsimiiasagu1ercqadgwiiiibygaterejaaobiihiaeqzgrlsdrdbrereinepm4iisaay2ereralawcyiihiabjyrezeamlcjiigegigtatzv3owgdrpaipggvatwoh36tmlx8fhxanwqfsqscro2bijq0nbsqlsxfstwoe2bnrcyskktwrxqr18="" 3lx5u+e2qampeivf+f4do3aslkouxfbqul66ateurxcbgzduohpnzjazm4o9vt2wlfkcqvqzpojh6ohy4gpdt2="" fqrcpaly6="" r+donuk="" fv3h729pcrimclcwutws6vsbaufow7dujazm0oxll3w559="" fjnvgqmh4olialntu7i4uca6orqkwpcjqj93795h7ty5chv1rbvq1vcnth2mgdec9+7duzhnxfxcgb+zw7dulxq7rf5+="" p3989xvrl27iudv1+tduf0u9dilxwjmmzat0dn="" 6+sdl6+pzpgrkzg5cyacg4prvhlzbn68gx369efcqgksrkzyju9jsuhfvn0xcobabny4eqkjczg6dsqmjizqvxt3nxtw="" +lj4zf8+ha0adieuqkuixytqo8epxd27fluqvjf4byrergox7++7hzr40ulnz0ddh48klutra1d6nixl1="" c29sbrq6u+p3335gulisxy8eiuqvkgd9+fgmuq1bsbcxyc3nltx8="" fozwrvujr48ecrf78ccf0afdb9ntypurl1inimrlzafevxoymgaaro8enw="" 9qlwrebisgpcqenjz2whp0qxw9vbg+fpnywbguocc586dw7bhwzbr1ix069yn0dhrgdjkci4coqjnz2e19fp69wtcuxif06zng6oji16+fik5c+agd+="" eohxqfmqvu="" zsnzcqipccmjyu+wtuf="" x7aydwrvtjw4ynstu6urok51tn611r="" sqmjsrdvntpevr371="" k8wn4="" nc7braahysewmfhb4mhdwyalfu2ddexmqgndcxcuxpzjf="" pp59gzmagzcuwaqdq1kmdcxcuym2anwop7mjislnbgzzsglw1nrisetcpuyef21atwhusiaqky="" ss5cqvu7quvxv34s2bn1i3bh0qvqyievxq4datw1i7di3gjrshkuhuwtuq9uml9o4do2bgyfdkc4yhoafg="" g48pt3h6ekjabgzzozcoqluinxr1mhspemy58g6detgz2ehffv2yejqoqxouw7dorrs2vk2v1snth3excvh3bp12ljlswl2o7gfq0nd="" plll3llvq5ciebnmymxmreodg4k5zyxmygrkzfqcy6con4+kf++flh+l6nz9a6ofj7t49dff4wtrs3c3d2lnptzx+94sfynsrozcfnyzbrt21zuedu2bxh27nkctzl37ly+8r4ehrh06rlevxtxyrv+jlevxievlw9isbjisb6+vrc1tuwhdh1w4mcbuqhooskpkbc3t0edbg0wbngwpkskfdr23llzangibspwrchb5uhhguephie1nbuuqlwevcrfjh070k9fp1sqvenh2jkzz6jmzzpo06ynqkndkzexv0pvki81nrvpnjyre25urfgrrq6uht6xaod8+fmfpp8ubamu="" zzdwao9xxq3bo16tspay8vl5w8ebkks1pamtnnygtrcycnj0yymahpnj1tof4or3f="" pmpiimjztterfnc1zsgthqlp6cjnzcxjiymcstntezw9ontard5+vrpgenzcnkqnp5eyrv+jpkzz8lr0rhnmjurdiy+vj4wlfian376cxv37svxx32fouohys+epavyacgcnz2xdu1a7n27fz="" ++coephkct09pvhjxosdxhf1upqztjlgxsuhntywvr6="" ccbnnz0zoach++eux9ozze3pmzefwchapvam8j0+eaecxnksftivunuqqnz2noxpmogphjrcwsch0njmzgvaswiedo3zgx44dslozq="" fu3xhq1klsrlzg7dq1w="" r163hgwaesxlgqf="" zxb7y8vpdvv="" 8wuo1qxu8iiilw77="" yscaaqrh="" dfxox4s1wcfhiqvsqukd58wnl6g5eo0e="" zsjcqk4pdhwwrf9zuympj7f7dx48z48eifvq1ahx79+pvgqyvq37693g1nz2c0atqiu3btwrhx4wrcrgi="" gwdytm0bmjrpggyngigcfxaqipu5qymgymvlq3bwmkzpn17sjx6w4j6xpneb0pstkwm="" pz9kzmbi559="" vjjwzs4odnz2stvnmjvdwloavq9edtc3t5iuvafevxrjfnzwcecjro3g6oiii0eowmvlq9dthpcc2rztg7p06vlkuql="" 9fwoe9hqzgrkbg1t7xx="" zt9="" jzfx5ufmjqafji+xllyqfq1aonvwhyzzs1creqeoqkiygnju+ztnzyckjycrprc="" in9fx3urvu30nok+90a+ff81onzs2f49ddflt589zenjye8fpls4="" zap7wfwjzn0oftirtnacrjychw4cnx48ynhdhw4loe45r6fdi3n0e1atuu1iae17urv6="" i0qvln="" v8aor3+2fgq5guri4anwqe2nhyuewxsbfwcxepcjtmzzrh+phj+cy3btwyojo6jvwq0mbmmif9+="" yhkiqqyi9afebatwsaczltp96+fyukpkrca2vwrbnondmdt2="" fypbfxsbc3nwc1atxl60yixqwfoby5cujz8+exd722rvrqfchagwnduugss9xvxp1scqsuefs27dvcebmmukfswdqtgntyj3="" sto7d+8wdohq3lhxa9hr0z="" 9nndu51n6ejoepxqksdznf70d3u9dw1tbo3xr1p+1fxf+pzwkrmzjx47fqfgj4otkbbcxf4sghulx48eys1phjrofalkpqgwdohsbnm3czjkzmxtoujw9exa7du3c5s2b1dbdb9omtcoepxuwc+doimvi2fukenp60nfxbwb89913+ooppxavfqua2lvrf3r0dncgqqnoawnh8ohd2lx5m+bnm6eunmq+vgdoawmj58+fy9myzxj9+rxsfappe+nduzewlfmcmwpgynq0abh9+zz++oehbaqeamzho6luiu3bt6nnz575puq0cengbnq0cefpnwca="" pbbb3j69cmanm2kihurii4udkfbqrg8eddkly9f6rw="" evvktiesl5eh+="" fv4+rvq6hspqqsrkzg7++p4obg2nnzwdbwfsuxl4eenh569+4tm8plywtotk6yt2cmhj0antt3xoovk9c1a1ccphgqcxfxohz4sfr7mtc3x+dbg3hp0ix8="" pppeilesudt5cqvzsc2fvr6shbtwlhbw8pe3h7z2dkidw="" houohsh37drx2u6vkfsxevbhexl6qscris0vd="" pnzywjigq5du8rm0ktxu6l+vwhvp363d+9etjgwocdnukpf7xjyatazz0+8epecy5ytw5mnt2bvb4="" w8hbyw1sdao7fvy833sbgbuhh4bktgczmzlbkyrk1f6qlgoxj9gktm2bmwkxzswc8="" +zv3bt35dyvx74c9+7dg7a2nmrvqou1a9ao="" f1rahj48cfgjbib9pr0gbsbw9nzguephpx9bj7txddqepv378e0adpqpk0bimvijb07ttd3u9uhli4oycnj2lrpu7516enpsepkkt3w0dhb5s2b8c033yavlw82njaynwswro4cwzoly1y6dandunwt3q4kckjqubagdbiadevwyeleixjz5g2mt5+ojiwmodk5itiyuu4pk7t378qdtpxhj+sfcxcikcginwruqghoail="" bruofmbonilff="" 0vapltuywehgdgwiea8r8+vhv3dt9++y0epxqechuqyf5ppnw8qsqp6mffihw4efmmdu="" ejczmtegkerrs2ri="" fst3o9hk17vivr="" brz="" kgtwvpbs9="" epvb="" e8xryrereasd3simiiasagu1ercqadgwiiiibygaterejaaobiihiabjyrereasdajipdwslcibaliralcfv27xzr4+lizos="" qapkulo6ah="" f="" 8sv5+gocbzb2kxgkampnbxccgpp="" 742vcycwslw44do1rckdhnywatluegbgbyvxt3vuw7d+="" o9w1nzc3hw4dx9ohr7ny5e="" b29ggmderismhnzbvr1y6ehywpuekiz8pajiqdunbtivdwcnmvjqdgzzs3ii6olvv2jlvqdhlevvpmvpydndg0avn4enoindqudnz2pflvneqljyfnvab1798f9+7dw5kzz2tldh48inzc3aivzdilsxd06dil3="" jpd2d="" oor+6tqpdb48gnbw1vdw8jctx7duhrwdhsgrsnc6dwucpn26wppsuliwcuri1kpvc6ampnb3d0d0dltcma+hug="" evimepxvcwsicq4ymkdbjokwlhfr16+f7ysvk5gt4+fmhqymgmdmzq8ogdtflyhrkzgtipsantp1cqkkc7dd7x4+rmj0qqrk="" s5yodlkysokrqyv27nkdv1dxao8ph3fp0gv6enr="" ex4="" pz="" 06tul27dvr05odgbg+="" btmdvrfnx8fnczz08kjydjxigrepxqldy29+="" fr7t27wbiyojfixbb2ngykzgrgdroemlcwtc5c2e58t4+pvd19cxeirohpvx8fyy0tdtuqffdbtmjr49gyweh+6mgjsufk1asqj8+fxd06feaqhbwmpz8="" jcbm4sffvgbagrvjxs3byjvygatlvh9+="" fhndlzsgtjemrkzod48epyt2+fsub28vlc="" pnzzbfz8vkwzmksehh4yo3atbllxsbggdzsmny2ixcvhlqqxafdh2txnpbw8mcdbw+wangifge3atsoyp20lpubcwdiymja9u3bcfnyzwzbtk1ujjubg9zc3gs3xvxculnmtxtq1alxrlxbw4ynubduxrgygca3nxdnmzb9tz0qqqipirovut169eb2djyohz6mvxv3qikrofwrviqz++nliglagwcp8odba="" to0unuuzexf8qvk98viimjqfv27vg5cmxk5oti="" nl4eod69et4+fklwvsqikqigbgxmwxtbtf="" nzmnts33xzz2dkidg5g06znywzmbmnjy3tq1akacjy7="" lpf7yfifbihtvrggrgyoeuxlti9ezfs0tlqp0+fzzqkxbazmzo52x+u1wxqaiq3vfy5cri90a+epxug3bt3f3gwowc8epeclstxlvs+inls2dfoawnh4cohwlzsgebnm4fgjrujzcuwsjhfffcdnm7ciicaadrr1gwgbgz48oabfh198fbt2ylvo7g9ekkca5uodovfvz="" 69u2lvlw8bnmypdbxfspuwd="" jnv+ccnyx1mjblj3zzijacap0+fyi3pycnbixcv5jzvrvovlvq0wkrjkwqc29zcxof9favro0yov64cmjrpaldxvzg7o2pgjbmij4+x="" cesgrmj="" v37y="" r06bltpn2vxzhi9kckcgxsojkstzs28pb2hqghiezt7qsdz2vlhaiokgrnz0nxvxcacoruqqjdvcawfhawtltel7="" 8al9fx9nyqkgo2ulph3h4eod8+foow7cuklas+bldka9q1aoicajazjkzeruvjttk="" r1a+jo6minlejz1uxll0d6enq+5axza9ehdgyimkxbw1vhnvuhpxv2xnatwzfu3dj4+pggntuvisehsh="" w1dlsqkbaaczmmiaxy8agv69ese5oxsqvk="" pnmxv2bhh4ekbz584yoxikrk2tkzgrgt="" bmpksmf="" sunhrk6dchwr16nzcuwoxv37hcjrgjxrh1+="" vln1ktxdzvr1kr0ddtontuxb9s6depgy5ytiiymri0anacvrw87o7ts74eiygateycvvvokk1euxorvqxevfyugdrpg48ancnvlrrk0abcysriqehkciigi2nvby8uwlfdz85mbz2vlhdjywcxevbglfiza8+fpubvqvdjb22pagagqbg3ly5fh9ontmwnsjbw8ebddunxd0qvlizvkswdbagcap6cntmzzgrzt28pto2nsjny+frstjkzaq1ev4obmhkohdpv6d0qaimriyjawpyyiiijuir="" riiiiegagnherkqawsimiiasagu1ercqadgwiiiibygaterejaaobiihiabjyrereasdajiiieod="" a2pdgpkftlvkaaaaaelftksuqmcc\n",="" "text="" plain":="" [="" "<figure="" size="" 432x288="" with="" 1="" axes="">"
      ]
     },
     "metadata": {},
     "output_type": "display_data"
    }
   ],
   "source": [
    "def most_murderous(year):\n",
    "    # Assign most to a table of the most murderous states this year in ascending order.\n",
    "    data_for_year = murder_rates.where('Year', year)\n",
    "    sorted_data = data_for_year.sort('Murder Rate', descending = True)\n",
    "    top_5 = sorted_data.take(np.arange(5))\n",
    "    top_5.barh('State', 'Murder Rate')\n",
    "    return top_5.sort('Murder Rate',descending = False).column('State')\n",
    "\n",
    "most_murderous(1990) # California, Mississippi, ..., "
   ]
  },
  {
   "cell_type": "markdown",
   "metadata": {},
   "source": [
    "**Question 1.4.** <br>How many more people were murdered in California in 1988 than in 1975? Assign `ca_change` to the answer.\n",
    "\n",
    "*Hint*: Recall the formula given at the beginning of the project:\n",
    "\n",
    "$$\\text{murder rate for state X in year Y} = \\frac{\\text{number of murders in state X in year Y}}{\\text{population in state X in year Y}}*100000$$\n"
   ]
  },
  {
   "cell_type": "code",
   "execution_count": 21,
   "metadata": {},
   "outputs": [
    {
     "data": {
      "text/plain": [
       "726.0"
      ]
     },
     "execution_count": 21,
     "metadata": {},
     "output_type": "execute_result"
    }
   ],
   "source": [
    "ca = murder_rates.where('State', are.equal_to('California'))\n",
    "ca = ca.with_column('Number', ca.column('Murder Rate')*ca.column('Population')/100000)\n",
    "\n",
    "ca_change = ca.where('Year',1988).column('Number').item(0)-ca.where('Year',1975).column('Number').item(0)\n",
    "np.round(ca_change)"
   ]
  },
  {
   "cell_type": "markdown",
   "metadata": {},
   "source": [
    "### 2. Changes in Murder Rates\n",
    "\n",
    "In this section, we'll see **how to test this null hypothesis:** \"For a set of U.S. states, the murder rate was equally likely to go up or down each year.\"\n",
    "\n",
    "Murder rates vary widely across states and years, presumably due to the vast array of differences among states and across US history. Rather than attempting to analyze rates themselves, here we will restrict our analysis to whether or not murder rates increased or decreased over certain time spans. **We will not concern ourselves with how much rates increased or decreased; only the direction of the changes** - whether they increased or decreased."
   ]
  },
  {
   "cell_type": "markdown",
   "metadata": {},
   "source": [
    "The `np.diff` function takes an array of values and computes the differences between adjacent items of a list or array as such:\n",
    "\n",
    "    [item 1 - item 0 , item 2 - item 1 , item 3 - item 2, ...]\n",
    "\n",
    "Instead, we may wish to compute the difference between items that are two positions apart. For example, given a 5-element array, we may want:\n",
    "\n",
    "    [item 2 - item 0 , item 3 - item 1 , item 4 - item 2]\n",
    "    \n",
    "The `diff_n` function below computes this result. Don't worry if the implementation uses unfamiliar features of Python, as long as you understand its behavior."
   ]
  },
  {
   "cell_type": "code",
   "execution_count": 22,
   "metadata": {},
   "outputs": [
    {
     "data": {
      "text/plain": [
       "array([  99,  990, 9900])"
      ]
     },
     "execution_count": 22,
     "metadata": {},
     "output_type": "execute_result"
    }
   ],
   "source": [
    "def diff_n(values, n):\n",
    "    return np.array(values)[n:] - np.array(values)[:-n]\n",
    "\n",
    "diff_n(make_array(1, 10, 100, 1000, 10000), 2)"
   ]
  },
  {
   "cell_type": "markdown",
   "metadata": {},
   "source": [
    "**Question 2.1.** <br>Implement the function `two_year_changes` that takes an array of murder rates for a state, ordered by increasing year. For all two-year periods (e.g., from 1960 to 1962), it computes and returns **the number of increases minus the number of decreases.**\n",
    "\n",
    "For example, the array `r = make_array(10, 7, 12, 9, 13, 9, 11)` contains 3 increases (10 to 12, 7 to 9, and 12 to 13), 1 decrease (13 to 11), and 1 change that is neither an increase or decrease (9 to 9). Therefore, `two_year_changes(r)` would return 2, the difference between 3 increases and 1 decrease.\n",
    "\n",
    "*Hint*: Consider using the `diff_n` function."
   ]
  },
  {
   "cell_type": "code",
   "execution_count": 23,
   "metadata": {},
   "outputs": [
    {
     "name": "stdout",
     "output_type": "stream",
     "text": [
      "Alaska: -5\n",
      "Minnesota: 6\n"
     ]
    }
   ],
   "source": [
    "def two_year_changes(rates):\n",
    "    \"Return the number of increases minus the number of decreases after two years.\"\n",
    "    rate_diff = diff_n(rates,2)\n",
    "    count_num_increase = np.sum(rate_diff&gt;0)\n",
    "    count_num_decrease = np.sum(rate_diff&lt;0)\n",
    "    return count_num_increase - count_num_decrease\n",
    "\n",
    "print('Alaska:',    two_year_changes(ak.column('Murder rate in Alaska')))\n",
    "print('Minnesota:', two_year_changes(mn.column('Murder rate in Minnesota')))"
   ]
  },
  {
   "cell_type": "markdown",
   "metadata": {},
   "source": [
    "We can use `two_year_changes` to summarize whether rates are mostly increasing or decreasing over time for some state or group of states. Let's see how it varies across the 50 US states.\n",
    "\n",
    "**Question 2.2.** <br>Assign `changes_by_state` to a table with one row per state that has two columns: the `State` name and the `Murder Rate two_year_changes` statistic computed across all years in our data set for that state.  Its first 2 rows should look like this:\n",
    "\n",
    "|State|Murder Rate two_year_changes|\n",
    "|-|-|\n",
    "|Alabama|-6|\n",
    "|Alaska|-5||\n",
    "\n",
    "<center>... (48 rows omitted)</center>\n"
   ]
  },
  {
   "cell_type": "code",
   "execution_count": 24,
   "metadata": {},
   "outputs": [
    {
     "data": {
      "text/html": [
       "\n",
       "    \n",
       "        \n",
       "            \n",
       "        \n",
       "    \n",
       "    \n",
       "        \n",
       "            \n",
       "        \n",
       "        \n",
       "            \n",
       "        \n",
       "        \n",
       "            \n",
       "        \n",
       "        \n",
       "            \n",
       "        \n",
       "        \n",
       "            \n",
       "        \n",
       "        \n",
       "            \n",
       "        \n",
       "        \n",
       "            \n",
       "        \n",
       "        \n",
       "            \n",
       "        \n",
       "        \n",
       "            \n",
       "        \n",
       "        \n",
       "            \n",
       "        \n",
       "    \n",
       "<table border="\&quot;1\&quot;" class="\&quot;dataframe\&quot;"><thead><tr><th>State</th> <th>Murder Rate two_year_changes</th></tr></thead><tbody><tr><td>Alabama    </td> <td>-6                          </td></tr><tr><td>Alaska     </td> <td>-5                          </td></tr><tr><td>Arizona    </td> <td>1                           </td></tr><tr><td>Arkansas   </td> <td>-1                          </td></tr><tr><td>California </td> <td>17                          </td></tr><tr><td>Colorado   </td> <td>-4                          </td></tr><tr><td>Connecticut</td> <td>4                           </td></tr><tr><td>Delaware   </td> <td>-3                          </td></tr><tr><td>Florida    </td> <td>-6                          </td></tr><tr><td>Georgia    </td> <td>-3                          </td></tr></tbody></table>\n",
       "<p>... (40 rows omitted)</p>"
      ],
      "text/plain": [
       "State       | Murder Rate two_year_changes\n",
       "Alabama     | -6\n",
       "Alaska      | -5\n",
       "Arizona     | 1\n",
       "Arkansas    | -1\n",
       "California  | 17\n",
       "Colorado    | -4\n",
       "Connecticut | 4\n",
       "Delaware    | -3\n",
       "Florida     | -6\n",
       "Georgia     | -3\n",
       "... (40 rows omitted)"
      ]
     },
     "execution_count": 24,
     "metadata": {},
     "output_type": "execute_result"
    }
   ],
   "source": [
    "changes_by_state = murder_rates.group('State', two_year_changes ).drop(['Year two_year_changes','Population two_year_changes'])\n",
    "changes_by_state"
   ]
  },
  {
   "cell_type": "code",
   "execution_count": 25,
   "metadata": {},
   "outputs": [
    {
     "data": {
      "image/png": "iVBORw0KGgoAAAANSUhEUgAAAbEAAAEdCAYAAACCDlkkAAAABHNCSVQICAgIfAhkiAAAAAlwSFlzAAALEgAACxIB0t1+/AAAADl0RVh0U29mdHdhcmUAbWF0cGxvdGxpYiB2ZXJzaW9uIDMuMC4yLCBodHRwOi8vbWF0cGxvdGxpYi5vcmcvOIA7rQAAIABJREFUeJzt3XdYU2f/BvA7gIKKFgQElaFCFAeKFUXFPbBq3aWCtPV14azixmqxroJ7UtQ68cUqVNu6ih1aB4pa68QFRXAjIqAEBYH8/vBHXmMYJ5iQHLw/1+V1mXNOnud7ziG5c7YkPT1dDiIiIhEy0HUBREREpcUQIyIi0WKIERGRaDHEiIhItBhiREQkWgwxIiISLYYYERGJFkOMiIhEiyH2juLi4nRdQpnjPL8fOM/vB7HPM0OMiIhEiyFGRESixRAjIiLRYogREZFo6TTEoqOj4e3tjYYNG8LMzAzh4eFK4+VyOYKCguDs7AwbGxv07t0b169f11G1RESkb3QaYjKZDI0aNUJwcDAqVaqkMn716tUICQnB4sWLceTIEVhZWWHAgAF4/vy5DqolIiJ9o9MQ8/T0RGBgIPr16wcDA+VS5HI5QkND4e/vj379+qFRo0YIDQ1FZmYmfvzxRx1VTERE+kRvj4klJSUhOTkZXbp0UQyrVKkS2rZtizNnzuiwMiIi0hdGui6gKMnJyQAAKysrpeFWVlZ4+PBhke/TxYV7Yr9YsDQ4z+VfPoxw5kKs1to3M60MA+Rqrf3Set/WM6Df8yyVSosdr7chVkAikSi9lsvlKsPeVNIMa1pcXFyZ96lrnOf3w5kLsVix+RettR840ReN6+vXMn0f17PY51lvdydaW1sDAB4/fqw0/MmTJypbZ0RE9H7S2xBzcHCAtbU1jh49qhj28uVLnD59Gu7u7jqsjIiI9IVOdydmZmYiISEBAJCfn4979+7h8uXLMDc3h52dHcaOHYvly5dDKpXCyckJy5YtQ5UqVfDJJ5/osmwiItITOg2xCxcuoE+fPorXQUFBCAoKgo+PD0JDQzFp0iS8ePEC06dPR3p6Olq0aIG9e/eiatWqOqyaiIj0hU5DrH379khPTy9yvEQiwaxZszBr1qwyrIqIiMRCb4+JERERlYQhRkREosUQIyIi0WKIERGRaDHEiIhItBhiREQkWgwxIiISLYYYERGJFkOMiIhEiyFGRESixRAjIiLRYogREZFoMcSIiEi0GGJERCRaDDEiIhIthhgREYkWQ4yIiESLIUZERKLFECMiItFiiBERkWgxxIiISLQYYkREJFoMMSIiEi2GGBERiRZDjIiIRIshRkREosUQIyIi0WKIERGRaDHEiIhItBhiREQkWgwxIiISLYYYERGJluAQi46OxpMnT4ocn5qaiujoaI0URUREJITgEOvTpw+OHj1a5Phjx46hT58+GimqQF5eHhYuXIimTZvC2toaTZs2xcKFC5Gbm6vRfoiISJyMhE4ol8uLHZ+TkwMDA83unVy1ahU2bdqE0NBQNGrUCLGxsRg7diwqVqyIGTNmaLQvIiISn2JD7NmzZ8jIyFC8fvr0Ke7evasyXXp6Ovbs2YOaNWtqtLizZ8/io48+Qs+ePQEADg4O6NmzJ86fP6/RfoiISJyKDbHvvvsOS5YsAQBIJBLMmjULs2bNKnRauVyOr7/+WqPFtW7dGps3b8atW7dQv3593LhxAydOnMDkyZM12g8REYlTsSHWqVMnmJiYQC6XY/78+Rg4cCBcXFyUppFIJKhcuTKaN28ONzc3jRbn7++PzMxMuLu7w9DQELm5uZg2bRpGjhxZ5Hvi4uI0WoMQuuhT17Q5z/kwQnpmltbaNzOtDAOof1z1fVzPMplMa21nyjL1cpnqY03aps/zLJVKix1fbIi1bt0arVu3BgBkZ2ejT58+aNy4seaqK8HevXuxa9cubNq0Cc7Ozrhy5QoCAgJgb2+PL774otD3lDTDmhYXF1fmfeqatuc59lYSVmz+RWvtB070ReP66tX/Pq7nMxdiUaVKFa21b1rFFFKpg9baL433cT2LfZ4Fn9gREBCgzToKFRgYiAkTJmDQoEEAgMaNG+Pu3btYuXJlkSFGRETvjyJD7IcffgAAeHt7QyKRKF6XxMfHRzOVAcjKyoKhoaHSMENDQ+Tn52usDyIiEq8iQ2zcuHGQSCQYNGgQKlasiHHjxpXYmEQi0WiIffTRR1i1ahUcHBzg7OyMy5cvIyQkBN7e3hrrg4iIxKvIELt06RIAoGLFikqvy9KSJUuwaNEiTJ06FU+ePIG1tTWGDh3Ka8SIiAhAMSFmb29f7OuyULVqVQQHByM4OLjM+yYiIv3HGwATEZFoCT47EQD++usvbN++HYmJiUhLS1O5FZVEIsHFixc1WiAREVFRBIdYaGgoZs+eDUtLS7i5uaFhw4barIuIiKhEgkMsJCQEHh4e2LNnj+JkDyIiIl0SfEwsNTUVAwcOZIAREZHeEBxirq6uuHPnjjZrISIiUovgEFu0aBF27tyJ48ePa7MeIiIiwQQfEwsKCkK1atXQv39/ODo6ws7OTuWWUBKJBBERERovkoiIqDCCQ+zGjRuQSCSwtbVFdnY24uPjVaaRSCQaLY6IiKg4gkPsypUr2qyDiIhIbbxjBxERiZbgLbG7d+8Kms7Ozq7UxRAREalDcIg1bdpU0DGvp0+fvlNBREREQgkOsXXr1qmEWF5eHpKSkrBr1y7UqFEDI0eO1HiBRERERREcYr6+vkWO8/f3R5cuXZCZmamRooiIiITQyIkdpqam8PX1xXfffaeJ5oiIiARR61EsxalQoQIePnyoqeaItEYiAWJvJan1nkxZjlrvsTSvBmsrc3VLIyI1aSTErly5gvXr16NBgwaaaI5IqzKeZ2HVlp/Ueo9MJkOVKlUETx840ZchRlQG3vnsxIyMDDx79gympqYICQnRaHFERETFERxiHh4eKiEmkUhgZmaGevXqYdCgQTAzM9N4gUREREVR68nORERE+oS3nSIiItFiiBERkWgxxIiISLQYYkREJFoMMSIiEi1BIfby5UssXrwYR44c0XY9REREggkKMRMTE6xcuRL37t3Tdj1ERESCCd6d6OLigoSEBG3WQkREpBbBIRYYGIiwsDAcPnxYm/UQEREJJviOHWvWrIGZmRl8fHxQq1Yt1KlTB5UqVVKaRiKRICIiQuNFEhERFUZwiN24cQMSiQS2trYAgDt37qhMU9gNgomIiLRFcIhduXJFm3UQERGpjdeJERGRaKkVYnl5eYiIiMCECRMwePBgXL16FQCQnp6On376CY8ePdJ4gY8ePcKYMWPg6OgIa2truLu74+TJkxrvh4iIxEfw7sSMjAwMHDgQ//zzD0xNTSGTyTBu3DgAQNWqVTF79mx4e3sjMDBQY8Wlp6ejR48eaN26NSIiImBhYYGkpCRYWVlprA8iIhIvwVti8+bNw40bNxAZGYmLFy9CLpcrxhkaGqJPnz74/fffNVrcmjVrYGNjgw0bNqBFixaoU6cOOnbsiAYNGmi0HyIiEifBIXbw4EH4+fmhW7duhZ6F6OjoiLt372q0uIMHD6JFixYYNmwYnJyc0K5dO2zcuFEpQImI6P0leHdieno66tatW+R4uVyOnJwcjRRVIDExEZs3b8a4cePg7++PK1euYObMmQAAPz+/Qt8TFxen0RqE0EWfuqbNec6U5UAmk2mt/dy83FK1r857cnNf4cyFWLX7EMrMtDIMkKu19gtocz1kyjL18rOjjzVpmz7Ps1QqLXa84BCzt7fHtWvXihwfHR0NJycn4ZUJkJ+fj+bNm2Pu3LkAgGbNmiEhIQGbNm0qMsRKmmFNi4uLK/M+dU3b8xx7KwlVqlTRWvtGhkZqty+TydR6T9bLV1i15Rd1SxMscKIvGtfX7t/dmQuxWl0PplVMIZU6aK390uDnWXwE70708vJCWFgYoqOjFcMKditu2LABBw4cwJAhQzRanLW1tcrxr/r16/NGxEREBECNLbHJkyfj77//Rt++feHk5ASJRIKAgAA8ffoUycnJ6N27N0aPHq3R4lq3bo34+HilYfHx8bCzs9NoP0REJE6Ct8QqVKiAiIgIrF+/Hk5OTqhfvz5yc3PRrFkzrF+/Hjt27ND4bafGjRuHc+fOYdmyZUhISMDPP/+MjRs3YuTIkRrth4iIxEnwllgBLy8veHl5aaMWFR9++CHCw8Mxf/58LF26FLa2tvjqq68YYkREBKAUIQYAV69eVZxOb2dnh8aNG2vt5r89evRAjx49tNI2ERGJm1ohtmfPHsydOxcPHjxQXKslkUhQq1YtzJ07t8y20IiIiAA1Qiw8PBwTJkyAVCrFvHnz4OTkBLlcjn///RdhYWEYPXo0cnJy4Ovrq816iYiIFASH2IoVK9CiRQscOHAAJiYmSuNGjRqFXr16YcWKFQwxIiIqM4LPTrx//z68vLxUAgwATExMMHjwYDx48ECjxRERERVHcIg5Ozvj4cOHRY5/8OABb8xLRERlSnCIzZ8/H9u3b8dPP/2kMm7Pnj0ICwvDggULNFocERFRcQQfE1u7di0sLCwwYsQIBAQEoG7dupBIJEhISEBKSgocHR2xZs0arFmzRvEeiUSCiIgIrRROREQkOMRu3LgBiUQCW1tbAFAc/zI2NoatrS2ys7Nx8+ZNpfdo69oxIiIiQI0Qu3LlijbrICIiUpvgY2JERET6hiFGRESixRAjIiLRYogREZFoMcSIiEi0GGJERCRagk+xb9asGYKCgtCrV69Cx0dFRWHmzJm4dOmSxoojosJJJEDsrSRt96Ll9oneneAQu3PnDmQyWZHjZTKZ4kGZRKRdGc+zsGqL6i3gNGnC0D5abZ9IE9TanVjcHTji4+NRtWrVdy6IiIhIqGK3xHbu3IkffvhB8XrZsmXYvn27ynTp6em4du0aevToofkKiYiIilBsiMlkMiQnJyteZ2RkID8/X2kaiUSCypUrY+jQoQgICNBOlURERIUoNsRGjRqFUaNGAQCaNm2K4ODgIk/sICIiKmuCT+y4fPmyNusgIiJSm+AQK/D8+XPcu3cPaWlpkMvlKuM9PDw0UhgREVFJBIdYWloaZs6ciZ9++gl5eXkq4+VyOSQSCZ4+farRAomIiIoiOMQmT56MAwcOYNSoUfDw8ICZmZk26yIiIiqR4BD7448/MHr0aCxatEib9RAREQkm+GLnihUrwtHRUZu1EBERqUVwiPXr1w+///67NmshIiJSi+AQ+/LLL/Ho0SOMGTMG586dw6NHj5CSkqLyj4iIqKwIPibWokULSCQSXLx4EREREUVOx7MTiYiorAgOsRkzZhR7A2AiIqKyJjjEZs2apc06iIiI1FaqJzvn5eXh6dOnyM3N1XQ9REREgqkVYv/88w/69++PWrVqwcnJCdHR0QCA1NRUfPrppzh27JhWiiywfPlymJmZYfr06Vrth4iIxEFwiJ09exa9evXC7du34e3trXTfRAsLC2RmZmLHjh1aKRIAzp07h+3bt6Nx48Za64OIiMRFcIgtWLAAjo6OOHPmDAIDA1XGt2/fHn///bdGiyuQkZGBUaNGYe3atbzdFRERKQgOsX/++QefffYZTExMCj1LsXbt2koP0NQkf39/9OvXDx07dtRK+0REJE6Cz040MDCAgUHRmZecnIxKlSpppKg3bd++HQkJCdiwYYOg6ePi4jRegz72qWvanOdMWQ5kMpnW2s/Nyy1V++q8p7R96Ev7BbTZR6YsUy8/O/pYk7bp8zxLpdJixwsOMVdXV0RFRWH06NEq43JychAZGYlWrVqpX2Ex4uLiMH/+fPz666+oWLGioPeUNMOaFhcXV+Z96pq25zn2VhKqVKmitfaNDI3Ubl8mk6n1ntL0oQ5tt19Am32YVjGFVOqgtfZLg59n8RG8O3HKlCk4fvw4JkyYgCtXrgAAHj16hD/++AN9+/bF7du3MXXqVI0Wd/bsWaSmpqJNmzawsLCAhYUFoqOjsWnTJlhYWCA7O1uj/RERkbgI3hLr3LkzNmzYgOnTp2Pnzp0AgLFjx0Iul+ODDz7Apk2b0LJlS40W17t3bzRv3lxp2Pjx4+Ho6IgpU6YI3jojIqLySXCIAcAnn3yCXr164ejRo/j333+Rn5+PunXromvXrjA1NdV4cWZmZipnI1auXBnm5uZo1KiRxvsjIiJxUSvEgNch0rt3b23UQkREpBbBx8QOHTpU7J0ypk+fjqioKI0UVZyDBw9i6dKlWu+HiIj0n+AQW7t2LbKysooc//LlS6xevVojRREREQkhOMSuXbsGV1fXIsc3a9YMN27c0EhRREREQggOsdzcXLx48aLI8S9evOAp70REVKYEh1ijRo2wb98+5Ofnq4zLz8/Hvn374OzsrNHiiIiIiiM4xMaMGYPz58/Dx8cHFy9eRHZ2NrKzs3Hx4kUMGTIE58+fL/RuHkRERNoi+BT7QYMG4fbt2wgKCsLvv/8OAJBIJJDL5ZBIJJg5cyYGDx6stUKJiIjeptZ1YtOmTcMnn3yC/fv3IzExEXK5HHXr1kWfPn1Qp04dLZVIRERUOEEhlp2djb1796J+/fpo0aIFvvzyS23XRUREVCJBx8SMjY0xadIkxY1/iYiI9IHgEzukUqnWHnpJRERUGoJDbMaMGfj+++8RGxurzXqIiIgEE3xix/Hjx2FlZYUOHTqgVatWqFu3rsqTnCUSCZYtW6bxIomIiAojOMS2bNmi+H9MTAxiYmJUpmGIERFRWRIcYmlpadqsg4iISG2Cj4kRERHpG7UfihkTE4Pjx48jJSUFo0ePhpOTE2QyGW7cuAGpVIpq1appo04SKDklDU/Snmm1D0NJRcTeStJa+9k5OVprm4jKF8EhlpOTg+HDh+PQoUOKW019/PHHcHJygqGhIT755BOMHz8e06ZN02a9VIInac8wf024VvuYMLQP1m3fr7X2/YcP0FrbRFS+CN6dGBQUhMOHD2Pp0qU4d+4c5HK5YpyJiQn69++PX3/9VStFEhERFUZwiEVGRuI///kPRowYgerVq6uMl0qlSExM1GRtRERExRIcYikpKXBxcSlyvLGxMWQymUaKIiIiEkJwiFlbWxe7pXX+/Hk4ODhooiYiIiJBBIdY3759sXXrVsTHxyuGSSQSAMCvv/6KyMhIDBw4UPMVEhERFUFwiM2cORN2dnbo2LEjRo4cCYlEghUrVqBbt27w9fWFq6srJk2apM1aiYiIlAgOsapVq+K3337DlClTkJKSAhMTE8TExEAmk2HWrFnYv38/TExMtFkrERGRErUudjYxMcHUqVMxdepUbdVDREQkWIkhlp2djUOHDiExMRHVq1dHjx49YGNjUxa1ERERFavYEEtOTkavXr1w+/ZtxcXNlStXRkREBDw8PMqkQCIioqIUe0xs4cKFSExMxLhx47B7924EBQXBxMQEM2bMKKv6iIiIilTsltiRI0fg4+ODhQsXKobVqFEDI0eOxP3791G7dm2tF0hERFSUYrfEkpOT4e7urjSsdevWkMvluHfvnlYLIyIiKkmxIZaXl6dy2nzB65cvX2qvKiIiIgFKPDsxMTER58+fV7x+9uz1s6ri4uJgamqqMn2LFi00WB4REVHRSgyxoKAgBAUFqQx/++SOgmeMPX36VHPVERERFaPYEAsJCSmrOoiIiNRWbIgNGTKkrOoo1IoVK7B//37Ex8ejYsWKcHNzw9y5c9GoUSOd1kVERPpB8L0TdeHkyZMYMWIEDh8+jH379sHIyAj9+/dHWlqarksjIiI9oNa9E8va3r17lV5v2LAB9vb2iImJQc+ePXVUFRER6Qu93hJ7W2ZmJvLz82FmZqbrUoiISA/o9ZbY2wICAuDi4oJWrVoVOU1cXFyp28+HEdIzs9R+35kLsYKnNTOtDAPkqt2HUJmyHMhkMq21X0CbfeTm5epl++q8R1/nQV1anYfcV2p9dtT1gakpMjIz1X6fPn2ey8q7fG9qm1QqLXa8aELsq6++QkxMDKKiomBoaFjkdCXNcHFibyVhxeZf1HqPTCZDlSpVBE8fONEXjeuXvsaSxN5KUque0tJmH0aGRnrXvrrrWR/noTS02UfWy1dYtUW9z5s6/IcPULt9ffs8l4W4uLh3+t7UNVGE2KxZs7B3717s378fderU0XU5RESkJ/Q+xGbOnIm9e/fiwIEDqF+/vq7LISIiPaLXITZt2jTs3r0b//3vf2FmZobk5GQAr3dxFHbLKyIier/o9dmJmzZtwvPnz9GvXz80aNBA8W/t2rW6Lo2IiPSAXm+Jpaen67oEIiLSY3q9JUZERFQchhgREYkWQ4yIiESLIUZERKLFECMiItFiiBERkWgxxIiISLQYYkREJFoMMSIiEi2GGBERiRZDjIiIRIshRkREosUQIyIi0WKIERGRaDHEiIhItPT6eWLlkUQCxN5K0lr72Tk5WmubiMqffBhp9TvJ0rwarK3MtdY+Q6yMZTzPwqotP2mtff/hA7TWNhGVP+mZWVix+RettR840VerIcbdiUREJFoMMSIiEi2GGBERiRZDjIiIRIshRkREosUQIyIi0WKIERGRaDHEiIhItBhiREQkWgwxIiISLYYYERGJFkOMiIhEiyFGRESixRAjIiLRYogREZFoMcSIiEi0RBFimzZtQtOmTWFtbY2OHTvi1KlTui6JiIj0gN6H2N69exEQEICpU6fi+PHjaNWqFby8vHD37l1dl0ZERDqm9yEWEhKCIUOGYOjQoWjQoAGWLl0Ka2trbNmyRdelERGRjknS09Plui6iKDk5OahZsyY2b96M/v37K4ZPmzYN165dw6FDh3RYHRER6Zpeb4mlpqYiLy8PVlZWSsOtrKzw+PFjHVVFRET6Qq9DrIBEIlF6LZfLVYYREdH7R69DzMLCAoaGhipbXU+ePFHZOiMiovePXodYxYoV4erqiqNHjyoNP3r0KNzd3XVUFRER6QsjXRdQkvHjx2P06NFo0aIF3N3dsWXLFjx69AjDhg3TdWlERKRjer0lBgADBw5EUFAQli5divbt2yMmJgYRERGwt7fXWU3btm3Dxx9/DHt7e5iZmSEpKUllmvT0dPj5+cHe3h729vbw8/NDenq6DqrVnt69e8PMzEzp3/Dhw3Vdlka9TxfaBwUFqazP+vXr67osjYqOjoa3tzcaNmwIMzMzhIeHK42Xy+UICgqCs7MzbGxs0Lt3b1y/fl1H1WpGSfM8duxYlfXerVs3HVWrPr0PMQAYOXIkrly5gsePH+PYsWPw8PDQaT1ZWVno0qULAgICipxm5MiRuHz5MiIjI/Hjjz/i8uXLGD16dBlWWTZ8fX1x8+ZNxb+VK1fquiSNeR8vtJdKpUrrs7yFtkwmQ6NGjRAcHIxKlSqpjF+9ejVCQkKwePFiHDlyBFZWVhgwYACeP3+ug2o1o6R5BoBOnToprffIyMgyrrL09H53oj4aN24cAODChQuFjr958yb++OMPREVFKY7drVy5Ej179kRcXBykUmmZ1aptlStXhrW1ta7L0Io3L7QHgKVLl+LPP//Eli1bMHfuXB1Xpx1GRkbldn0CgKenJzw9PQH873NcQC6XIzQ0FP7+/ujXrx8AIDQ0FFKpFD/++KNoD2EUN88FjI2NRbveRbElJjZnz56Fqamp0sknrVu3RpUqVXDmzBkdVqZ5e/bsQb169dC6dWvMmTNH1L9Y35STk4OLFy+iS5cuSsO7dOlS7tbhmxITE9GwYUM0bdoUw4cPR2Jioq5LKjNJSUlITk5WWueVKlVC27Zty/U6B4DTp0/DyckJLVq0wMSJE5GSkqLrkgTjlpgWPH78GBYWFkrXskkkElhaWpari7S9vLxgZ2cHGxsb3LhxA/PmzcPVq1fx888/67q0d/Y+Xmjv5uaG7777DlKpFE+ePMHSpUvh6emJmJgYVK9eXdflaV1ycjIAFLrOHz58qIuSykS3bt3Qp08fODg44M6dO1i4cCH69u2Lv/76C8bGxrour0QMsf+3cOFCLFu2rNhp9u/fj/bt2wtqr7CLscVwkbY6y+E///mPYljjxo1Rp04ddO3aFRcvXoSrq6uWKy0b79OF9t27d1d67ebmBldXV+zcuRMTJkzQUVVl731a5wAwaNAgxf8bN24MV1dXuLi44PDhw+jbt68OKxOGIfb/xo4di08//bTYaWxtbQW1VaNGDTx58kTpj18ulyM1NVXvL9J+l+XQvHlzGBoaIiEhQfQhxgvtAVNTUzg7OyMhIUHXpZSJgmNCjx8/Vvobf5/WOQDUrFkTtWrVEs16Z4j9PwsLC1hYWGikrVatWiEzMxNnz55VHBc7e/YsZDKZ3l+k/S7LITY2Fnl5eaI9QPymNy+0f/Pm00ePHhXFr1NNePnyJeLi4gTvfRA7BwcHWFtb4+jRo/jwww8BvF4Gp0+fxvz583VcXdlJTU3Fw4cPRfM5ZoiVQnJyMpKTkxEfHw/g9dmIGRkZsLOzg7m5ORo0aIBu3bph8uTJWL16NeRyOSZPnowePXqUmzMTb9++jYiICHh6eqJ69eq4efMm5syZg6ZNm6J169a6Lk8j3rcL7efMmYOPPvoItra2imNiWVlZ8PHx0XVpGpOZmanYwsjPz8e9e/dw+fJlmJubw87ODmPHjsXy5cshlUrh5OSEZcuWoUqVKvjkk090XHnpFTfP5ubmCA4ORt++fWFtbY07d+5g/vz5sLKywscff6zjyoXR60ex6KugoCAsXrxYZXhISAh8fX0BAGlpaZg5cyZ+/fVXAEDPnj2xZMkSmJmZlWmt2nLv3j34+fnh+vXrkMlkqF27Njw9PREQEABzc3Ndl6cxmzZtwurVq5GcnIyGDRvi22+/1fl1itoyfPhwnDp1CqmpqbC0tISbmxtmz54NZ2dnXZemMSdOnECfPn1Uhvv4+CA0NBRyuRzBwcHYtm0b0tPT0aJFCyxbtgyNGjXSQbWaUdw8r1ixAr6+vrh8+TIyMjJgbW2N9u3bY/bs2YIPn+gaQ4yIiESL14kREZFoMcSIiEi0GGJERCRaDDEiIhIthhgREYkWQ4yIiESLISZy4eHhigfZFVx8/aYTJ04oxv/1119lUpOOkqNKAAAQNElEQVSLiwvGjh2r9X7efohjjRo14O7ujjVr1iA/P79UbYaHh2PHjh0arfPEiRMICgoqdU0kTMHfeln9nZN+YIiVE1WrVsWuXbtUhu/atQtVq1bVQUVlJyoqCr///jv++9//omHDhggMDERISEip2tq5c6fKk2/f1cmTJ7F48WKGGJEWMMTKiY8//hgRERGQy/937fqLFy+wf//+Qq/WfxfZ2dkabe9d+3Jzc0PLli3h6emJLVu2QCqVIiwsrAyqo3cll8uRk5Oj6zJIxBhi5YS3tzfu3r2L06dPK4YdOHAAeXl5hd6wtnfv3ujdu7fK8Ld3BRbsroyOjsbQoUNhb2+Prl27KsaHhobCxcUF1tbW6NSpU5GPs09MTMSoUaPg6OiIGjVqoF27dti/f7/SNAW7B69du4aBAweidu3aSo97EcLAwABNmjTBvXv3lIYnJCTAz88PTZs2hY2NDZo1a4YpU6YgPT1daZlER0cjJiZGsYvyzWUkZB7e9uYtyiwtLRXtAkCbNm3w5ZdfKqbNyMhA9erVVW5x1KNHD6Xl8OzZM0yfPh3Ozs6oUaMG3NzcEBISovQDpjjZ2dlwdHTErFmzVMYVrO9bt24php08eRJ9+/aFra0tatWqhYEDB+LatWtK7zty5Ai8vLzQoEED1KxZE23atMHatWuRl5enNJ2Liwv8/PywY8cOtGzZElZWVjh8+LCgunNzc7Fq1Sq4u7vD2toajo6OGDRokFKtAJCVlYXp06ejXr16cHR0hJ+fn9J6BoCNGzeie/fuqFOnDuzt7dGtWzeVOpKSkmBmZoatW7di0aJFaNCgAezt7TF48GDcv39fpc8pU6agbt26sLW1ha+vL86cOQMzMzOVLXshy/PPP/9Ejx49YG9vj9q1a8PNza3QW90RbwBcbtjZ2aFt27bYvXs32rZtC+D1rsTevXujSpUq79y+n58fBg0ahLCwMOTm5gIAwsLCMGvWLAwZMgQDBw5EQkICRo4ciczMTKX33rt3D926dYOVlRW+/fZbWFpaYu/evfjiiy8QHh6OXr16KU0/ZMgQfP7555g0aRIMDNT/nXXnzh3UrVtXadjDhw9Ru3ZtRVAmJiZixYoV8PLywu+//w4AWL58Ofz8/JCXl4dVq1YBgGJXrLrzUOCLL77AgwcPsGPHDkRFRcHQ0FAxrn379kpfnCdPnoSxsTEePHiA+Ph4ODk5QSaT4Z9//kFwcDCA1zdwHTx4MC5duoRZs2ahcePGOHz4MGbPno3U1FQEBgaWuHyMjY3h6+uLsLAwzJ07FyYmJopx27Ztg4eHB+rXrw8AOHz4MIYMGQJPT09s2LABALB69Wr07NkT0dHRivvrJSYmokOHDvDz84OxsTEuXryIxYsXIzU1Fd98841S/ydOnMCVK1cwc+ZMWFlZwd7evsSagdf3djx48CDGjh2LTp064eXLlzh16hQePXqkqBcAAgIC0KNHD2zatAlxcXGYO3cuDAwMsH79esU0d+7cweeffw4HBwfk5uYiKioKgwcPRmRkpMpz1VasWAF3d3esW7cOKSkpmDNnDkaNGoVDhw4ppvH398fPP/+MgIAANG/eHMeOHcOoUaNU5kHI8kxMTISPjw/69euH6dOno0KFCkhISHivnrKtDoZYOeLt7Y05c+Zg8eLFSE9Px19//YUff/xRI2337dtX6XEU+fn5WLx4Mbp27YrvvvtOMdzS0hLDhw9Xem9wcDDkcjkOHjyoeEJw165dcf/+fXz77bcqATB69Gi1Tgwp+LWfnp6OsLAwXLx4Edu3b1eaxsPDQ+nGve7u7qhXrx569uyJS5cuoVmzZnB2dkbVqlWRl5eHli1bvtM8FKhduzZq1aoF4PVuTyOj/33k2rdvj40bN+LOnTuwt7fHiRMn0LFjR9y6dQsnTpyAk5MTTp8+jVevXikeh/Lbb7/h9OnTSjeb7tKlC7KysrBu3TqMHz9e0KN0hg8fjnXr1uHnn3+Gt7c3AODq1as4d+4cNm/erJguICAAHh4e+OGHH5TqdnV1xbp16xTh+uY6l8vlaNu2LXJycrB27VoEBgYq/Rgp+NtU51Efx44dw759+xAcHIwxY8Yohhd2p/W2bdti6dKlAF4vm/j4eISFhSE0NFTxfL+FCxcqps/Pz0fHjh0RHx+PLVu2qISYnZ0dNm3apHidmpqKr7/+Gg8fPkTNmjURFxeHyMhIfPPNN5g0aRIAoHPnzsjKysLGjRuV2hKyPC9duoScnBwsX74c1apVAwB07NhR8LJ633B3YjnSv39/5OTkICoqCpGRkbC2ttbYH//bXxb379/H/fv3lZ61BbwOuze/qIHXu0a6d++OatWqITc3V/Gva9euuHr1Kp49e1ZsXyWxtraGpaUlnJycMH/+fMydO1eljYIvhZYtW8LGxgaWlpbo2bMnABR6Vufb1J0HIdq1awcDAwMcP34cAHD8+HF06NABHTp0UBpmY2Oj2NI4deoUDAwMVB4N8umnnyInJwdnz54V1HfBU7i3bdumGLZt2zZYWloqjqH++++/uH37Nry8vJTmuXLlymjZsqXSruNHjx7B398fTZo0gZWVFSwtLbFw4UJkZGQgJSVFqW83Nze1n1V19OhRSCQSDB06tMRpe/ToofS6UaNGyM7OVnrA6cWLFzF48GBIpVJYWFjA0tISR48eLfRvobD2ACh2Wf/999+Qy+Xo16+f0nRvvxa6PF1cXFChQgWMGDECv/zyi8ryI2XcEitHqlatit69e2PXrl24c+cOvLy8SrU7rjA2NjZKr5OTkwG8for1m4yMjBRbKgVSUlKwa9euQs+eBICnT58qfnEW1ldJ/vjjDxgYGODBgwdYunQpvvnmGzRv3lzpYY7z5s3Dxo0bMWPGDLRq1QpVq1bF/fv38fnnn+Ply5cl9qHuPAhhbm6OJk2a4MSJE+jZsyeuX7+O9u3bw9raGgEBAQBe73p7cz7S0tJgbm4OY2NjpbYKQiEtLU1w/yNGjIC3tzeuXbsGBwcHREREYNiwYahYsaJingHgyy+/VDp2V6BgV2J+fj58fHzw6NEjBAQEQCqVolKlSjh48CCWLVumsnzVXb/A6+Vrbm6OSpUqlTjt248CKpifgjru3buHvn37wtnZGUuWLIGtrS2MjIywaNEi3Lx5U+32Cj4Lbz/9+e3PhtDlWa9ePezZswerV6/G6NGjkZ2djQ8//BDz5s1Du3btSpz/9w1DrJzx9vbGp59+ivz8fKXdQm8zMTHB8+fPVYa/fQC8QMFumAJvPsr9Tbm5uXj69KnSsOrVq6NNmzbw9/cvtO2aNWsW21dJXF1dYWRkhA8//BBt27aFm5sbZs6ciZMnTypCfO/evfD29sb06dMV73v72F1x1J0Hodq3b4+ffvoJJ06cQPXq1dGkSRPY2NggJSUFMTExuHz5stJDOM3NzZGWloacnBzFlynwvy/St39AFMfT0xP29vbYunUrXFxc8Pz5c6UTSAramjt3Ljp16qTy/goVKgB4/YDUCxcuYMOGDRg8eLBifMGz9N6m7voFXj9xPC0tDS9evBAUZMX5888/8ezZM2zduhW1a9dWDM/KyipVewWfhZSUFKXjz29/NoQuTwCKLfLs7GzExMQgKCgIgwcPxuXLlzX2BPrygrsTy5nOnTtjwIABGD58OBo2bFjkdHZ2doiPj1c6vTk6OrrQYCtM7dq1YWtri59//llp+L59+xQnfhTo2rUrYmNj4ezsjObNm6v8e3ur4l1Ur14dM2bMwLVr17Bv3z7F8KysLKUvCQCFXg9mbGyMFy9eqAx/l3koGFdYu+3bt8eDBw+wdetWtGvXDhKJBFZWVmjYsCGCgoKQl5eHDh06KKb38PBAfn6+ynKPjIxExYoVVY7lFcfAwADDhg3D7t27sXHjRnTq1EnphBipVAp7e3tcv3690Hlu0qQJgP99+b+5fF+9eoXIyEjBtZSkc+fOkMvlGrl0orB64+PjcebMmVK15+bmBolEgl9++UVp+NvrSOjyfJOxsTE6duyIiRMnQiaTISkpqVQ1lmfcEitnDA0Ni90CKzBw4EBs27YNEyZMwJAhQ5CUlISQkBDBu8QMDAwwY8YMTJw4EePGjcOgQYOQkJCAlStXqrTx1VdfoWvXrujVqxdGjRoFe3t7pKen4/r160hMTCz1hclFGTZsGNauXYulS5eiX79+kEgk6NatG3744Qc0atQI9erVw/79+ws9ftSgQQNs3rwZe/fuRd26dWFqagqpVPpO89CgQQMAwLp169C9e3cYGhqiefPmAF6fhGBoaIhjx45h2bJlive0a9cO33//PWxtbVGnTh3F8O7du6NNmzaYMmUKnjx5goYNG+K3335DWFgYpkyZovav9M8//xzBwcG4evWqSkBIJBIsW7YMQ4YMwatXr9C/f39YWFggJSUFZ86cga2tLSZMmIAGDRrAzs4OCxYsgKGhIYyMjJRO9tGEDh06oG/fvpg9ezbu37+PDh064NWrVzh16hQ8PT2VdrmWpFOnTjAyMsKYMWMwYcIEPHr0CEFBQbC1tS3VBelSqRReXl5YtGgR8vPz4erqiuPHjyMqKgoAFHsDhC7PLVu24NSpU+jevTtq166N1NRUrFy5EjVr1iz2h+n7ilti76kOHTpg5cqV+Pvvv+Ht7Y3w8HBs3LgRH3zwgeA2vvjiCwQFBeH48eMYMmQIwsPDsXnzZpU27OzscPToUTRp0gQLFizAgAEDMHXqVERHRyttZWiKsbExpk+fjtjYWBw4cAAAsGTJEvTs2RMLFizAsGHDkJmZWWjY+/v7K375du7cWbH78F3m4aOPPsLIkSOxefNmdO/eHZ07d1aMq1atGlxdXQFAqZ2C/7/95WxgYIDdu3fDx8cHq1evxqefforffvsNixYtwtdff632srK0tISHhwdsbGwKPcPS09MThw4dQlZWFiZOnIhBgwYhMDAQjx8/RqtWrQC8PkYUHh4Oa2trjBkzBtOnT0fbtm0xefJktespzpYtWxAQEICDBw/Cx8cHEyZMwI0bN9Q+xtawYUN8//33uHv3Lnx8fLBmzRp88803iktTSmPVqlX47LPPsHr1anz22We4fv264kfJmz/qhCzPJk2aQCaTYf78+Rg4cCBmzJgBBwcH7Nu37513pZZHkvT0dGFXSBJRuZOeno4mTZpgzJgxmDNnjq7LKVfWrFmDuXPn4vLly7Czs9N1OeUWdycSvYeePHmCuLg4rF+/Hvn5+Rg5cqSuSxK1qKgoXL9+HS4uLjAwMMCpU6ewbt06DBgwgAGmZQwxonImLy+v2FtQGRgY4PDhwxg/fjxsbW0RGhpaqtPeNUVIvZq6VERbTE1NcfDgQaxcuRJZWVmoWbMmRo8eXeitvUizuDuRqJxxcXHB3bt3ixw/c+ZMvfpyLbhnZVF8fHwQGhpahhWRmDDEiMqZ2NjYYu8Mb2NjU+rr2rQhLi6u2Gv2qlevDgcHhzKsiMSEIUZERKKl3zuaiYiIisEQIyIi0WKIERGRaDHEiIhItBhiREQkWv8Haet//6TS8O8AAAAASUVORK5CYII=\n",
      "text/plain": [
       "<figure size="" 432x288="" with="" 1="" axes="">"
      ]
     },
     "metadata": {},
     "output_type": "display_data"
    }
   ],
   "source": [
    "# Here is a histogram of the two-year changes for the states.\n",
    "# Since there are 50 states, each state contributes 2% to one bar.\n",
    "changes_by_state.hist(\"Murder Rate two_year_changes\", bins=np.arange(-11, 19, 2))"
   ]
  },
  {
   "cell_type": "markdown",
   "metadata": {},
   "source": [
    "Some states have more increases than decreases (a positive change), while some have more decreases than increases (a negative change). \n",
    "\n",
    "**Question 2.3.** <br>Assign `total_changes` to the total increases minus the total decreases for all two-year periods and all states in our data set. For example, if the murder rate in Ohio went up 23 times and fell 17 times, the total change for Ohio would be 6. We want the total value for all the states together."
   ]
  },
  {
   "cell_type": "code",
   "execution_count": 30,
   "metadata": {},
   "outputs": [
    {
     "name": "stdout",
     "output_type": "stream",
     "text": [
      "Total increases minus total decreases, across all states and years: 45\n"
     ]
    }
   ],
   "source": [
    "total_changes = sum(changes_by_state.column('Murder Rate two_year_changes'))\n",
    "print('Total increases minus total decreases, across all states and years:', total_changes)"
   ]
  },
  {
   "cell_type": "markdown",
   "metadata": {},
   "source": [
    "\"More increases than decreases,\" one person exclaims, \"Murder rates tend to go up across two-year periods. What dire times we live in.\"\n",
    "\n",
    "\"Not so fast,\" another person replies, \"Even if murder rates just moved up and down uniformly at random, there would be some difference between the increases and decreases. There were a lot of states and a lot of years, so there were many chances for changes to happen. If state murder rates increase and decrease at random with equal probability, perhaps this difference was simply due to chance!\"\n",
    "\n",
    "**Question 2.4.** <br>What is the total number of distinct pairs of a state and a two-year period? Assign `num_changes` to this value.\n",
    "\n",
    "For example, Alaska during 1968 to 1970 would count as one distinct pair. Considering all states and all possible two-year periods, how many such pairs are there in total? "
   ]
  },
  {
   "cell_type": "code",
   "execution_count": 31,
   "metadata": {},
   "outputs": [
    {
     "data": {
      "text/plain": [
       "2100"
      ]
     },
     "execution_count": 31,
     "metadata": {},
     "output_type": "execute_result"
    }
   ],
   "source": [
    "# murder_rates.group('State', two_year_changes )\n",
    "# run this first line and we can see from Year two_year_change = 42\n",
    "# or.....For each state, exclude first two years from counting the 2-year change. \n",
    "num_changes =  murder_rates.group('State').num_rows*42\n",
    "num_changes"
   ]
  },
  {
   "cell_type": "markdown",
   "metadata": {},
   "source": [
    "We now have enough information to perform a hypothesis test.\n",
    "\n",
    "&gt; **Null Hypothesis**: State murder rates increase and decrease over two-year periods as if \n",
    "\"increase\" or \"decrease\" were sampled at random from a uniform distribution, like a fair coin flip.\n",
    "\n",
    "Murder rates can be more likely to go up or more likely to go down. Since we observed 45 more increases than decreases for all two year periods in our dataset, we formulate an alternative hypothesis in accordance with our suspicion:\n",
    "\n",
    "&gt; **Alternative Hypothesis**: State murder rates are more likely to increase over two-year periods.\n",
    "\n",
    "If we had observed more decreases than increases, our alternative hypothesis would have been defined accordingly (that state murder rates are more likely to *decrease*). This is typical in statistical testing - we first observe a trend in the data and then run a hypothesis test to confirm or reject that trend.\n",
    "\n",
    "*Technical note*: These changes in murder rates are not random samples from any population. They describe all murders in all states over all recent years. However, we can imagine that history could have been different, and that the observed changes are the values observed in only one possible world: the one that happened to occur. In this sense, we can evaluate whether the observed \"total increases minus total decreases\" is consistent with a hypothesis that increases and decreases are drawn at random from a uniform distribution.\n",
    "\n",
    "*Important requirements for our test statistic:* We want to choose a test statistic for which large positive values are evidence in favor of the alternative hypothesis, and other values are evidence in favor of the null hypothesis. This is because once we've determined the direction of our alternative hypothesis, we only care about the tail in that direction. If, for example, our p-value cutoff was 5%, we'd check to see if our observed test statistic fell within the largest 5% of values in our null hypothesis distribution. \n",
    "\n",
    "Our test statistic should depend only on whether murder rates increased or decreased, not on the size of any change. Thus we choose:\n",
    "\n",
    "&gt; **Test Statistic**: The number of increases minus the number of decreases"
   ]
  },
  {
   "cell_type": "markdown",
   "metadata": {},
   "source": [
    "The cell below samples increases and decreases at random from a uniform distribution 100 times. The final column of the resulting table gives the number of increases and decreases that resulted from sampling in this way. **Using `sample_from_distribution` is faster than using `sample` followed by `group` to compute the same result.**"
   ]
  },
  {
   "cell_type": "code",
   "execution_count": 28,
   "metadata": {},
   "outputs": [
    {
     "data": {
      "text/html": [
       "\n",
       "    \n",
       "        \n",
       "            \n",
       "        \n",
       "    \n",
       "    \n",
       "        \n",
       "            \n",
       "        \n",
       "        \n",
       "            \n",
       "        \n",
       "    \n",
       "<table border="\&quot;1\&quot;" class="\&quot;dataframe\&quot;"><thead><tr><th>Change</th> <th>Chance</th> <th>Chance sample</th></tr></thead><tbody><tr><td>Increase</td> <td>0.5   </td> <td>42           </td></tr><tr><td>Decrease</td> <td>0.5   </td> <td>58           </td></tr></tbody></table>"
      ],
      "text/plain": [
       "Change   | Chance | Chance sample\n",
       "Increase | 0.5    | 42\n",
       "Decrease | 0.5    | 58"
      ]
     },
     "execution_count": 28,
     "metadata": {},
     "output_type": "execute_result"
    }
   ],
   "source": [
    "uniform = Table().with_columns(\n",
    "    \"Change\", make_array('Increase', 'Decrease'),\n",
    "    \"Chance\", make_array(0.5,        0.5))\n",
    "uniform.sample_from_distribution('Chance', 100)"
   ]
  },
  {
   "cell_type": "markdown",
   "metadata": {},
   "source": [
    "**Question 2.5.** <br>Complete the simulation below, which samples `num_changes` increases/decreases at random many times and forms an empirical distribution of your test statistic under the null hypothesis.  Your job is to\n",
    "* fill in the function `simulate_under_null`, which simulates a single sample under the null hypothesis, and\n",
    "* fill in its argument when it's called below."
   ]
  },
  {
   "cell_type": "code",
   "execution_count": 29,
   "metadata": {},
   "outputs": [
    {
     "data": {
      "text/html": [
       "\n",
       "    \n",
       "        \n",
       "            \n",
       "        \n",
       "    \n",
       "    \n",
       "        \n",
       "            \n",
       "        \n",
       "        \n",
       "            \n",
       "        \n",
       "        \n",
       "            \n",
       "        \n",
       "        \n",
       "            \n",
       "        \n",
       "        \n",
       "            \n",
       "        \n",
       "        \n",
       "            \n",
       "        \n",
       "        \n",
       "            \n",
       "        \n",
       "        \n",
       "            \n",
       "        \n",
       "        \n",
       "            \n",
       "        \n",
       "        \n",
       "            \n",
       "        \n",
       "    \n",
       "<table border="\&quot;1\&quot;" class="\&quot;dataframe\&quot;"><thead><tr><th>Test statistic under null</th></tr></thead><tbody><tr><td>-62                      </td></tr><tr><td>46                       </td></tr><tr><td>-10                      </td></tr><tr><td>-74                      </td></tr><tr><td>-58                      </td></tr><tr><td>-48                      </td></tr><tr><td>26                       </td></tr><tr><td>132                      </td></tr><tr><td>16                       </td></tr><tr><td>-116                     </td></tr></tbody></table>\n",
       "<p>... (4990 rows omitted)</p>"
      ],
      "text/plain": [
       "Test statistic under null\n",
       "-62\n",
       "46\n",
       "-10\n",
       "-74\n",
       "-58\n",
       "-48\n",
       "26\n",
       "132\n",
       "16\n",
       "-116\n",
       "... (4990 rows omitted)"
      ]
     },
     "execution_count": 29,
     "metadata": {},
     "output_type": "execute_result"
    }
   ],
   "source": [
    "def simulate_under_null(num_chances_to_change):\n",
    "    \"\"\"Simulates some number changing several times, with an equal\n",
    "    chance to increase or decrease.  Returns the value of our\n",
    "    test statistic for these simulated changes.\n",
    "    \n",
    "    num_chances_to_change is the number of times the number changes.\n",
    "    \"\"\"\n",
    "    sample = uniform.sample_from_distribution('Chance', num_chances_to_change)\n",
    "    return sample.where('Change', 'Increase').column('Chance sample')- sample.where('Change', 'Decrease').column('Chance sample')\n",
    "\n",
    "uniform_samples = make_array()\n",
    "for i in np.arange(5000):\n",
    "    uniform_samples = np.append(uniform_samples, simulate_under_null(2100))\n",
    "\n",
    "simulated_changes = Table().with_column('Test statistic under null', uniform_samples)\n",
    "simulated_changes"
   ]
  },
  {
   "cell_type": "code",
   "execution_count": null,
   "metadata": {},
   "outputs": [],
   "source": [
    "# Run this cell to visualize the empirical distribution of \n",
    "# the test statistic under the null hypothesis.\n",
    "simulated_changes.hist(0, bins=np.arange(-100, 400+25, 25))"
   ]
  },
  {
   "cell_type": "markdown",
   "metadata": {},
   "source": [
    "**Question 2.6.** Looking at this histogram, draw a conclusion about whether murder rates basically increase as often as they decrease. (Remember that we're only concerned with the *postive direction* because it supports our alternative hypothesis.) You **do not** need to compute a P-value for this question.\n",
    "\n",
    "First, set `which_side` to `\"Right\"` or `\"Left\"` depending on which side of the histogram you need to look at to make your conclusion. \n",
    "\n",
    "\n",
    "Then, set `reject_null` to `True` if rates increase more than they decrease, and we can reject the null hypothesis. Set `reject_null` to `False` if the observed difference is typical under the null hypothesis."
   ]
  },
  {
   "cell_type": "markdown",
   "metadata": {},
   "source": [
    "### Please conclude here"
   ]
  },
  {
   "cell_type": "markdown",
   "metadata": {},
   "source": [
    "which_side = \"Right\"\n",
    "reject_null = False"
   ]
  },
  {
   "cell_type": "markdown",
   "metadata": {},
   "source": [
    "# Inference (Part 2)"
   ]
  },
  {
   "cell_type": "markdown",
   "metadata": {},
   "source": [
    "As a reminder of our hypothesis test, here are the null hypothesis, alternative hypothesis, and test statistic from Part 1.\n",
    "\n",
    "&gt; **Null Hypothesis**: State murder rates increase and decrease over two-year periods as if \n",
    "\"increase\" or \"decrease\" were sampled at random from a uniform distribution, like a fair coin flip.\n",
    "\n",
    "&gt; **Alternative Hypothesis**: State murder rates are more likely to increase over two-year periods.\n",
    "\n",
    "&gt; **Test Statistic**: The number of increases minus the number of decreases"
   ]
  },
  {
   "cell_type": "markdown",
   "metadata": {},
   "source": [
    "## 1. The death penalty\n",
    "\n",
    "Some US states have the death penalty, and others don't, and laws have changed over time. In addition to changes in murder rates, we will also consider whether the death penalty was in force in each state and each year.\n",
    "\n",
    "Using this information, we would like to investigate how the presence of the death penalty affects the murder rate of a state."
   ]
  },
  {
   "cell_type": "markdown",
   "metadata": {},
   "source": [
    "**Question 1.1.** <br>Describe this investigation in terms of an experiment. What population are we studying? What is the control group? What is the treatment group? What outcome are we measuring? Be precise!"
   ]
  },
  {
   "cell_type": "markdown",
   "metadata": {},
   "source": [
    "### Write your answers here.\n",
    "\n",
    "- Population: ...\n",
    "- Control Group: ...\n",
    "- Treatment Group: ...\n",
    "- Outcome: ..."
   ]
  },
  {
   "cell_type": "markdown",
   "metadata": {},
   "source": [
    "### A Natural Experiment\n",
    "We want to know whether the death penalty *causes* a change in the murder rate.  Why is it not sufficient to compare murder rates in places and times when the death penalty was in force with places and times when it wasn't?\n",
    "\n",
    "In order to attempt to **investigate the causal relationship** between the death penalty and murder rates, we're going to take advantage of a *natural experiment*.  A natural experiment happens when something other than experimental design applies a treatment to one group and not to another (control) group, and we have some hope that the treatment and control groups don't have any other systematic differences.\n",
    "\n",
    "Our natural experiment is this: in 1972, a Supreme Court decision called *Furman v. Georgia* banned the death penalty throughout the US.  Suddenly, many states went from having the death penalty to not having the death penalty.\n",
    "\n",
    "As a first step, let's see how murder rates changed before and after the court decision.  We'll define the test as follows:\n",
    "\n",
    "&gt; **Population:** All the states that had the death penalty before the 1972 abolition.  (There is no control group for the states that already lacked the death penalty in 1972, so we must omit them.)  This includes all US states **except** Alaska, Hawaii, Maine, Michigan, Wisconsin, and Minnesota.\n",
    "\n",
    "&gt; **Treatment group:** The states in that population, in the year after 1972.\n",
    "\n",
    "&gt; **Control group:** The states in that population, in the year before 1972.\n",
    "\n",
    "&gt; **Null hypothesis:** Each state's murder rate was equally likely to be higher or lower in the treatment period than in the control period.  (Whether the murder rate increased or decreased in each state was like the flip of a fair coin.)\n",
    "\n",
    "&gt; **Alternative hypothesis:** The murder rate was more likely to increase.\n",
    "\n",
    "Our alternative hypothesis is in keeping with our suspicion that murder rates increase when the death penalty is eliminated.  \n",
    "\n",
    "*Technical Note:* It's not clear that the murder rates were a \"sample\" from any larger population.  Again, it's useful to imagine that our data could have come out differently and to test the null hypothesis that the murder rates were equally likely to move up or down.\n",
    "\n",
    "The `death_penalty` table below describes whether each state allowed the death penalty in 1971."
   ]
  },
  {
   "cell_type": "code",
   "execution_count": 32,
   "metadata": {},
   "outputs": [
    {
     "data": {
      "text/html": [
       "\n",
       "    \n",
       "        \n",
       "            \n",
       "        \n",
       "    \n",
       "    \n",
       "        \n",
       "            \n",
       "        \n",
       "        \n",
       "            \n",
       "        \n",
       "        \n",
       "            \n",
       "        \n",
       "        \n",
       "            \n",
       "        \n",
       "        \n",
       "            \n",
       "        \n",
       "        \n",
       "            \n",
       "        \n",
       "        \n",
       "            \n",
       "        \n",
       "        \n",
       "            \n",
       "        \n",
       "        \n",
       "            \n",
       "        \n",
       "        \n",
       "            \n",
       "        \n",
       "    \n",
       "<table border="\&quot;1\&quot;" class="\&quot;dataframe\&quot;"><thead><tr><th>State</th> <th>Death Penalty</th></tr></thead><tbody><tr><td>Alabama    </td> <td>True         </td></tr><tr><td>Alaska     </td> <td>False        </td></tr><tr><td>Arizona    </td> <td>True         </td></tr><tr><td>Arkansas   </td> <td>True         </td></tr><tr><td>California </td> <td>True         </td></tr><tr><td>Colorado   </td> <td>True         </td></tr><tr><td>Connecticut</td> <td>True         </td></tr><tr><td>Delaware   </td> <td>True         </td></tr><tr><td>Florida    </td> <td>True         </td></tr><tr><td>Georgia    </td> <td>True         </td></tr></tbody></table>\n",
       "<p>... (40 rows omitted)</p>"
      ],
      "text/plain": [
       "State       | Death Penalty\n",
       "Alabama     | True\n",
       "Alaska      | False\n",
       "Arizona     | True\n",
       "Arkansas    | True\n",
       "California  | True\n",
       "Colorado    | True\n",
       "Connecticut | True\n",
       "Delaware    | True\n",
       "Florida     | True\n",
       "Georgia     | True\n",
       "... (40 rows omitted)"
      ]
     },
     "execution_count": 32,
     "metadata": {},
     "output_type": "execute_result"
    }
   ],
   "source": [
    "non_death_penalty_states = make_array('Alaska', 'Hawaii', 'Maine', 'Michigan', 'Wisconsin', 'Minnesota')\n",
    "def had_death_penalty_in_1971(state):\n",
    "    \"\"\"Returns True if the argument is the name of a state that had the death penalty in 1971.\"\"\"\n",
    "    # The implementation of this function uses a bit of syntax\n",
    "    # we haven't seen before.  Just trust that it behaves as its\n",
    "    # documentation claims.\n",
    "    return state not in non_death_penalty_states\n",
    "\n",
    "states = murder_rates.group('State').select('State')\n",
    "death_penalty = states.with_column('Death Penalty', states.apply(had_death_penalty_in_1971, 0))\n",
    "death_penalty"
   ]
  },
  {
   "cell_type": "code",
   "execution_count": 33,
   "metadata": {},
   "outputs": [
    {
     "data": {
      "text/plain": [
       "44"
      ]
     },
     "execution_count": 33,
     "metadata": {},
     "output_type": "execute_result"
    }
   ],
   "source": [
    "num_death_penalty_states = death_penalty.where(\"Death Penalty\", are.equal_to(True)).num_rows\n",
    "num_death_penalty_states"
   ]
  },
  {
   "cell_type": "markdown",
   "metadata": {},
   "source": [
    "**Question 1.2.** <br>Assign `death_penalty_murder_rates` to a table with the same columns and data as `murder_rates`, but that has only the rows for states that had the death penalty in 1971.\n",
    "\n",
    "The first 2 rows of your table should look like this:\n",
    "\n",
    "|State|Year|Population|Murder Rate|\n",
    "|-----|----|----------|-----------|\n",
    "|Alabama|1960|3,266,740|12.4|\n",
    "|Alabama|1961|3,302,000|12.9|"
   ]
  },
  {
   "cell_type": "code",
   "execution_count": 34,
   "metadata": {},
   "outputs": [
    {
     "data": {
      "text/html": [
       "\n",
       "    \n",
       "        \n",
       "            \n",
       "        \n",
       "    \n",
       "    \n",
       "        \n",
       "            \n",
       "        \n",
       "        \n",
       "            \n",
       "        \n",
       "        \n",
       "            \n",
       "        \n",
       "        \n",
       "            \n",
       "        \n",
       "        \n",
       "            \n",
       "        \n",
       "        \n",
       "            \n",
       "        \n",
       "        \n",
       "            \n",
       "        \n",
       "        \n",
       "            \n",
       "        \n",
       "        \n",
       "            \n",
       "        \n",
       "        \n",
       "            \n",
       "        \n",
       "    \n",
       "<table border="\&quot;1\&quot;" class="\&quot;dataframe\&quot;"><thead><tr><th>State</th> <th>Year</th> <th>Population</th> <th>Murder Rate</th></tr></thead><tbody><tr><td>Alabama</td> <td>1960</td> <td>3,266,740 </td> <td>12.4       </td></tr><tr><td>Alabama</td> <td>1961</td> <td>3,302,000 </td> <td>12.9       </td></tr><tr><td>Alabama</td> <td>1962</td> <td>3,358,000 </td> <td>9.4        </td></tr><tr><td>Alabama</td> <td>1963</td> <td>3,347,000 </td> <td>10.2       </td></tr><tr><td>Alabama</td> <td>1964</td> <td>3,407,000 </td> <td>9.3        </td></tr><tr><td>Alabama</td> <td>1965</td> <td>3,462,000 </td> <td>11.4       </td></tr><tr><td>Alabama</td> <td>1966</td> <td>3,517,000 </td> <td>10.9       </td></tr><tr><td>Alabama</td> <td>1967</td> <td>3,540,000 </td> <td>11.7       </td></tr><tr><td>Alabama</td> <td>1968</td> <td>3,566,000 </td> <td>11.8       </td></tr><tr><td>Alabama</td> <td>1969</td> <td>3,531,000 </td> <td>13.7       </td></tr></tbody></table>\n",
       "<p>... (1926 rows omitted)</p>"
      ],
      "text/plain": [
       "State   | Year | Population | Murder Rate\n",
       "Alabama | 1960 | 3,266,740  | 12.4\n",
       "Alabama | 1961 | 3,302,000  | 12.9\n",
       "Alabama | 1962 | 3,358,000  | 9.4\n",
       "Alabama | 1963 | 3,347,000  | 10.2\n",
       "Alabama | 1964 | 3,407,000  | 9.3\n",
       "Alabama | 1965 | 3,462,000  | 11.4\n",
       "Alabama | 1966 | 3,517,000  | 10.9\n",
       "Alabama | 1967 | 3,540,000  | 11.7\n",
       "Alabama | 1968 | 3,566,000  | 11.8\n",
       "Alabama | 1969 | 3,531,000  | 13.7\n",
       "... (1926 rows omitted)"
      ]
     },
     "execution_count": 34,
     "metadata": {},
     "output_type": "execute_result"
    }
   ],
   "source": [
    "death_penalty_murder_rates =  murder_rates.with_column('Death Penalty', murder_rates.apply(had_death_penalty_in_1971, 0)).where('Death Penalty', are.equal_to (True)).drop('Death Penalty')\n",
    "death_penalty_murder_rates"
   ]
  },
  {
   "cell_type": "markdown",
   "metadata": {},
   "source": [
    "The null hypothesis doesn't specify *how* the murder rate changes; it only talks about increasing or decreasing.  So, we will use the same test statistic we defined before."
   ]
  },
  {
   "cell_type": "markdown",
   "metadata": {},
   "source": [
    "**Question 1.3.** <br>Assign `test_stat_72` to the value of the test statistic for the years 1971 to 1973 using the states in `death_penalty_murder_rates`. As before, the test statistic is, \"the number of increases minus the number of decreases.\"\n",
    "\n",
    "*Hint:* It may be helpful to use multiple lines to work through each part of your solution. One way to proceed is to `group` using your `two_year_changes` function on a table that contains only the range of years you care about."
   ]
  },
  {
   "cell_type": "code",
   "execution_count": 35,
   "metadata": {},
   "outputs": [
    {
     "name": "stdout",
     "output_type": "stream",
     "text": [
      "Test statistic from 1971 to 1973: 22\n"
     ]
    }
   ],
   "source": [
    "test_stat_72 = death_penalty_murder_rates.where('Year', are.between(1971,1974)).group('State', two_year_changes)\n",
    "test_stat_72 = np.sum(test_stat_72.column('Murder Rate two_year_changes'))\n",
    "print('Test statistic from 1971 to 1973:', test_stat_72)"
   ]
  },
  {
   "cell_type": "markdown",
   "metadata": {},
   "source": [
    "**Question 1.4.** <br>Draw an empirical histogram of the statistic under the null hypothesis by simulating the test statistic 10,000 times.\n",
    "\n",
    "You may find the `simulate_under_null` function from part 1 useful, but this is a rewrite compacted version. \n",
    "**Please recomply!!!**"
   ]
  },
  {
   "cell_type": "code",
   "execution_count": 36,
   "metadata": {},
   "outputs": [],
   "source": [
    "def simulate_under_null(num_chances_to_change):\n",
    "    \"\"\"Simulates some number changing several times, with an equal\n",
    "    chance to increase or decrease.  Returns the value of your\n",
    "    test statistic for these simulated changes.\n",
    "    \n",
    "    num_chances_to_change is the number of times the number changes.\n",
    "    \"\"\"\n",
    "    uniform = Table().with_columns(\n",
    "        \"Change\", make_array('Increase', 'Decrease'),\n",
    "        \"Chance\", make_array(0.5,        0.5))\n",
    "    sample = uniform.sample_from_distribution('Chance', num_chances_to_change)\n",
    "    return sample.column(2).item(0) - sample.column(2).item(1)"
   ]
  },
  {
   "cell_type": "code",
   "execution_count": 37,
   "metadata": {},
   "outputs": [
    {
     "data": {
      "text/plain": [
       "array([ 4.,  6., -2., ...,  6.,  8., -6.])"
      ]
     },
     "execution_count": 37,
     "metadata": {},
     "output_type": "execute_result"
    }
   ],
   "source": [
    "samples = make_array()\n",
    "for i in np.arange(10000):\n",
    "    pre_samples = simulate_under_null(44) # num_chances_to_change is the number of times the number changes.= no. of states?\n",
    "    samples = np.append(samples, pre_samples) # out of the loop append  does not work\n",
    "samples"
   ]
  },
  {
   "cell_type": "code",
   "execution_count": 38,
   "metadata": {},
   "outputs": [
    {
     "data": {
      "image/png": "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\n",
      "text/plain": [
       "<figure size="" 432x288="" with="" 1="" axes="">"
      ]
     },
     "metadata": {},
     "output_type": "display_data"
    }
   ],
   "source": [
    "# Run this cell to draw an empirical histogram of the \n",
    "# statistic under the null hypothesis.\n",
    "Table().with_column('Test statistic under null', samples).hist(bins=np.arange(-4, 28+2, 2))"
   ]
  },
  {
   "cell_type": "markdown",
   "metadata": {},
   "source": [
    "**Question 1.5.** <br>Complete the analysis as follows:\n",
    "1. Compute a P-value.\n",
    "2. Using a 5% P-value cutoff, draw a conclusion about the null and alternative hypotheses.\n",
    "3. Describe your findings using simple, non-technical language. What does your analysis tell you about murder rates after the death penalty was suspended? What can you claim about causation from your statistical analysis?"
   ]
  },
  {
   "cell_type": "markdown",
   "metadata": {},
   "source": [
    "### Write your answers here.\n",
    "**P-value:** ...\n",
    "\n",
    "**Conclusion about the hypotheses:** ...\n",
    "\n",
    "**Findings:** ..."
   ]
  },
  {
   "cell_type": "code",
   "execution_count": null,
   "metadata": {},
   "outputs": [],
   "source": [
    "# Use this cell to compute the P-value \n",
    "#use 22 from Test statistic from 1971 to 1973\n",
    "np.count_nonzero(samples &gt;= 22)/10000\n",
    "\n",
    "#P-value: 0.06\n",
    "#Conclusion about the hypotheses: toward alternaltive\n",
    "#Findings: The murder rate was more likely to increase."
   ]
  },
  {
   "cell_type": "markdown",
   "metadata": {},
   "source": [
    "## 2. Further evidence\n",
    "\n",
    "So far, we have discovered evidence that when executions were outlawed, the murder rate increased in many more states than we would expect from random chance. We have also seen that across all states and all recent years, the murder rate goes up about as much as it goes down over two-year periods. \n",
    "\n",
    "These discoveries seem to support the claim that eliminating the death penalty increases the murder rate. Should we be convinced? Let's conduct some more tests to strengthen our claim.\n",
    "\n",
    "Conducting a test for this data set requires the following steps:\n",
    "\n",
    "1. Select a table containing murder rates for certain states and all years,\n",
    "2. Choose two years and compute the observed value of the test statistic,\n",
    "3. Simulate the test statistic under the null hypothesis that increases and decreases are drawn uniformly at random, then\n",
    "4. Compare the observed difference to the empirical distribution to compute a P-value."
   ]
  },
  {
   "cell_type": "markdown",
   "metadata": {},
   "source": [
    "This entire process can be expressed in a single function, called `run_test`. It takes the following arguments:\n",
    "\n",
    "- a table of murder `rates` for certain states, sorted by state and year like `murder_rates`\n",
    "- the year when the analysis starts (the comparison group is two years later)\n",
    "\n",
    "It prints out the observed test statistic and returns the P-value for this statistic under the null hypothesis.\n",
    "\n",
    "`run_test` works regardless of the direction of association in your alternative hypothesis by accounting for whether `observed_test_statistic` is negative or positive.\n",
    "\n",
    "Run the cell below to define `run_test`. Make sure you understand what it's doing and why."
   ]
  },
  {
   "cell_type": "code",
   "execution_count": 39,
   "metadata": {},
   "outputs": [
    {
     "name": "stdout",
     "output_type": "stream",
     "text": [
      "Test statistic 1971 to 1973 : 22\n"
     ]
    },
    {
     "data": {
      "text/plain": [
       "0.0006"
      ]
     },
     "execution_count": 39,
     "metadata": {},
     "output_type": "execute_result"
    }
   ],
   "source": [
    "def run_test(rates, start_year):\n",
    "    \"\"\"Prints out the observed test statistic and returns a P-value for this statistic under the null hypothesis\n",
    "    Parameters\n",
    "    ----------\n",
    "    rates : Table\n",
    "       A table of murder rates for certain states, sorted by state and year like murder_rates\n",
    "    start_year : int\n",
    "       The year when the analysis starts\n",
    "    \"\"\"\n",
    "    end_year = start_year + 2\n",
    "    observed_test_statistic = sum(rates.where('Year', are.between_or_equal_to(start_year, end_year)).select('State', 'Murder Rate').group('State', two_year_changes).column(1))\n",
    "    print('Test statistic', start_year, 'to', end_year, ':', observed_test_statistic)\n",
    "    num_states = rates.group('State').num_rows\n",
    "    \n",
    "    samples = []\n",
    "    for i in np.arange(5000):\n",
    "        samples.append(simulate_under_null(num_states))\n",
    "    samples = np.array(samples) # Convert from a list to an array\n",
    "    \n",
    "    if observed_test_statistic &gt; 0:\n",
    "        return sum(samples &gt;= observed_test_statistic) / len(samples)\n",
    "    elif observed_test_statistic &lt; 0:\n",
    "        return sum(samples &lt;= observed_test_statistic) / len(samples)\n",
    "    \n",
    "run_test(death_penalty_murder_rates, 1971)"
   ]
  },
  {
   "cell_type": "markdown",
   "metadata": {},
   "source": [
    "### The rest of the states\n",
    "\n",
    "We found a dramatic increase in murder rates for those states affected by the 1972 Supreme Court ruling, but what about the rest of the states? There were six states that had already outlawed execution at the time of the ruling.\n",
    "\n",
    "**Question 2.1.** Create a table called `non_death_penalty_murder_rates` with the same columns as `murder_rates` but only containing rows for the six states without the death penalty in 1971. Perform the same test on this table. **Then**, set `reject_null_2` to whether their murder rates were also more likely to increase from 1971 to 1973."
   ]
  },
  {
   "cell_type": "code",
   "execution_count": 40,
   "metadata": {},
   "outputs": [
    {
     "data": {
      "text/html": [
       "\n",
       "    \n",
       "        \n",
       "            \n",
       "        \n",
       "    \n",
       "    \n",
       "        \n",
       "            \n",
       "        \n",
       "        \n",
       "            \n",
       "        \n",
       "        \n",
       "            \n",
       "        \n",
       "        \n",
       "            \n",
       "        \n",
       "        \n",
       "            \n",
       "        \n",
       "        \n",
       "            \n",
       "        \n",
       "        \n",
       "            \n",
       "        \n",
       "        \n",
       "            \n",
       "        \n",
       "        \n",
       "            \n",
       "        \n",
       "        \n",
       "            \n",
       "        \n",
       "    \n",
       "<table border="\&quot;1\&quot;" class="\&quot;dataframe\&quot;"><thead><tr><th>State</th> <th>Year</th> <th>Population</th> <th>Murder Rate</th></tr></thead><tbody><tr><td>Alaska</td> <td>1960</td> <td>226,167   </td> <td>10.2       </td></tr><tr><td>Alaska</td> <td>1961</td> <td>234,000   </td> <td>11.5       </td></tr><tr><td>Alaska</td> <td>1962</td> <td>246,000   </td> <td>4.5        </td></tr><tr><td>Alaska</td> <td>1963</td> <td>248,000   </td> <td>6.5        </td></tr><tr><td>Alaska</td> <td>1964</td> <td>250,000   </td> <td>10.4       </td></tr><tr><td>Alaska</td> <td>1965</td> <td>253,000   </td> <td>6.3        </td></tr><tr><td>Alaska</td> <td>1966</td> <td>272,000   </td> <td>12.9       </td></tr><tr><td>Alaska</td> <td>1967</td> <td>272,000   </td> <td>9.6        </td></tr><tr><td>Alaska</td> <td>1968</td> <td>277,000   </td> <td>10.5       </td></tr><tr><td>Alaska</td> <td>1969</td> <td>282,000   </td> <td>10.6       </td></tr></tbody></table>\n",
       "<p>... (254 rows omitted)</p>"
      ],
      "text/plain": [
       "<ipython.core.display.html object="">"
      ]
     },
     "metadata": {},
     "output_type": "display_data"
    },
    {
     "name": "stdout",
     "output_type": "stream",
     "text": [
      "Test statistic 1971 to 1973 : 1\n"
     ]
    },
    {
     "data": {
      "text/plain": [
       "0.3552"
      ]
     },
     "execution_count": 40,
     "metadata": {},
     "output_type": "execute_result"
    }
   ],
   "source": [
    "non_death_penalty_murder_rates = murder_rates.with_column('Death Penalty', murder_rates.apply(had_death_penalty_in_1971, 0)).where('Death Penalty', are.equal_to (False)).drop('Death Penalty')\n",
    "non_death_penalty_murder_rates.show(10)\n",
    "run_test(non_death_penalty_murder_rates, 1971)"
   ]
  },
  {
   "cell_type": "markdown",
   "metadata": {},
   "source": [
    "### Please conclude here\n",
    "reject_null = False"
   ]
  },
  {
   "cell_type": "markdown",
   "metadata": {},
   "source": [
    "### The death penalty reinstated\n",
    "\n",
    "In 1976, the Supreme Court repealed its ban on the death penalty in its rulings on [a series of cases including Gregg v. Georgia](https://en.wikipedia.org/wiki/Gregg_v._Georgia), so the death penalty was reinstated where it was previously banned.  This generated a second natural experiment.  To the extent that the death penalty deters murder, reinstating it should decrease murder rates, just as banning it should increase them. Let's see what happened."
   ]
  },
  {
   "cell_type": "code",
   "execution_count": 41,
   "metadata": {},
   "outputs": [
    {
     "name": "stdout",
     "output_type": "stream",
     "text": [
      "Increases minus decreases from 1975 to 1977 (when the death penalty was reinstated) among death penalty states: -18\n",
      "Test statistic 1975 to 1977 : -18\n"
     ]
    },
    {
     "data": {
      "text/plain": [
       "0.0046"
      ]
     },
     "execution_count": 41,
     "metadata": {},
     "output_type": "execute_result"
    }
   ],
   "source": [
    "print(\"Increases minus decreases from 1975 to 1977 (when the death penalty was reinstated) among death penalty states:\",\n",
    "      sum(death_penalty_murder_rates.where('Year', are.between_or_equal_to(1975, 1977))\n",
    "                                    .group('State', two_year_changes)\n",
    "                                    .column(\"Murder Rate two_year_changes\")))\n",
    "run_test(death_penalty_murder_rates, 1975)"
   ]
  },
  {
   "cell_type": "markdown",
   "metadata": {},
   "source": [
    "**Question 2.2.** Now we've analyzed states where the death penalty went away and came back, as well as states where the death penalty was outlawed all along.  What do you conclude from  the results of the tests we have conducted so far? Does all the evidence consistently point toward one conclusion, or is there a contradiction?\n",
    "\n",
    "1) Our results point toward the conclusion that the death penalty moratorium increased murder rates.\n",
    "\n",
    "2) Our results point toward the conclusion that the death penalty moratorium increased murder rates, but we have not accounted for differences over time as a confounding factor.\n",
    "\n",
    "3) Our results don't allow us to make any conclusion about murder rates and death penalties.\n",
    "\n",
    "4) Our results point toward the conclusion that the death penalty moratorium didn't influence murder rates.\n",
    "\n",
    "5) None of these conclusions are valid, or multiple of these conclusions are valid"
   ]
  },
  {
   "cell_type": "markdown",
   "metadata": {},
   "source": [
    "### Please conclude here\n",
    "From above, we conclude to number 2"
   ]
  },
  {
   "cell_type": "markdown",
   "metadata": {},
   "source": [
    "## 3. Visualization\n",
    "\n",
    "While our analysis appears to support the conclusion that the death penalty deters murder, [a 2006 Stanford Law Review paper](http://users.nber.org/~jwolfers/papers/DeathPenalty%28SLR%29.pdf) argues the opposite: that historical murder rates do **not** provide evidence that the death penalty deters murderers.\n",
    "\n",
    "To understand their argument, we will draw a picture.  In fact, we've gone at this whole analysis rather backward; typically we should draw a picture first and ask precise statistical questions later!\n",
    "\n",
    "What plot should we draw?\n",
    "\n",
    "We know that we want to compare murder rates of states with and without the death penalty.  We know we should focus on the period around the two natural experiments of 1972 and 1976, and we want to understand the evolution of murder rates over time for those groups of states.  It might be useful to look at other time periods, so let's plot them all for good measure."
   ]
  },
  {
   "cell_type": "markdown",
   "metadata": {},
   "source": [
    "**Question 3.1.** <br>Create a table called `average_murder_rates` with 1 row for each year in `murder_rates`.  It should have 3 columns:\n",
    "* `Year`, the year,\n",
    "* `Death penalty states`, the average murder rate of the states that had the death penalty in 1971, and\n",
    "* `No death penalty states`, the average murder rate of the other states.\n",
    "\n",
    "`average_murder_rates` should be sorted in increasing order by year.  Its first three rows should look like:\n",
    "\n",
    "|Year|Death penalty states|No death penalty states|\n",
    "|-|-|-|\n",
    "|1960| | |\n",
    "|1961| | |\n",
    "|1962| | ||\n",
    "\n",
    "*Hint 1:*  It's easiest to use `pivot`. We don't expect you to account for differences in population.\n",
    "\n",
    "*Hint 2:* You can reorder columns in a table using `.select`."
   ]
  },
  {
   "cell_type": "code",
   "execution_count": 42,
   "metadata": {},
   "outputs": [
    {
     "data": {
      "text/html": [
       "\n",
       "    \n",
       "        \n",
       "            \n",
       "        \n",
       "    \n",
       "    \n",
       "        \n",
       "            \n",
       "        \n",
       "        \n",
       "            \n",
       "        \n",
       "        \n",
       "            \n",
       "        \n",
       "        \n",
       "            \n",
       "        \n",
       "        \n",
       "            \n",
       "        \n",
       "        \n",
       "            \n",
       "        \n",
       "        \n",
       "            \n",
       "        \n",
       "        \n",
       "            \n",
       "        \n",
       "        \n",
       "            \n",
       "        \n",
       "        \n",
       "            \n",
       "        \n",
       "    \n",
       "<table border="\&quot;1\&quot;" class="\&quot;dataframe\&quot;"><thead><tr><th>Year</th> <th>Death penalty states</th> <th>No death penalty states</th></tr></thead><tbody><tr><td>1960</td> <td>5.27955             </td> <td>3.55                   </td></tr><tr><td>1961</td> <td>4.77727             </td> <td>3.68333                </td></tr><tr><td>1962</td> <td>4.61591             </td> <td>2.33333                </td></tr><tr><td>1963</td> <td>4.61364             </td> <td>2.75                   </td></tr><tr><td>1964</td> <td>4.71136             </td> <td>3.4                    </td></tr><tr><td>1965</td> <td>4.82727             </td> <td>3.18333                </td></tr><tr><td>1966</td> <td>5.43182             </td> <td>4.51667                </td></tr><tr><td>1967</td> <td>5.875               </td> <td>3.73333                </td></tr><tr><td>1968</td> <td>6.27045             </td> <td>4.73333                </td></tr><tr><td>1969</td> <td>6.50227             </td> <td>4.73333                </td></tr></tbody></table>\n",
       "<p>... (34 rows omitted)</p>"
      ],
      "text/plain": [
       "Year | Death penalty states | No death penalty states\n",
       "1960 | 5.27955              | 3.55\n",
       "1961 | 4.77727              | 3.68333\n",
       "1962 | 4.61591              | 2.33333\n",
       "1963 | 4.61364              | 2.75\n",
       "1964 | 4.71136              | 3.4\n",
       "1965 | 4.82727              | 3.18333\n",
       "1966 | 5.43182              | 4.51667\n",
       "1967 | 5.875                | 3.73333\n",
       "1968 | 6.27045              | 4.73333\n",
       "1969 | 6.50227              | 4.73333\n",
       "... (34 rows omitted)"
      ]
     },
     "execution_count": 42,
     "metadata": {},
     "output_type": "execute_result"
    }
   ],
   "source": [
    "# For reference, our solution used 5 method calls\n",
    "''' see .pivot in datascience ....\n",
    "Table.pivot(columns, rows, values=None, collect=None, zero=None)[source]\n",
    "Generate a table with a column for each unique value in columns, with rows for each unique value in rows. \n",
    "Each row counts/aggregates the values that match both row and column based on collect.'''\n",
    "\n",
    "death_tbl = death_penalty_murder_rates.with_column('StateType', 'Death penalty states').pivot('StateType','Year',values = 'Murder Rate', collect = np.average ) \n",
    "non_death_tbl = non_death_penalty_murder_rates.with_column('StateType', ' No death penalty states').pivot('StateType','Year',values = 'Murder Rate', collect = np.average )\n",
    "average_murder_rates = death_tbl.with_column('No death penalty states',non_death_tbl.column(1) )\n",
    "average_murder_rates"
   ]
  },
  {
   "cell_type": "markdown",
   "metadata": {},
   "source": [
    "**Let's take a look at the line plot below. Are the murder rates in these two groups of states related?**"
   ]
  },
  {
   "cell_type": "code",
   "execution_count": 43,
   "metadata": {},
   "outputs": [
    {
     "data": {
      "image/png": "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\n",
      "text/plain": [
       "<figure size="" 432x288="" with="" 1="" axes="">"
      ]
     },
     "metadata": {},
     "output_type": "display_data"
    }
   ],
   "source": [
    "average_murder_rates.plot('Year')"
   ]
  },
  {
   "cell_type": "markdown",
   "metadata": {},
   "source": [
    "Yes, murder rates in the two groups of states are related as we can see that they share a similar trend in the plot above.\n",
    "\n",
    "Let's bring in another source of information: Canada."
   ]
  },
  {
   "cell_type": "code",
   "execution_count": 46,
   "metadata": {},
   "outputs": [
    {
     "data": {
      "image/png": "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\n",
      "text/plain": [
       "<figure size="" 432x288="" with="" 1="" axes="">"
      ]
     },
     "metadata": {},
     "output_type": "display_data"
    }
   ],
   "source": [
    "canada = Table.read_table('canada.csv')\n",
    "murder_rates_with_canada = average_murder_rates.join(\"Year\", canada.select(\"Year\", \"Homicide\").relabeled(\"Homicide\", \"Canada\"))\n",
    "murder_rates_with_canada.plot('Year')"
   ]
  },
  {
   "cell_type": "markdown",
   "metadata": {},
   "source": [
    "The line plot we generated above is similar to a figure from the [paper](http://users.nber.org/~jwolfers/papers/DeathPenalty%28SLR%29.pdf).\n",
    "\n",
    "<img src="./LadkraBang_2_solution.ipynb_files/_" alt="\&quot;Homicide" rates="" in="" the="" united="" states="" vs="" canada.\"="">\n",
    "\n",
    "Canada has not executed a criminal since 1962. Since 1967, the only crime that can be punished by execution in Canada is the murder of on-duty law enforcement personnel. The paper states, \"The most striking finding is that the homicide rate in Canada has moved in\n",
    "virtual lockstep with the rate in the United States.\""
   ]
  },
  {
   "cell_type": "markdown",
   "metadata": {},
   "source": [
    "From the plots, we can conclude that murder rates in the two countries moved together even around points where death penalty legislation was passed. This seems to suggest that other changes over time determined murder rates in both countries, rather than one or the other's legislation. This and the plots indicate that the death penalty is not an important factor in determining the murder rateFor more information, read the [paper](http://users.nber.org/~jwolfers/papers/DeathPenalty%28SLR%29.pdf)."
   ]
  },
  {
   "cell_type": "markdown",
   "metadata": {},
   "source": [
    "**Conclusion**. The authors that created this visualization argue that even though murder rates increased when the death penalty was taken away, and decreased when it was reintroduced, these changes were probably not caused by the death penalty itself."
   ]
  }
 ],
 "metadata": {
  "kernelspec": {
   "display_name": "Python 3",
   "language": "python",
   "name": "python3"
  },
  "language_info": {
   "codemirror_mode": {
    "name": "ipython",
    "version": 3
   },
   "file_extension": ".py",
   "mimetype": "text/x-python",
   "name": "python",
   "nbconvert_exporter": "python",
   "pygments_lexer": "ipython3",
   "version": "3.7.1"
  }
 },
 "nbformat": 4,
 "nbformat_minor": 2
}
</figure></figure></ipython.core.display.html></figure></figure></u14')"></figure></figure></figure></figure></figure></body></html>