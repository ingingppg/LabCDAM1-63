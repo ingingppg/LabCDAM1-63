{
 "cells": [
  {
   "cell_type": "markdown",
   "metadata": {},
   "source": [
    "# Foundation for Analysis in the Health Data\n",
    "\n",
    "This practice is modified from BerkeleyX Data8x(edX)'s practice labs.\n",
    "\n",
    "## Lab 1: Basic Randomization, Probabilty & Simulation\n",
    "\n",
    "- iteration and simulations\n",
    "\n",
    "- introduce the concept of randomness.\n",
    "\n",
    "\n",
    "First, set up the tests and imports by running the cell below.\n",
    "\n",
    "(Notice that you have to add datascience package for following the example in this lab. You can find detail in http://data8.org/datascience/tables.html)\n"
   ]
  },
  {
   "cell_type": "code",
   "execution_count": null,
   "metadata": {},
   "outputs": [],
   "source": [
    "import numpy as np\n",
    "from datascience import *"
   ]
  },
  {
   "cell_type": "markdown",
   "metadata": {},
   "source": [
    "## 1. Counting and Conditionals"
   ]
  },
  {
   "cell_type": "code",
   "execution_count": null,
   "metadata": {},
   "outputs": [],
   "source": [
    "nachos = make_array('cheese', 'salsa', 'both', 'neither')\n",
    "np.random.choice(nachos)"
   ]
  },
  {
   "cell_type": "markdown",
   "metadata": {},
   "source": [
    "### Practice 1.1 - Counting\n",
    "\n",
    "Assume we took ten nachos at random, and stored the results in an array called ten_nachos as done below. Find the number of nachos with only cheese using code (do not hardcode the answer).\n",
    "\n",
    "Hint: Solution involves a comparison operator and the np.count_nonzero method"
   ]
  },
  {
   "cell_type": "code",
   "execution_count": null,
   "metadata": {},
   "outputs": [],
   "source": [
    "ten_nachos = make_array('neither', 'cheese', 'both', 'both', 'cheese', 'salsa', 'both', 'neither', 'cheese', 'both')\n",
    "number_cheese ="
   ]
  },
  {
   "cell_type": "markdown",
   "metadata": {},
   "source": [
    "### Practice 1.2 - Conditional statements\n",
    "\n",
    "Complete the following conditional statement so that the string 'More please' is assigned to say_please if the number of nachos with cheese in ten_nachos is less than 5. \n",
    "\n",
    "Hint: You should not have to reference the variable ten_nachos."
   ]
  },
  {
   "cell_type": "code",
   "execution_count": null,
   "metadata": {},
   "outputs": [],
   "source": [
    "say_please = '?'\n",
    "\n",
    "if .............:\n",
    "    say_please = 'More please'\n",
    "    \n",
    "say_please"
   ]
  },
  {
   "cell_type": "markdown",
   "metadata": {},
   "source": [
    "### Practice 1.3 - Write a function\n",
    "\n",
    "Write a function called nacho_reaction that returns a string based on the type of nacho passed in as an argument. From top to bottom, the conditions should correspond to: 'cheese', 'salsa', 'both', 'neither'. "
   ]
  },
  {
   "cell_type": "code",
   "execution_count": null,
   "metadata": {},
   "outputs": [],
   "source": [
    "def nacho_reaction(nacho):\n",
    "    if .................:\n",
    "        return ..........\n",
    "    elif ................:\n",
    "        return ..........\n",
    "    elif ................:\n",
    "        return ..........\n",
    "    else: \n",
    "        .............\n",
    "        return ......\n",
    "\n",
    "spicy_nacho = nacho_reaction('salsa')\n",
    "spicy_nacho"
   ]
  },
  {
   "cell_type": "markdown",
   "metadata": {},
   "source": [
    "### Practice 1.4 - Add column to form a table\n",
    "\n",
    "Add a column 'Reactions' to the table ten_nachos_reactions that consists of reactions for each of the nachos in ten_nachos.\n",
    "\n",
    "Hint: Use the apply method\n"
   ]
  },
  {
   "cell_type": "code",
   "execution_count": null,
   "metadata": {},
   "outputs": [],
   "source": [
    "ten_nachos_reactions = Table().with_columns('Nachos', ten_nachos)\n",
    "\n",
    "ten_nachos_reactions = Table().with_columns(\n",
    "    'Nachos', .......,\n",
    "    'Reactions',..........(nacho_reaction, ......)\n",
    ")\n",
    "\n",
    "ten_nachos_reactions"
   ]
  },
  {
   "cell_type": "markdown",
   "metadata": {},
   "source": [
    "### Practice 1.5 - Counting (again)\n",
    "\n",
    "Using code, find the number of 'Wow!' reactions for the nachos in ten_nachos_reactions."
   ]
  },
  {
   "cell_type": "code",
   "execution_count": null,
   "metadata": {},
   "outputs": [],
   "source": [
    "number_wow_reactions = ..............(.........== 'Wow!')\n",
    "number_wow_reactions"
   ]
  },
  {
   "cell_type": "markdown",
   "metadata": {},
   "source": [
    "## 2. Simulations and For Loops\n",
    "\n",
    "Using a for statement, we can perform a task multiple times. This is known as iteration. Here, we'll simulate drawing different suits from a deck of cards. \n",
    "\n",
    "The for loop appends a random draw to the draws array for every number in np.arange(repetitions).\n",
    "What we did? We had a deck of 4 cards of different suits, we randomly drew one card, saw the suit, kept track of it in draws, and put the card back into the deck. We repeated this for a total of 6 times without having to repeat code. \n",
    "\n",
    "We simulated this experiment using a for loop. "
   ]
  },
  {
   "cell_type": "code",
   "execution_count": null,
   "metadata": {},
   "outputs": [],
   "source": [
    "suits = make_array(\"♤\", \"♡\", \"♢\", \"♧\")\n",
    "\n",
    "draws = make_array()\n",
    "\n",
    "repetitions = 6\n",
    "\n",
    "for i in np.arange(repetitions):\n",
    "    draws = np.append(draws, np.random.choice(suits))\n",
    "\n",
    "draws"
   ]
  },
  {
   "cell_type": "markdown",
   "metadata": {},
   "source": [
    "Another use of iteration is to loop through a set of values. "
   ]
  },
  {
   "cell_type": "code",
   "execution_count": null,
   "metadata": {},
   "outputs": [],
   "source": [
    "rainbow = make_array(\"red\", \"orange\", \"yellow\", \"green\", \"blue\", \"indigo\", \"violet\")\n",
    "\n",
    "for color in rainbow:\n",
    "    print(color)"
   ]
  },
  {
   "cell_type": "markdown",
   "metadata": {},
   "source": [
    "### Practice 2.1 - Simulation\n",
    "\n",
    "Clay is playing darts. His dartboard contains ten equal-sized zones with point values from 1 to 10. Write code that simulates his total score after 1000 dart tosses. Make sure to use a for loop.\n",
    "\n",
    "Hint: There are three steps to this problem (and most simulations):\n",
    "\n",
    "    Deciding the possible values you can take in the experiment (point values in this case)\n",
    "    Running through the experiment a certain amount of times (running through 1000 dart tosses, and randomly getting a value per toss in this case)\n",
    "    Keeping track of the total information of each time you ran through the experiment (the total score in this case)\n",
    "\n"
   ]
  },
  {
   "cell_type": "code",
   "execution_count": null,
   "metadata": {},
   "outputs": [],
   "source": [
    "possible_point_values = make_array(1,2,3,4,5,6,7,8,9,10)\n",
    "total_score = make_array()\n",
    "tosses = 1000\n",
    "\n",
    "for ...............:\n",
    "    total_score = .......................(possible_point_values)\n",
    "\n",
    "total_score"
   ]
  },
  {
   "cell_type": "markdown",
   "metadata": {},
   "source": [
    "### Practice 2.2 - Counting words\n",
    "\n",
    "In the following cell, we've loaded the text of Pride and Prejudice by Jane Austen from https://www.inferentialthinking.com/data/little_women.txt, split it into individual words, and stored these words in an array. Using a for loop, assign longer_than_five to the number of words in the novel that are more than 5 letters long.\n",
    "\n",
    "Hint: You can find the number of letters in a word with the len function.\n"
   ]
  },
  {
   "cell_type": "code",
   "execution_count": null,
   "metadata": {},
   "outputs": [],
   "source": [
    "austen_string =....................................read()\n",
    "p_and_p_words = np.array(austen_string.split())\n",
    "\n",
    "first_longer_than_five = make_array()\n",
    "\n",
    "for .....................:    \n",
    "     if .......................:\n",
    "        first_longer_than_five = np.append(first_longer_than_five, ..................)\n",
    "    \n",
    "longer_than_five = ......................\n",
    "\n",
    "longer_than_five"
   ]
  },
  {
   "cell_type": "markdown",
   "metadata": {},
   "source": [
    "### Practice 2.3 - Using simulation to estimate the chance\n",
    "\n",
    "Using simulation with 10,000 trials, assign chance_of_all_different to an estimate of the chance that if you pick three words from Pride and Prejudice uniformly at random (with replacement), they all have different lengths.\n",
    "\n",
    "Hint: Remember that != only checks for non-equality between two items, not three. However, you can use != more than once in the same line.\n",
    "\n",
    "For example, 2 != 3 != 4 first checks for non-equality between 2 and 3, then 3 and 4, but NOT 2 and 4.\n"
   ]
  },
  {
   "cell_type": "code",
   "execution_count": null,
   "metadata": {},
   "outputs": [],
   "source": [
    "trials = 10000\n",
    "different = make_array()\n",
    "\n",
    "for .................:\n",
    "    first_different = ..............................\n",
    "    if ......................:\n",
    "        different = np.append(different,'All different')\n",
    "    else:different = np.append(different,'Not all different')\n",
    "\n",
    "chance_of_all_different = np.count_nonzero(different == 'All different')/trials\n",
    "\n",
    "chance_of_all_different"
   ]
  },
  {
   "cell_type": "markdown",
   "metadata": {},
   "source": [
    "## 3. Finding Probabilities\n",
    "\n",
    "Clay decides to go to a food court for dinner. Today's menu has Clay's four favorite foods: enchiladas, hamburgers, pizza, and spaghetti. However, each dish has a 30% chance of running out before Clay can get to the food court.\n"
   ]
  },
  {
   "cell_type": "markdown",
   "metadata": {},
   "source": [
    "### Practice 3.1 - Probability (1)\n",
    "\n",
    "What is the probability that Clay will be able to eat pizza at the food court?"
   ]
  },
  {
   "cell_type": "code",
   "execution_count": null,
   "metadata": {},
   "outputs": [],
   "source": [
    "pizza_prob = ..........\n",
    "pizza_prob "
   ]
  },
  {
   "cell_type": "markdown",
   "metadata": {},
   "source": [
    "### Practice 3.2 - Probability (2)\n",
    "\n",
    "What is the probability that Clay will be able to eat all four of these foods at the food court?"
   ]
  },
  {
   "cell_type": "code",
   "execution_count": null,
   "metadata": {},
   "outputs": [],
   "source": [
    "all_prob = ..................\n",
    "all_prob"
   ]
  },
  {
   "cell_type": "markdown",
   "metadata": {},
   "source": [
    "### Practice 3.3 - Probability (3)\n",
    "\n",
    "What is the probability that the food court will have run out of something before Clay can get there?"
   ]
  },
  {
   "cell_type": "code",
   "execution_count": null,
   "metadata": {},
   "outputs": [],
   "source": [
    "something_is_out = ...................\n",
    "something_is_out"
   ]
  },
  {
   "cell_type": "markdown",
   "metadata": {},
   "source": [
    "### Practice 3.4 - Probability (4)\n",
    "\n",
    "To make up for their unpredictable food supply, the food court decides to hold a contest for some free food. There is a bag with two red marbles, two green marbles, and two blue marbles. Clay has to draw three marbles separately. In order to win, all three of these marbles must be of different colors.\n",
    "\n",
    "What is the probability of Clay winning the contest?"
   ]
  },
  {
   "cell_type": "code",
   "execution_count": null,
   "metadata": {},
   "outputs": [],
   "source": [
    "winning_prob = .................\n",
    "winning_prob"
   ]
  },
  {
   "cell_type": "code",
   "execution_count": null,
   "metadata": {},
   "outputs": [],
   "source": []
  }
 ],
 "metadata": {
  "kernelspec": {
   "display_name": "Python 3",
   "language": "python",
   "name": "python3"
  },
  "language_info": {
   "codemirror_mode": {
    "name": "ipython",
    "version": 3
   },
   "file_extension": ".py",
   "mimetype": "text/x-python",
   "name": "python",
   "nbconvert_exporter": "python",
   "pygments_lexer": "ipython3",
   "version": "3.6.4"
  }
 },
 "nbformat": 4,
 "nbformat_minor": 2
}
